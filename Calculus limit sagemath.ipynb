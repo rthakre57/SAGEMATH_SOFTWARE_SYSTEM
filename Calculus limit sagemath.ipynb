{
 "cells": [
  {
   "cell_type": "code",
   "execution_count": 1,
   "id": "de5fde",
   "metadata": {
    "collapsed": false
   },
   "outputs": [
    {
     "data": {
      "text/html": [
       "<html>\\(\\displaystyle x \\ {\\mapsto}\\ x^{2} e^{\\left(-x\\right)} + x^{2} \\sin\\left(2 \\, x\\right) + x^{2} - x + 3\\)</html>"
      ],
      "text/latex": [
       "$\\displaystyle x \\ {\\mapsto}\\ x^{2} e^{\\left(-x\\right)} + x^{2} \\sin\\left(2 \\, x\\right) + x^{2} - x + 3$"
      ],
      "text/plain": [
       "x |--> x^2*e^(-x) + x^2*sin(2*x) + x^2 - x + 3"
      ]
     },
     "execution_count": 1,
     "metadata": {
     },
     "output_type": "execute_result"
    }
   ],
   "source": [
    "# One Variable Calculus with SageMath\n",
    "# Example: Explore the function f(x) = x sin 2x + x^2e−x + x2 − x + 3\n",
    "f(x) = x^2*sin(2*x)+x^2*exp(-x)+x^2-x+3\n",
    "show(f)"
   ]
  },
  {
   "cell_type": "code",
   "execution_count": 2,
   "id": "73a939",
   "metadata": {
    "collapsed": false
   },
   "outputs": [
    {
     "data": {
      "text/plain": [
       "x |--> +Infinity"
      ]
     },
     "execution_count": 2,
     "metadata": {
     },
     "output_type": "execute_result"
    }
   ],
   "source": [
    "a = -oo\n",
    "f.limit(x=a,dir='-')\n"
   ]
  },
  {
   "cell_type": "code",
   "execution_count": 3,
   "id": "f99a41",
   "metadata": {
    "collapsed": false
   },
   "outputs": [
    {
     "data": {
      "text/plain": [
       "x |--> +Infinity"
      ]
     },
     "execution_count": 3,
     "metadata": {
     },
     "output_type": "execute_result"
    }
   ],
   "source": [
    "a = oo\n",
    "f.limit(x=a)"
   ]
  },
  {
   "cell_type": "code",
   "execution_count": 4,
   "id": "ff4fb7",
   "metadata": {
    "collapsed": false
   },
   "outputs": [
    {
     "data": {
      "text/plain": [
       "4.27717686799712"
      ]
     },
     "execution_count": 4,
     "metadata": {
     },
     "output_type": "execute_result"
    }
   ],
   "source": [
    "limit(f(x),x=1).n()"
   ]
  },
  {
   "cell_type": "code",
   "execution_count": 5,
   "id": "69287f",
   "metadata": {
    "collapsed": false
   },
   "outputs": [
    {
     "data": {
      "text/html": [
       "<html>\\(\\displaystyle 2 \\, x^{2} \\cos\\left(2 \\, x\\right) - x^{2} e^{\\left(-x\\right)} + 2 \\, x e^{\\left(-x\\right)} + 2 \\, x \\sin\\left(2 \\, x\\right) + 2 \\, x - 1\\)</html>"
      ],
      "text/latex": [
       "$\\displaystyle 2 \\, x^{2} \\cos\\left(2 \\, x\\right) - x^{2} e^{\\left(-x\\right)} + 2 \\, x e^{\\left(-x\\right)} + 2 \\, x \\sin\\left(2 \\, x\\right) + 2 \\, x - 1$"
      ],
      "text/plain": [
       "2*x^2*cos(2*x) - x^2*e^(-x) + 2*x*e^(-x) + 2*x*sin(2*x) + 2*x - 1"
      ]
     },
     "execution_count": 5,
     "metadata": {
     },
     "output_type": "execute_result"
    }
   ],
   "source": [
    "df = f.diff()\n",
    "show(df(x))"
   ]
  },
  {
   "cell_type": "code",
   "execution_count": 6,
   "id": "265402",
   "metadata": {
    "collapsed": false
   },
   "outputs": [
    {
     "data": {
      "text/html": [
       "<html>\\(\\displaystyle x^{2} e^{\\left(-x\\right)} - 4 \\, x^{2} \\sin\\left(2 \\, x\\right) + 8 \\, x \\cos\\left(2 \\, x\\right) - 4 \\, x e^{\\left(-x\\right)} + 2 \\, e^{\\left(-x\\right)} + 2 \\, \\sin\\left(2 \\, x\\right) + 2\\)</html>"
      ],
      "text/latex": [
       "$\\displaystyle x^{2} e^{\\left(-x\\right)} - 4 \\, x^{2} \\sin\\left(2 \\, x\\right) + 8 \\, x \\cos\\left(2 \\, x\\right) - 4 \\, x e^{\\left(-x\\right)} + 2 \\, e^{\\left(-x\\right)} + 2 \\, \\sin\\left(2 \\, x\\right) + 2$"
      ],
      "text/plain": [
       "x^2*e^(-x) - 4*x^2*sin(2*x) + 8*x*cos(2*x) - 4*x*e^(-x) + 2*e^(-x) + 2*sin(2*x) + 2"
      ]
     },
     "execution_count": 6,
     "metadata": {
     },
     "output_type": "execute_result"
    }
   ],
   "source": [
    "d2f = f.diff(2)\n",
    "show(d2f(x))"
   ]
  },
  {
   "cell_type": "code",
   "execution_count": 7,
   "id": "482b3c",
   "metadata": {
    "collapsed": false
   },
   "outputs": [
    {
     "data": {
      "text/plain": [
       "x |--> 2*x^2*cos(2*x) - x^2*e^(-x) + 2*x*e^(-x) + 2*x*sin(2*x) + 2*x - 1"
      ]
     },
     "execution_count": 7,
     "metadata": {
     },
     "output_type": "execute_result"
    }
   ],
   "source": [
    "f.derivative()"
   ]
  },
  {
   "cell_type": "code",
   "execution_count": 8,
   "id": "80b80c",
   "metadata": {
    "collapsed": false
   },
   "outputs": [
    {
     "data": {
      "text/plain": [
       "x |--> 1/3*x^3 - 1/2*x^2 - 1/4*(2*x^2 - 1)*cos(2*x) - (x^2 + 2*x + 2)*e^(-x) + 1/2*x*sin(2*x) + 3*x"
      ]
     },
     "execution_count": 8,
     "metadata": {
     },
     "output_type": "execute_result"
    }
   ],
   "source": [
    "f.integral(x)"
   ]
  },
  {
   "cell_type": "code",
   "execution_count": 9,
   "id": "2809e7",
   "metadata": {
    "collapsed": false
   },
   "outputs": [
    {
     "data": {
      "text/plain": [
       "x |--> 1/3*x^3 - 1/2*x^2 - 1/4*(2*x^2 - 1)*cos(2*x) - (x^2 + 2*x + 2)*e^(-x) + 1/2*x*sin(2*x) + 3*x"
      ]
     },
     "execution_count": 9,
     "metadata": {
     },
     "output_type": "execute_result"
    }
   ],
   "source": [
    "f.integrate(x)"
   ]
  },
  {
   "cell_type": "code",
   "execution_count": 10,
   "id": "9ceb4e",
   "metadata": {
    "collapsed": false
   },
   "outputs": [
    {
     "data": {
      "text/plain": [
       "3.30262155002575"
      ]
     },
     "execution_count": 10,
     "metadata": {
     },
     "output_type": "execute_result"
    }
   ],
   "source": [
    "f.integral(x,0,1).n()"
   ]
  },
  {
   "cell_type": "code",
   "execution_count": 11,
   "id": "20330f",
   "metadata": {
    "collapsed": false
   },
   "outputs": [
    {
     "data": {
      "text/plain": [
       "x |--> -3/2*x^5 + 1/2*x^4 + x^3 + 2*x^2 - x + 3"
      ]
     },
     "execution_count": 11,
     "metadata": {
     },
     "output_type": "execute_result"
    }
   ],
   "source": [
    "f.taylor(x,0,5)"
   ]
  },
  {
   "cell_type": "code",
   "execution_count": 12,
   "id": "2256ea",
   "metadata": {
    "collapsed": false
   },
   "outputs": [
    {
     "data": {
      "text/html": [
       "<html>\\(\\displaystyle x \\ {\\mapsto}\\ \\frac{\\cos\\left(x\\right) - 1}{x^{2}}\\)</html>"
      ],
      "text/latex": [
       "$\\displaystyle x \\ {\\mapsto}\\ \\frac{\\cos\\left(x\\right) - 1}{x^{2}}$"
      ],
      "text/plain": [
       "x |--> (cos(x) - 1)/x^2"
      ]
     },
     "execution_count": 12,
     "metadata": {
     },
     "output_type": "execute_result"
    },
    {
     "data": {
      "image/png": "[encoded data removed]",
      "text/plain": [
       "Graphics object consisting of 1 graphics primitive"
      ]
     },
     "execution_count": 12,
     "metadata": {
     },
     "output_type": "execute_result"
    }
   ],
   "source": [
    "# limits\n",
    "f(x) = (cos(x)-1)/x^2\n",
    "show(f)\n",
    "f.plot(-2,2,figsize=4)"
   ]
  },
  {
   "cell_type": "code",
   "execution_count": 13,
   "id": "13a630",
   "metadata": {
    "collapsed": false
   },
   "outputs": [
    {
     "data": {
      "text/plain": [
       "-1/2"
      ]
     },
     "execution_count": 13,
     "metadata": {
     },
     "output_type": "execute_result"
    }
   ],
   "source": [
    "f(x) = (cos(x)-1)/x^2\n",
    "limit(f(x),x=0,dir='+') # Right hand limit"
   ]
  },
  {
   "cell_type": "code",
   "execution_count": 14,
   "id": "b4aed8",
   "metadata": {
    "collapsed": false
   },
   "outputs": [
    {
     "data": {
      "text/plain": [
       "-1/2"
      ]
     },
     "execution_count": 14,
     "metadata": {
     },
     "output_type": "execute_result"
    }
   ],
   "source": [
    "f(x) = (cos(x)-1)/x^2\n",
    "limit(f(x),x=0,dir='-') # Left hand limit"
   ]
  },
  {
   "cell_type": "code",
   "execution_count": 15,
   "id": "3fa618",
   "metadata": {
    "collapsed": false
   },
   "outputs": [
    {
     "data": {
      "text/plain": [
       "-1/2"
      ]
     },
     "execution_count": 15,
     "metadata": {
     },
     "output_type": "execute_result"
    }
   ],
   "source": [
    "f(x) = (cos(x)-1)/x^2\n",
    "limit(f(x),x=0) # Limit"
   ]
  },
  {
   "cell_type": "code",
   "execution_count": 19,
   "id": "9a8a59",
   "metadata": {
    "collapsed": false
   },
   "outputs": [
    {
     "data": {
      "text/html": [
       "<html>\\(\\displaystyle x \\ {\\mapsto}\\ x^{2} \\cos\\left(20 \\, \\pi x\\right)\\)</html>"
      ],
      "text/latex": [
       "$\\displaystyle x \\ {\\mapsto}\\ x^{2} \\cos\\left(20 \\, \\pi x\\right)$"
      ],
      "text/plain": [
       "x |--> x^2*cos(20*pi*x)"
      ]
     },
     "execution_count": 19,
     "metadata": {
     },
     "output_type": "execute_result"
    },
    {
     "data": {
      "image/png": "[encoded data removed]",
      "text/plain": [
       "Graphics object consisting of 1 graphics primitive"
      ]
     },
     "execution_count": 19,
     "metadata": {
     },
     "output_type": "execute_result"
    }
   ],
   "source": [
    "f(x) = x^2*cos(20*pi*x)\n",
    "show(f)\n",
    "f.plot(-1,1,figsize=4)"
   ]
  },
  {
   "cell_type": "code",
   "execution_count": 18,
   "id": "35934d",
   "metadata": {
    "collapsed": false
   },
   "outputs": [
    {
     "data": {
      "image/png": "[encoded data removed]",
      "text/plain": [
       "Graphics object consisting of 3 graphics primitives"
      ]
     },
     "execution_count": 18,
     "metadata": {
     },
     "output_type": "execute_result"
    }
   ],
   "source": [
    "f(x) = x^2*cos(20*pi*x)\n",
    "p = f.plot(-1,1,color='green',legend_label='f')\n",
    "p1 = plot(x^2,-1,1,color='red',legend_label='x^2')\n",
    "p2 = plot(-x^2,-1,1,color='blue',legend_label='-x^2')\n",
    "show(p+p1+p2,figsize=4)"
   ]
  },
  {
   "cell_type": "code",
   "execution_count": 21,
   "id": "64ffcf",
   "metadata": {
    "collapsed": false
   },
   "outputs": [
    {
     "data": {
      "text/html": [
       "<html>\\(\\displaystyle x \\ {\\mapsto}\\ \\frac{x}{2^{x} + x + \\cos\\left(x\\right)}\\)</html>"
      ],
      "text/latex": [
       "$\\displaystyle x \\ {\\mapsto}\\ \\frac{x}{2^{x} + x + \\cos\\left(x\\right)}$"
      ],
      "text/plain": [
       "x |--> x/(2^x + x + cos(x))"
      ]
     },
     "execution_count": 21,
     "metadata": {
     },
     "output_type": "execute_result"
    },
    {
     "data": {
      "image/png": "[encoded data removed]",
      "text/plain": [
       "Graphics object consisting of 1 graphics primitive"
      ]
     },
     "execution_count": 21,
     "metadata": {
     },
     "output_type": "execute_result"
    }
   ],
   "source": [
    "# Exploratory Problem:\n",
    "f(x) = x /(x+2^x+cos(x))\n",
    "show(f)\n",
    "plot(f(x),-200,0, ymax=2, ymin =-3,figsize=5)\n"
   ]
  },
  {
   "cell_type": "code",
   "execution_count": 22,
   "id": "ff9b76",
   "metadata": {
    "collapsed": false
   },
   "outputs": [
    {
     "data": {
      "text/plain": [
       "1"
      ]
     },
     "execution_count": 22,
     "metadata": {
     },
     "output_type": "execute_result"
    }
   ],
   "source": [
    "f(x) = x /(x+2^x+cos(x))\n",
    "limit(f(x),x=-oo)"
   ]
  },
  {
   "cell_type": "code",
   "execution_count": 23,
   "id": "0b60e8",
   "metadata": {
    "collapsed": false
   },
   "outputs": [
    {
     "data": {
      "text/plain": [
       "0"
      ]
     },
     "execution_count": 23,
     "metadata": {
     },
     "output_type": "execute_result"
    }
   ],
   "source": [
    "f(x) = x /(x+2^x+cos(x))\n",
    "limit(f(x),x=oo)"
   ]
  },
  {
   "cell_type": "code",
   "execution_count": 24,
   "id": "8d9770",
   "metadata": {
    "collapsed": false
   },
   "outputs": [
    {
     "data": {
      "image/png": "[encoded data removed]",
      "text/plain": [
       "Graphics object consisting of 1 graphics primitive"
      ]
     },
     "execution_count": 24,
     "metadata": {
     },
     "output_type": "execute_result"
    }
   ],
   "source": [
    "f(x) = x /(x+2^x+cos(x))\n",
    "plot(f(x),0,100, ymax=2, ymin =-3,figsize=5)"
   ]
  },
  {
   "cell_type": "code",
   "execution_count": 25,
   "id": "90f2c4",
   "metadata": {
    "collapsed": false
   },
   "outputs": [
    {
     "data": {
      "image/png": "[encoded data removed]",
      "text/plain": [
       "Graphics object consisting of 1 graphics primitive"
      ]
     },
     "execution_count": 25,
     "metadata": {
     },
     "output_type": "execute_result"
    }
   ],
   "source": [
    "f(x) = x /(x+2^x+cos(x))\n",
    "show(plot(f(x),-1.2,-0.8,ymax=100,ymin=-100))"
   ]
  },
  {
   "cell_type": "code",
   "execution_count": 26,
   "id": "246663",
   "metadata": {
    "collapsed": false
   },
   "outputs": [
    {
     "data": {
      "text/plain": [
       "-24.8124760720089"
      ]
     },
     "execution_count": 26,
     "metadata": {
     },
     "output_type": "execute_result"
    }
   ],
   "source": [
    "f(x) = x /(x+2^x+cos(x))\n",
    "limit(f(x),x=-1).n()"
   ]
  },
  {
   "cell_type": "code",
   "execution_count": 27,
   "id": "0a3c2e",
   "metadata": {
    "collapsed": false
   },
   "outputs": [
    {
     "data": {
      "text/plain": [
       "-24.8124760720089"
      ]
     },
     "execution_count": 27,
     "metadata": {
     },
     "output_type": "execute_result"
    }
   ],
   "source": [
    "f(x) = x /(x+2^x+cos(x))\n",
    "f(-1.0)"
   ]
  },
  {
   "cell_type": "code",
   "execution_count": 29,
   "id": "a60f77",
   "metadata": {
    "collapsed": false
   },
   "outputs": [
    {
     "name": "stdout",
     "output_type": "stream",
     "text": [
      "-1.018396440652349\n"
     ]
    }
   ],
   "source": [
    "g(x)= x+2^x+cos(x)\n",
    "c1 = g.find_root(-2,0)\n",
    "print(c1)"
   ]
  },
  {
   "cell_type": "code",
   "execution_count": 16,
   "id": "4f37d4",
   "metadata": {
    "collapsed": false
   },
   "outputs": [
    {
     "data": {
      "text/plain": [
       "0.282461754280835"
      ]
     },
     "execution_count": 16,
     "metadata": {
     },
     "output_type": "execute_result"
    }
   ],
   "source": [
    "f(x) = x /(x+2^x+cos(x))\n",
    "limit(f(x),x=1,dir='-').n()"
   ]
  },
  {
   "cell_type": "code",
   "execution_count": 12,
   "id": "909281",
   "metadata": {
    "collapsed": false
   },
   "outputs": [
    {
     "data": {
      "text/plain": [
       "0.282461754280835"
      ]
     },
     "execution_count": 12,
     "metadata": {
     },
     "output_type": "execute_result"
    }
   ],
   "source": [
    "f(x) = x /(x+2^x+cos(x))\n",
    "limit(f(x),x=1,dir='+').n()"
   ]
  },
  {
   "cell_type": "code",
   "execution_count": 13,
   "id": "2a05d3",
   "metadata": {
    "collapsed": false
   },
   "outputs": [
    {
     "data": {
      "text/plain": [
       "0.282461754280835"
      ]
     },
     "execution_count": 13,
     "metadata": {
     },
     "output_type": "execute_result"
    }
   ],
   "source": [
    "f(x) = x /(x+2^x+cos(x))\n",
    "limit(f(x),x=1).n()"
   ]
  },
  {
   "cell_type": "code",
   "execution_count": 18,
   "id": "fdc4f9",
   "metadata": {
    "collapsed": false
   },
   "outputs": [
    {
     "data": {
      "text/html": [
       "<html>\\(\\displaystyle piecewise\\left(\\left(\\left((-2, -1), x + 1\\right), \\left([-1, 1], x^{2}\\right), \\left((1, 2), -x + 2\\right)\\right), x\\right)\\)</html>"
      ],
      "text/latex": [
       "$\\displaystyle piecewise\\left(\\left(\\left((-2, -1), x + 1\\right), \\left([-1, 1], x^{2}\\right), \\left((1, 2), -x + 2\\right)\\right), x\\right)$"
      ],
      "text/plain": [
       "piecewise(x|-->x + 1 on (-2, -1), x|-->x^2 on [-1, 1], x|-->-x + 2 on (1, 2); x)"
      ]
     },
     "execution_count": 18,
     "metadata": {
     },
     "output_type": "execute_result"
    }
   ],
   "source": [
    "# Piecewise defined function\n",
    "f1(x) = 1+x\n",
    "f2(x) = x^2\n",
    "f3(x) = 2-x\n",
    "f = piecewise([[(-2,-1),f1],[[-1,1],f2],[(1,2),f3]])\n",
    "show(f)"
   ]
  },
  {
   "cell_type": "code",
   "execution_count": 19,
   "id": "f6a162",
   "metadata": {
    "collapsed": false
   },
   "outputs": [
    {
     "data": {
      "image/png": "[encoded data removed]",
      "text/plain": [
       "Graphics object consisting of 3 graphics primitives"
      ]
     },
     "execution_count": 19,
     "metadata": {
     },
     "output_type": "execute_result"
    }
   ],
   "source": [
    "f.plot(-2,2,exclude=[-1,1],figsize=4)"
   ]
  },
  {
   "cell_type": "code",
   "execution_count": 20,
   "id": "f352d4",
   "metadata": {
    "collapsed": false
   },
   "outputs": [
    {
     "data": {
      "text/html": [
       "<html>\\(\\displaystyle -\\frac{x^{2} + 1}{2 \\, x^{2} - 3 \\, x}\\)</html>"
      ],
      "text/latex": [
       "$\\displaystyle -\\frac{x^{2} + 1}{2 \\, x^{2} - 3 \\, x}$"
      ],
      "text/plain": [
       "-(x^2 + 1)/(2*x^2 - 3*x)"
      ]
     },
     "execution_count": 20,
     "metadata": {
     },
     "output_type": "execute_result"
    },
    {
     "data": {
      "image/png": "[encoded data removed]",
      "text/plain": [
       "Graphics object consisting of 1 graphics primitive"
      ]
     },
     "execution_count": 20,
     "metadata": {
     },
     "output_type": "execute_result"
    }
   ],
   "source": [
    "## Explore limit of f\n",
    "f = (x^2 + 1) / (3*x - 2*x^2)\n",
    "show(f)\n",
    "f.plot(-2,3,color='red',figsize=4,ymin=-10,ymax=10)"
   ]
  },
  {
   "cell_type": "code",
   "execution_count": 21,
   "id": "78f800",
   "metadata": {
    "collapsed": false
   },
   "outputs": [
    {
     "data": {
      "text/plain": [
       "(-Infinity, +Infinity)"
      ]
     },
     "execution_count": 21,
     "metadata": {
     },
     "output_type": "execute_result"
    }
   ],
   "source": [
    "f.limit(x=0,dir='-'), f.limit(x=0,dir='+')"
   ]
  },
  {
   "cell_type": "code",
   "execution_count": 22,
   "id": "168fbb",
   "metadata": {
    "collapsed": false
   },
   "outputs": [
    {
     "data": {
      "text/plain": [
       "(+Infinity, -Infinity)"
      ]
     },
     "execution_count": 22,
     "metadata": {
     },
     "output_type": "execute_result"
    }
   ],
   "source": [
    "f.limit(x=1.5,dir='-'), f.limit(x=1.5,dir='+')"
   ]
  },
  {
   "cell_type": "code",
   "execution_count": 0,
   "id": "a07380",
   "metadata": {
    "collapsed": false
   },
   "outputs": [
   ],
   "source": [
   ]
  }
 ],
 "metadata": {
  "kernelspec": {
   "argv": [
    "sage-10.4",
    "--python",
    "-m",
    "sage.repl.ipython_kernel",
    "--matplotlib=inline",
    "-f",
    "{connection_file}"
   ],
   "display_name": "SageMath 10.4",
   "env": {
   },
   "language": "sagemath",
   "metadata": {
    "cocalc": {
     "description": "Open-source mathematical software system",
     "priority": 10,
     "url": "https://www.sagemath.org/"
    }
   },
   "name": "sage-10.4",
   "resource_dir": "/ext/jupyter/kernels/sage-10.4"
  },
  "language_info": {
   "codemirror_mode": {
    "name": "ipython",
    "version": 3
   },
   "file_extension": ".py",
   "mimetype": "text/x-python",
   "name": "python",
   "nbconvert_exporter": "python",
   "pygments_lexer": "ipython3",
   "version": "3.12.4"
  }
 },
 "nbformat": 4,
 "nbformat_minor": 4
}