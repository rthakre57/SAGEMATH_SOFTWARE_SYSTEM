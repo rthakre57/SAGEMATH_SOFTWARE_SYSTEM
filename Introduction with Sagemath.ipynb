{
 "cells": [
  {
   "cell_type": "code",
   "execution_count": 1,
   "id": "533397",
   "metadata": {
    "collapsed": false
   },
   "outputs": [
    {
     "data": {
      "text/plain": [
       "<class 'sage.rings.integer.Integer'>"
      ]
     },
     "execution_count": 1,
     "metadata": {
     },
     "output_type": "execute_result"
    }
   ],
   "source": [
    "n = 7642\n",
    "type(n)"
   ]
  },
  {
   "cell_type": "code",
   "execution_count": 2,
   "id": "8f7358",
   "metadata": {
    "collapsed": false
   },
   "outputs": [
    {
     "data": {
      "text/plain": [
       "False"
      ]
     },
     "execution_count": 2,
     "metadata": {
     },
     "output_type": "execute_result"
    }
   ],
   "source": [
    "n.is_prime()"
   ]
  },
  {
   "cell_type": "code",
   "execution_count": 3,
   "id": "894041",
   "metadata": {
    "collapsed": false
   },
   "outputs": [
    {
     "data": {
      "text/plain": [
       "2 * 3821"
      ]
     },
     "execution_count": 3,
     "metadata": {
     },
     "output_type": "execute_result"
    }
   ],
   "source": [
    "n.factor()"
   ]
  },
  {
   "cell_type": "code",
   "execution_count": 4,
   "id": "a25002",
   "metadata": {
    "collapsed": false
   },
   "outputs": [
    {
     "data": {
      "text/plain": [
       "7643"
      ]
     },
     "execution_count": 4,
     "metadata": {
     },
     "output_type": "execute_result"
    }
   ],
   "source": [
    "n.next_prime()"
   ]
  },
  {
   "cell_type": "code",
   "execution_count": 5,
   "id": "3ca631",
   "metadata": {
    "collapsed": false
   },
   "outputs": [
    {
     "data": {
      "text/plain": [
       "7639"
      ]
     },
     "execution_count": 5,
     "metadata": {
     },
     "output_type": "execute_result"
    }
   ],
   "source": [
    "n.previous_prime()"
   ]
  },
  {
   "cell_type": "code",
   "execution_count": 6,
   "id": "1015fc",
   "metadata": {
    "collapsed": false
   },
   "outputs": [
    {
     "data": {
      "text/plain": [
       "[1, 2, 3821, 7642]"
      ]
     },
     "execution_count": 6,
     "metadata": {
     },
     "output_type": "execute_result"
    }
   ],
   "source": [
    "n.divisors()"
   ]
  },
  {
   "cell_type": "code",
   "execution_count": 7,
   "id": "f7a70a",
   "metadata": {
    "collapsed": false
   },
   "outputs": [
    {
     "data": {
      "text/plain": [
       "[1, 2, 3821, 7642]"
      ]
     },
     "execution_count": 7,
     "metadata": {
     },
     "output_type": "execute_result"
    }
   ],
   "source": [
    "divisors(n)"
   ]
  },
  {
   "cell_type": "code",
   "execution_count": 8,
   "id": "98c458",
   "metadata": {
    "collapsed": false
   },
   "outputs": [
    {
     "data": {
      "text/plain": [
       "[2, 4, 6, 7]"
      ]
     },
     "execution_count": 8,
     "metadata": {
     },
     "output_type": "execute_result"
    }
   ],
   "source": [
    "n.digits()"
   ]
  },
  {
   "cell_type": "code",
   "execution_count": 9,
   "id": "4c3385",
   "metadata": {
    "collapsed": false
   },
   "outputs": [
    {
     "data": {
      "text/plain": [
       "4"
      ]
     },
     "execution_count": 9,
     "metadata": {
     },
     "output_type": "execute_result"
    }
   ],
   "source": [
    "len(n.digits())"
   ]
  },
  {
   "cell_type": "code",
   "execution_count": 10,
   "id": "e996bf",
   "metadata": {
    "collapsed": false
   },
   "outputs": [
    {
     "data": {
      "text/plain": [
       "[7, 3, 5, 2, 8, 3, 6, 4, 7, 3, 5, 3, 4, 7]"
      ]
     },
     "execution_count": 10,
     "metadata": {
     },
     "output_type": "execute_result"
    }
   ],
   "source": [
    "m = 74353746382537\n",
    "m.digits()"
   ]
  },
  {
   "cell_type": "code",
   "execution_count": 11,
   "id": "65e6b9",
   "metadata": {
    "collapsed": false
   },
   "outputs": [
    {
     "data": {
      "text/plain": [
       "14"
      ]
     },
     "execution_count": 11,
     "metadata": {
     },
     "output_type": "execute_result"
    }
   ],
   "source": [
    "m.ndigits()"
   ]
  },
  {
   "cell_type": "code",
   "execution_count": 12,
   "id": "dbf2fe",
   "metadata": {
    "collapsed": false
   },
   "outputs": [
    {
     "name": "stdout",
     "output_type": "stream",
     "text": [
      "Help on built-in function divisors:\n",
      "\n",
      "divisors(...) method of sage.rings.integer.Integer instance\n",
      "    Integer.divisors(self, method=None)\n",
      "    File: sage/rings/integer.pyx (starting at line 3001)\n",
      "    \n",
      "            Return the list of all positive integer divisors of this integer,\n",
      "            sorted in increasing order.\n",
      "    \n",
      "            EXAMPLES:\n",
      "    \n",
      "            ::\n",
      "    \n",
      "                sage: (-3).divisors()\n",
      "                [1, 3]\n",
      "                sage: 6.divisors()\n",
      "                [1, 2, 3, 6]\n",
      "                sage: 28.divisors()\n",
      "                [1, 2, 4, 7, 14, 28]\n",
      "                sage: (2^5).divisors()\n",
      "                [1, 2, 4, 8, 16, 32]\n",
      "                sage: 100.divisors()\n",
      "                [1, 2, 4, 5, 10, 20, 25, 50, 100]\n",
      "                sage: 1.divisors()\n",
      "                [1]\n",
      "                sage: 0.divisors()\n",
      "                Traceback (most recent call last):\n",
      "                ...\n",
      "                ValueError: n must be nonzero\n",
      "                sage: (2^3 * 3^2 * 17).divisors()\n",
      "                [1, 2, 3, 4, 6, 8, 9, 12, 17, 18, 24, 34, 36, 51, 68, 72,\n",
      "                102, 136, 153, 204, 306, 408, 612, 1224]\n",
      "                sage: a = odd_part(factorial(31))\n",
      "                sage: v = a.divisors()                                                      # needs sage.libs.pari\n",
      "                sage: len(v)                                                                # needs sage.libs.pari\n",
      "                172800\n",
      "                sage: prod(e + 1 for p, e in factor(a))                                     # needs sage.libs.pari\n",
      "                172800\n",
      "                sage: all(t.divides(a) for t in v)                                          # needs sage.libs.pari\n",
      "                True\n",
      "    \n",
      "            ::\n",
      "    \n",
      "                sage: n = 2^551 - 1\n",
      "                sage: L = n.divisors()                                                      # needs sage.libs.pari\n",
      "                sage: len(L)                                                                # needs sage.libs.pari\n",
      "                256\n",
      "                sage: L[-1] == n                                                            # needs sage.libs.pari\n",
      "                True\n",
      "    \n",
      "            TESTS:\n",
      "    \n",
      "            Overflow::\n",
      "    \n",
      "                sage: prod(primes_first_n(64)).divisors()                                   # needs sage.libs.pari\n",
      "                Traceback (most recent call last):\n",
      "                ...\n",
      "                OverflowError: value too large\n",
      "                sage: prod(primes_first_n(58)).divisors()                                   # needs sage.libs.pari\n",
      "                Traceback (most recent call last):\n",
      "                ...\n",
      "                OverflowError: value too large                                 # 32-bit\n",
      "                MemoryError: failed to allocate 288230376151711744 * 24 bytes  # 64-bit\n",
      "    \n",
      "            Check for memory leaks and ability to interrupt\n",
      "            (the ``divisors`` call below allocates about 800 MB every time,\n",
      "            so a memory leak will not go unnoticed)::\n",
      "    \n",
      "                sage: n = prod(primes_first_n(25))                                          # needs sage.libs.pari\n",
      "                sage: for i in range(20):           # long time                             # needs sage.libs.pari\n",
      "                ....:     try:\n",
      "                ....:         alarm(RDF.random_element(1e-3, 0.5))\n",
      "                ....:         _ = n.divisors()\n",
      "                ....:         cancel_alarm()  # we never get here\n",
      "                ....:     except AlarmInterrupt:\n",
      "                ....:         pass\n",
      "    \n",
      "            Test a strange method::\n",
      "    \n",
      "                sage: 100.divisors(method='hey')\n",
      "                Traceback (most recent call last):\n",
      "                ...\n",
      "                ValueError: method must be 'pari' or 'sage'\n",
      "    \n",
      "    \n",
      "            .. NOTE::\n",
      "    \n",
      "               If one first computes all the divisors and then sorts it,\n",
      "               the sorting step can easily dominate the runtime. Note,\n",
      "               however, that (non-negative) multiplication on the left\n",
      "               preserves relative order. One can leverage this fact to\n",
      "               keep the list in order as one computes it using a process\n",
      "               similar to that of the merge sort algorithm.\n",
      "\n"
     ]
    }
   ],
   "source": [
    "help(n.divisors)"
   ]
  },
  {
   "cell_type": "code",
   "execution_count": 13,
   "id": "008f3c",
   "metadata": {
    "collapsed": false
   },
   "outputs": [
    {
     "data": {
      "text/plain": [
       "[1,\n",
       " 2,\n",
       " 3,\n",
       " 4,\n",
       " 6,\n",
       " 8,\n",
       " 9,\n",
       " 12,\n",
       " 17,\n",
       " 18,\n",
       " 24,\n",
       " 34,\n",
       " 36,\n",
       " 51,\n",
       " 68,\n",
       " 72,\n",
       " 102,\n",
       " 136,\n",
       " 153,\n",
       " 204,\n",
       " 306,\n",
       " 408,\n",
       " 612,\n",
       " 1224]"
      ]
     },
     "execution_count": 13,
     "metadata": {
     },
     "output_type": "execute_result"
    }
   ],
   "source": [
    "(2^3 * 3^2 * 17).divisors()"
   ]
  },
  {
   "cell_type": "code",
   "execution_count": 14,
   "id": "3ba2ef",
   "metadata": {
    "collapsed": false
   },
   "outputs": [
    {
     "name": "stdout",
     "output_type": "stream",
     "text": [
      "7642 63\n"
     ]
    }
   ],
   "source": [
    "a, b = 7642, 63\n",
    "print(a,b)"
   ]
  },
  {
   "cell_type": "code",
   "execution_count": 15,
   "id": "12ef24",
   "metadata": {
    "collapsed": false
   },
   "outputs": [
    {
     "data": {
      "text/plain": [
       "7642/63"
      ]
     },
     "execution_count": 15,
     "metadata": {
     },
     "output_type": "execute_result"
    }
   ],
   "source": [
    "a/b"
   ]
  },
  {
   "cell_type": "code",
   "execution_count": 16,
   "id": "0a23d7",
   "metadata": {
    "collapsed": false
   },
   "outputs": [
    {
     "data": {
      "text/plain": [
       "19/6"
      ]
     },
     "execution_count": 16,
     "metadata": {
     },
     "output_type": "execute_result"
    }
   ],
   "source": [
    "38/12"
   ]
  },
  {
   "cell_type": "code",
   "execution_count": 17,
   "id": "0ad848",
   "metadata": {
    "collapsed": false
   },
   "outputs": [
    {
     "data": {
      "text/plain": [
       "3.16666666666667"
      ]
     },
     "execution_count": 17,
     "metadata": {
     },
     "output_type": "execute_result"
    }
   ],
   "source": [
    "38/12.0"
   ]
  },
  {
   "cell_type": "code",
   "execution_count": 18,
   "id": "668e9c",
   "metadata": {
    "collapsed": false
   },
   "outputs": [
    {
     "data": {
      "text/plain": [
       "3.16666666666667"
      ]
     },
     "execution_count": 18,
     "metadata": {
     },
     "output_type": "execute_result"
    }
   ],
   "source": [
    "38/12.n()"
   ]
  },
  {
   "cell_type": "code",
   "execution_count": 19,
   "id": "b713e2",
   "metadata": {
    "collapsed": false
   },
   "outputs": [
    {
     "data": {
      "text/plain": [
       "123"
      ]
     },
     "execution_count": 19,
     "metadata": {
     },
     "output_type": "execute_result"
    }
   ],
   "source": [
    "a, b = 7642, 62\n",
    "a//b"
   ]
  },
  {
   "cell_type": "code",
   "execution_count": 20,
   "id": "3265fa",
   "metadata": {
    "collapsed": false
   },
   "outputs": [
    {
     "data": {
      "text/plain": [
       "16"
      ]
     },
     "execution_count": 20,
     "metadata": {
     },
     "output_type": "execute_result"
    }
   ],
   "source": [
    "a%b"
   ]
  },
  {
   "cell_type": "code",
   "execution_count": 21,
   "id": "a5601b",
   "metadata": {
    "collapsed": false
   },
   "outputs": [
    {
     "data": {
      "text/plain": [
       "False"
      ]
     },
     "execution_count": 21,
     "metadata": {
     },
     "output_type": "execute_result"
    }
   ],
   "source": [
    "b.divides(a)\n"
   ]
  },
  {
   "cell_type": "code",
   "execution_count": 23,
   "id": "9d1749",
   "metadata": {
    "collapsed": false
   },
   "outputs": [
    {
     "name": "stdout",
     "output_type": "stream",
     "text": [
      "123 16\n"
     ]
    }
   ],
   "source": [
    "q, r = a.quo_rem(b)\n",
    "print(q,r)"
   ]
  },
  {
   "cell_type": "code",
   "execution_count": 24,
   "id": "e51839",
   "metadata": {
    "collapsed": false
   },
   "outputs": [
    {
     "data": {
      "text/plain": [
       "True"
      ]
     },
     "execution_count": 24,
     "metadata": {
     },
     "output_type": "execute_result"
    }
   ],
   "source": [
    "b*q+r==a"
   ]
  },
  {
   "cell_type": "code",
   "execution_count": 25,
   "id": "db159c",
   "metadata": {
    "collapsed": false
   },
   "outputs": [
    {
     "data": {
      "text/plain": [
       "2"
      ]
     },
     "execution_count": 25,
     "metadata": {
     },
     "output_type": "execute_result"
    }
   ],
   "source": [
    "gcd(a,b)"
   ]
  },
  {
   "cell_type": "code",
   "execution_count": 26,
   "id": "ef5caa",
   "metadata": {
    "collapsed": false
   },
   "outputs": [
    {
     "data": {
      "text/plain": [
       "2"
      ]
     },
     "execution_count": 26,
     "metadata": {
     },
     "output_type": "execute_result"
    }
   ],
   "source": [
    "a.gcd(b)"
   ]
  },
  {
   "cell_type": "code",
   "execution_count": 27,
   "id": "0f409d",
   "metadata": {
    "collapsed": false
   },
   "outputs": [
    {
     "data": {
      "text/plain": [
       "(2, 4, -493)"
      ]
     },
     "execution_count": 27,
     "metadata": {
     },
     "output_type": "execute_result"
    }
   ],
   "source": [
    "xgcd(a,b)"
   ]
  },
  {
   "cell_type": "code",
   "execution_count": 29,
   "id": "a3dba7",
   "metadata": {
    "collapsed": false
   },
   "outputs": [
    {
     "name": "stdout",
     "output_type": "stream",
     "text": [
      "2 4 -493\n"
     ]
    }
   ],
   "source": [
    "d, x, y = xgcd(a,b)\n",
    "print(d,x,y)"
   ]
  },
  {
   "cell_type": "code",
   "execution_count": 30,
   "id": "391f17",
   "metadata": {
    "collapsed": false
   },
   "outputs": [
    {
     "data": {
      "text/plain": [
       "True"
      ]
     },
     "execution_count": 30,
     "metadata": {
     },
     "output_type": "execute_result"
    }
   ],
   "source": [
    "x*a+y*b==d"
   ]
  },
  {
   "cell_type": "code",
   "execution_count": 31,
   "id": "2a9ddf",
   "metadata": {
    "collapsed": false
   },
   "outputs": [
    {
     "data": {
      "text/plain": [
       "38490424"
      ]
     },
     "execution_count": 31,
     "metadata": {
     },
     "output_type": "execute_result"
    }
   ],
   "source": [
    "n = 745647357\n",
    "prime_pi(n)"
   ]
  },
  {
   "cell_type": "code",
   "execution_count": 32,
   "id": "31ce35",
   "metadata": {
    "collapsed": false
   },
   "outputs": [
    {
     "data": {
      "text/plain": [
       "8"
      ]
     },
     "execution_count": 32,
     "metadata": {
     },
     "output_type": "execute_result"
    }
   ],
   "source": [
    "euler_phi(30)"
   ]
  },
  {
   "cell_type": "code",
   "execution_count": 33,
   "id": "f2c3ca",
   "metadata": {
    "collapsed": false
   },
   "outputs": [
    {
     "data": {
      "text/plain": [
       "[1, 7, 11, 13, 17, 19, 23, 29]"
      ]
     },
     "execution_count": 33,
     "metadata": {
     },
     "output_type": "execute_result"
    }
   ],
   "source": [
    "[k for k in range(31) if(gcd(k,30))==1]"
   ]
  },
  {
   "cell_type": "code",
   "execution_count": 34,
   "id": "64be0e",
   "metadata": {
    "collapsed": false
   },
   "outputs": [
    {
     "data": {
      "text/plain": [
       "8"
      ]
     },
     "execution_count": 34,
     "metadata": {
     },
     "output_type": "execute_result"
    }
   ],
   "source": [
    "len([k for k in range(31) if(gcd(k,30))==1])"
   ]
  },
  {
   "cell_type": "code",
   "execution_count": 35,
   "id": "d1c713",
   "metadata": {
    "collapsed": false
   },
   "outputs": [
    {
     "data": {
      "text/plain": [
       "2"
      ]
     },
     "execution_count": 35,
     "metadata": {
     },
     "output_type": "execute_result"
    }
   ],
   "source": [
    "a, b, c = 76, 98, 392\n",
    "gcd(gcd(a,b),c)"
   ]
  },
  {
   "cell_type": "code",
   "execution_count": 36,
   "id": "6b5356",
   "metadata": {
    "collapsed": false
   },
   "outputs": [
    {
     "data": {
      "text/plain": [
       "2330127239522883634825613498409557496989106326899527147465096051790039540505580746147228263927085809173923725431176608963412757939448881650322907803823628351121281456206825956184087764638471496771238544929775985241056834764969974223164718619436599063066746296709213172741911373947868976238639839940836530812827026816874867298654742242580983910817473239917540275510962300601197560888996857555676448369098788952927298582390773755481438427995521975339391766724943279495481437178832777490252027325867992028214945414767201385210430931864972285467581027878612999468461081834421970372766949316177174735017718294161674489392618341405424262121082443222284083914788587052044638851854496377723663761299095983228541164136443768112244246566327162322323237274140745510994426626968742155163906723796076766133606814723519767996929605555545914722818171604620867984787658684917145059129833105943185162428636131553850336926011961033319425305851059075330213143191480081887228165086423877888315185249817420244015420403679825621201009031497317667719956784849942475891031535481144559571728552919693771370582128289383742145400255872988316313933352065952985637745396952778320289000739085041212098194713795194765827042326942751744392159027253259709152811619587310930556706912428136475214336215548986331279318858677113802994009195004995550737998731629673156904730739404091794480858021881810582936643668210182349538642049894947713984612952942756255446809845965007383329383618284656963966656570722390084886129912539550963580779427831658143341525626082127151354591509628384962230058529809188380387107517565133180300792117437387551382903010839529678999239124040864038436305250075423569363372256870488462179089619648792897464934278561493626628783456258339625948594548853893122988189878853750809379284574704792446038090934653643251401772327694149377312606303432832345298688739305567785319195642393466769157448790074590753230147004357409726987079538813448075577619321361110417503059541419432850194160081088870915917738397214756137450176305998828362741785200029691986341968560303485815547837744968714069677449871142008200938883976264240551243139429413301742082959901220364228980736993925835646424984082418431527852934201125612805458867307342273883607963755156660905220190006703955602694724597686353467303164781417220082842872140041151036923303593207181781584620638849076852483229526963593279627559105391676759234551620404099782677487140913829489804783072882545357324590507479640315965329543568820602354359293498662425877862199433184459769889824186839794157840683960779351212368728143097521404631710457123190487333822824408272928867126055654362059850343931692986474347250009102116679519459761041329559723162105116514516672267835940784110064937327369054723779893202615145806478877323147225053884161643211679743463523598741214216759821310496290824023124112406467255957740911503970275855668722500302514795612818296985844521511676971498466073110408941813459279634657231776099063342414138614675837499107154839022667266163361291987056455289698896601998924499205983760731838869953995737997615139154181500026255306685758702137018284913219518702480461679859722610078580509358935649022474661208107867990085492888249672055524399854064181674872611764847322277575117902598005472399369970752497826612173352090694941375828137038205625201484670299023906303716630358071734839059754242279097978403427471817127563182785961945270925983818097657885500820040952803508330486154628092786698324033581525723838423309078406726573267068170255191336245119116096876438446778455506605491334893565883477128545161314852801380450708219192484894918528851344039221841131271659699804292557806354447855150683595782626596870134663679358261002240000000000000000000000000000000000000000000000000000000000000000000000000000000000000000000000000000000000000000000000000000000000000000000000000000000000000000000000000000000000000000000000000000000000000000000000000000000000000000000000000000000000000000000000000000000000000000000000000000000000000000000000000000000000000000000000000000000000000000000000000000000"
      ]
     },
     "execution_count": 36,
     "metadata": {
     },
     "output_type": "execute_result"
    }
   ],
   "source": [
    "n = 1475\n",
    "n.factorial()"
   ]
  },
  {
   "cell_type": "code",
   "execution_count": 37,
   "id": "e7421d",
   "metadata": {
    "collapsed": false
   },
   "outputs": [
    {
     "data": {
      "text/plain": [
       "4036"
      ]
     },
     "execution_count": 37,
     "metadata": {
     },
     "output_type": "execute_result"
    }
   ],
   "source": [
    "N = factorial(n)\n",
    "N.ndigits()"
   ]
  },
  {
   "cell_type": "code",
   "execution_count": 38,
   "id": "0505e2",
   "metadata": {
    "collapsed": false
   },
   "outputs": [
    {
     "data": {
      "text/plain": [
       "700"
      ]
     },
     "execution_count": 38,
     "metadata": {
     },
     "output_type": "execute_result"
    }
   ],
   "source": [
    "F = N.digits()\n",
    "F.count(0)"
   ]
  },
  {
   "cell_type": "code",
   "execution_count": 40,
   "id": "8b5af7",
   "metadata": {
    "collapsed": false
   },
   "outputs": [
    {
     "data": {
      "text/plain": [
       "sin(3)"
      ]
     },
     "execution_count": 40,
     "metadata": {
     },
     "output_type": "execute_result"
    }
   ],
   "source": [
    "sin(3)"
   ]
  },
  {
   "cell_type": "code",
   "execution_count": 41,
   "id": "eb6fce",
   "metadata": {
    "collapsed": false
   },
   "outputs": [
    {
     "data": {
      "text/plain": [
       "0.141120008059867"
      ]
     },
     "execution_count": 41,
     "metadata": {
     },
     "output_type": "execute_result"
    }
   ],
   "source": [
    "sin(3.0)"
   ]
  },
  {
   "cell_type": "code",
   "execution_count": 42,
   "id": "12f639",
   "metadata": {
    "collapsed": false
   },
   "outputs": [
    {
     "data": {
      "text/plain": [
       "0.141120008059867"
      ]
     },
     "execution_count": 42,
     "metadata": {
     },
     "output_type": "execute_result"
    }
   ],
   "source": [
    "sin(3).n()"
   ]
  },
  {
   "cell_type": "code",
   "execution_count": 43,
   "id": "8aab43",
   "metadata": {
    "collapsed": false
   },
   "outputs": [
    {
     "data": {
      "text/plain": [
       "sqrt(7)"
      ]
     },
     "execution_count": 43,
     "metadata": {
     },
     "output_type": "execute_result"
    }
   ],
   "source": [
    "sqrt(7)"
   ]
  },
  {
   "cell_type": "code",
   "execution_count": 44,
   "id": "d2cc28",
   "metadata": {
    "collapsed": false
   },
   "outputs": [
    {
     "data": {
      "text/html": [
       "<html>\\(\\displaystyle \\sqrt{7}\\)</html>"
      ],
      "text/latex": [
       "$\\displaystyle \\sqrt{7}$"
      ],
      "text/plain": [
       "sqrt(7)"
      ]
     },
     "execution_count": 44,
     "metadata": {
     },
     "output_type": "execute_result"
    }
   ],
   "source": [
    "show(sqrt(7))"
   ]
  },
  {
   "cell_type": "code",
   "execution_count": 45,
   "id": "98c377",
   "metadata": {
    "collapsed": false
   },
   "outputs": [
    {
     "data": {
      "text/plain": [
       "(sqrt(7), 2.64575131106459)"
      ]
     },
     "execution_count": 45,
     "metadata": {
     },
     "output_type": "execute_result"
    }
   ],
   "source": [
    "sqrt(7,0), sqrt(7).n()"
   ]
  },
  {
   "cell_type": "code",
   "execution_count": 46,
   "id": "ff1901",
   "metadata": {
    "collapsed": false
   },
   "outputs": [
    {
     "data": {
      "text/plain": [
       "2.6457513110645905905016157536392604257102591830824"
      ]
     },
     "execution_count": 46,
     "metadata": {
     },
     "output_type": "execute_result"
    }
   ],
   "source": [
    "sqrt(7).n(digits=50)"
   ]
  },
  {
   "cell_type": "code",
   "execution_count": 48,
   "id": "625544",
   "metadata": {
    "collapsed": false
   },
   "outputs": [
    {
     "data": {
      "text/plain": [
       "array([1, 2, 3])"
      ]
     },
     "execution_count": 48,
     "metadata": {
     },
     "output_type": "execute_result"
    }
   ],
   "source": [
    "import numpy as np\n",
    "np.array([1,2,3])"
   ]
  },
  {
   "cell_type": "code",
   "execution_count": 51,
   "id": "58ad1d",
   "metadata": {
    "collapsed": false
   },
   "outputs": [
    {
     "data": {
      "text/plain": [
       "array([ 5.        ,  5.05050505,  5.1010101 ,  5.15151515,  5.2020202 ,\n",
       "        5.25252525,  5.3030303 ,  5.35353535,  5.4040404 ,  5.45454545,\n",
       "        5.50505051,  5.55555556,  5.60606061,  5.65656566,  5.70707071,\n",
       "        5.75757576,  5.80808081,  5.85858586,  5.90909091,  5.95959596,\n",
       "        6.01010101,  6.06060606,  6.11111111,  6.16161616,  6.21212121,\n",
       "        6.26262626,  6.31313131,  6.36363636,  6.41414141,  6.46464646,\n",
       "        6.51515152,  6.56565657,  6.61616162,  6.66666667,  6.71717172,\n",
       "        6.76767677,  6.81818182,  6.86868687,  6.91919192,  6.96969697,\n",
       "        7.02020202,  7.07070707,  7.12121212,  7.17171717,  7.22222222,\n",
       "        7.27272727,  7.32323232,  7.37373737,  7.42424242,  7.47474747,\n",
       "        7.52525253,  7.57575758,  7.62626263,  7.67676768,  7.72727273,\n",
       "        7.77777778,  7.82828283,  7.87878788,  7.92929293,  7.97979798,\n",
       "        8.03030303,  8.08080808,  8.13131313,  8.18181818,  8.23232323,\n",
       "        8.28282828,  8.33333333,  8.38383838,  8.43434343,  8.48484848,\n",
       "        8.53535354,  8.58585859,  8.63636364,  8.68686869,  8.73737374,\n",
       "        8.78787879,  8.83838384,  8.88888889,  8.93939394,  8.98989899,\n",
       "        9.04040404,  9.09090909,  9.14141414,  9.19191919,  9.24242424,\n",
       "        9.29292929,  9.34343434,  9.39393939,  9.44444444,  9.49494949,\n",
       "        9.54545455,  9.5959596 ,  9.64646465,  9.6969697 ,  9.74747475,\n",
       "        9.7979798 ,  9.84848485,  9.8989899 ,  9.94949495, 10.        ])"
      ]
     },
     "execution_count": 51,
     "metadata": {
     },
     "output_type": "execute_result"
    }
   ],
   "source": [
    "import numpy as np\n",
    "np.linspace(5, 10,100)"
   ]
  },
  {
   "cell_type": "code",
   "execution_count": 55,
   "id": "8d7803",
   "metadata": {
    "collapsed": false
   },
   "outputs": [
    {
     "data": {
      "text/plain": [
       "True"
      ]
     },
     "execution_count": 55,
     "metadata": {
     },
     "output_type": "execute_result"
    }
   ],
   "source": [
    "#Practice Problem \n",
    " #Ex.Find the lcm of any two integers a and b and hence verify that lcm(a, b)×gcd(a, b) = a × b.\n",
    "    #The commands \n",
    "lcm(10,15) \n",
    "    # and \n",
    "gcd(10,15) \n",
    "    #output to 30 and 5 respectively. The code \n",
    "bool(lcm(10,15)*gcd(10,15)==10*15) \n",
    "    # outputs to True which verifies the fact that lcm(a, b) × gcd(a, b) = a × b.\n"
   ]
  },
  {
   "cell_type": "code",
   "execution_count": 56,
   "id": "f5a6ce",
   "metadata": {
    "collapsed": false
   },
   "outputs": [
    {
     "data": {
      "text/plain": [
       "[1,\n",
       " 2,\n",
       " 3,\n",
       " 4,\n",
       " 6,\n",
       " 7,\n",
       " 8,\n",
       " 9,\n",
       " 12,\n",
       " 14,\n",
       " 18,\n",
       " 21,\n",
       " 24,\n",
       " 27,\n",
       " 28,\n",
       " 36,\n",
       " 42,\n",
       " 54,\n",
       " 56,\n",
       " 63,\n",
       " 72,\n",
       " 81,\n",
       " 84,\n",
       " 108,\n",
       " 126,\n",
       " 162,\n",
       " 168,\n",
       " 189,\n",
       " 216,\n",
       " 243,\n",
       " 252,\n",
       " 324,\n",
       " 378,\n",
       " 486,\n",
       " 504,\n",
       " 567,\n",
       " 648,\n",
       " 756,\n",
       " 972,\n",
       " 1134,\n",
       " 1512,\n",
       " 1701,\n",
       " 1944,\n",
       " 2268,\n",
       " 3402,\n",
       " 4536,\n",
       " 6804,\n",
       " 13608]"
      ]
     },
     "execution_count": 56,
     "metadata": {
     },
     "output_type": "execute_result"
    }
   ],
   "source": [
    "# Ex Find the factors of sum of digits of 1275!\n",
    "# The following code may used to list all divisors of sum of digits of\n",
    "# 1275!. The idea is to list all digits of 1275!, find their sum and finally find the\n",
    "# divisors of the sum obtained.\n",
    "n=factorial(1275)\n",
    "w=n.digits()\n",
    "length = len(w)\n",
    "v=sum([w[k] for k in range(length)])\n",
    "v.divisors()"
   ]
  },
  {
   "cell_type": "code",
   "execution_count": 57,
   "id": "ad2559",
   "metadata": {
    "collapsed": false
   },
   "outputs": [
    {
     "data": {
      "text/plain": [
       "203"
      ]
     },
     "execution_count": 57,
     "metadata": {
     },
     "output_type": "execute_result"
    }
   ],
   "source": [
    "# Ex. Let d = 12. Find how many integers are there strictly between n = 62 and m = 672 which are co-prime to d\n",
    "count=0\n",
    "for i in range(62,672):\n",
    "    if gcd(12,i)==1:\n",
    "        count = count+1\n",
    "count\n"
   ]
  },
  {
   "cell_type": "code",
   "execution_count": 58,
   "id": "f1f5f9",
   "metadata": {
    "collapsed": false
   },
   "outputs": [
    {
     "name": "stdout",
     "output_type": "stream",
     "text": [
      "104729\n"
     ]
    }
   ],
   "source": [
    "# Ex. Find a positive integer n such that the number of primes between 2 and n is 10000.\n",
    "for i in range(1,1000000):\n",
    "    if prime_pi(i)==10000:\n",
    "        break\n",
    "print(i)"
   ]
  },
  {
   "cell_type": "code",
   "execution_count": 59,
   "id": "89b8b2",
   "metadata": {
    "collapsed": false
   },
   "outputs": [
    {
     "data": {
      "text/plain": [
       "280"
      ]
     },
     "execution_count": 59,
     "metadata": {
     },
     "output_type": "execute_result"
    }
   ],
   "source": [
    "# Ex. Let n = 562. Find the number of integers k between 1 and n which are co-prime to n. If this number is k, then k is called the Euler-phi function of n, denoted by φ(n).Verify this using the inbuilt SageMath function ‘euler phi(n)’.\n",
    "count=0\n",
    "for i in range(1,562):\n",
    "    if gcd(562,i)==1:\n",
    "        count = count+1\n",
    "count\n"
   ]
  }
 ],
 "metadata": {
  "kernelspec": {
   "argv": [
    "sage-10.3",
    "--python",
    "-m",
    "sage.repl.ipython_kernel",
    "--matplotlib=inline",
    "-f",
    "{connection_file}"
   ],
   "display_name": "SageMath 10.3",
   "env": {
   },
   "language": "sagemath",
   "metadata": {
    "cocalc": {
     "description": "Open-source mathematical software system",
     "priority": 10,
     "url": "https://www.sagemath.org/"
    }
   },
   "name": "sage-10.3",
   "resource_dir": "/ext/jupyter/kernels/sage-10.3"
  },
  "language_info": {
   "codemirror_mode": {
    "name": "ipython",
    "version": 3
   },
   "file_extension": ".py",
   "mimetype": "text/x-python",
   "name": "python",
   "nbconvert_exporter": "python",
   "pygments_lexer": "ipython3",
   "version": "3.11.1"
  }
 },
 "nbformat": 4,
 "nbformat_minor": 4
}