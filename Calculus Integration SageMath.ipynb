{
 "cells": [
  {
   "cell_type": "code",
   "execution_count": 2,
   "id": "5eca5c",
   "metadata": {
    "collapsed": false
   },
   "outputs": [
    {
     "data": {
      "text/html": [
       "<html>\\(\\displaystyle x \\ {\\mapsto}\\ \\frac{\\cos\\left(x\\right)}{\\sqrt{\\sin\\left(x\\right) + 1}}\\)</html>"
      ],
      "text/latex": [
       "$\\displaystyle x \\ {\\mapsto}\\ \\frac{\\cos\\left(x\\right)}{\\sqrt{\\sin\\left(x\\right) + 1}}$"
      ],
      "text/plain": [
       "x |--> cos(x)/sqrt(sin(x) + 1)"
      ]
     },
     "execution_count": 2,
     "metadata": {
     },
     "output_type": "execute_result"
    },
    {
     "data": {
      "text/html": [
       "<html>\\(\\displaystyle x \\ {\\mapsto}\\ 2 \\, \\sqrt{\\sin\\left(x\\right) + 1}\\)</html>"
      ],
      "text/latex": [
       "$\\displaystyle x \\ {\\mapsto}\\ 2 \\, \\sqrt{\\sin\\left(x\\right) + 1}$"
      ],
      "text/plain": [
       "x |--> 2*sqrt(sin(x) + 1)"
      ]
     },
     "execution_count": 2,
     "metadata": {
     },
     "output_type": "execute_result"
    },
    {
     "data": {
      "text/html": [
       "<html>\\(\\displaystyle x \\ {\\mapsto}\\ 2 \\, \\sqrt{\\sin\\left(x\\right) + 1}\\)</html>"
      ],
      "text/latex": [
       "$\\displaystyle x \\ {\\mapsto}\\ 2 \\, \\sqrt{\\sin\\left(x\\right) + 1}$"
      ],
      "text/plain": [
       "x |--> 2*sqrt(sin(x) + 1)"
      ]
     },
     "execution_count": 2,
     "metadata": {
     },
     "output_type": "execute_result"
    }
   ],
   "source": [
    "#  Integration\n",
    "f(x) = cos(x)/sqrt(1+sin(x))\n",
    "show(f)\n",
    "g=f.integrate(x)\n",
    "show(g)\n",
    "h=f.integral(x)\n",
    "show(h)"
   ]
  },
  {
   "cell_type": "code",
   "execution_count": 3,
   "id": "d3fcf3",
   "metadata": {
    "collapsed": false
   },
   "outputs": [
    {
     "data": {
      "text/plain": [
       "0.828427124746190"
      ]
     },
     "execution_count": 3,
     "metadata": {
     },
     "output_type": "execute_result"
    }
   ],
   "source": [
    "f.integrate(x,0,pi/2).n()"
   ]
  },
  {
   "cell_type": "code",
   "execution_count": 4,
   "id": "9b4f5f",
   "metadata": {
    "collapsed": false
   },
   "outputs": [
    {
     "data": {
      "text/html": [
       "<html>\\(\\displaystyle x \\ {\\mapsto}\\ \\frac{\\sqrt{x + \\sqrt{x^{2} + 1}}}{x}\\)</html>"
      ],
      "text/latex": [
       "$\\displaystyle x \\ {\\mapsto}\\ \\frac{\\sqrt{x + \\sqrt{x^{2} + 1}}}{x}$"
      ],
      "text/plain": [
       "x |--> sqrt(x + sqrt(x^2 + 1))/x"
      ]
     },
     "execution_count": 4,
     "metadata": {
     },
     "output_type": "execute_result"
    },
    {
     "data": {
      "image/png": "[encoded data removed]",
      "text/plain": [
       "Graphics object consisting of 1 graphics primitive"
      ]
     },
     "execution_count": 4,
     "metadata": {
     },
     "output_type": "execute_result"
    }
   ],
   "source": [
    "# Evaluating\n",
    "f(x) = sqrt(x+sqrt(1+x^2))/x\n",
    "show(f)\n",
    "plot(f,1,120)"
   ]
  },
  {
   "cell_type": "code",
   "execution_count": 5,
   "id": "06eed3",
   "metadata": {
    "collapsed": false
   },
   "outputs": [
    {
     "data": {
      "text/html": [
       "<html>\\(\\displaystyle \\frac{\\sqrt{x} \\Gamma\\left(\\frac{1}{4}\\right) \\Gamma\\left(-\\frac{1}{4}\\right)^{2} \\,_3F_2\\left(\\begin{matrix} -\\frac{1}{4},-\\frac{1}{4},\\frac{1}{4} \\\\ \\frac{1}{2},\\frac{3}{4} \\end{matrix} ; -\\frac{1}{x^{2}} \\right)}{8 \\, \\pi \\Gamma\\left(\\frac{3}{4}\\right)}\\)</html>"
      ],
      "text/latex": [
       "$\\displaystyle \\frac{\\sqrt{x} \\Gamma\\left(\\frac{1}{4}\\right) \\Gamma\\left(-\\frac{1}{4}\\right)^{2} \\,_3F_2\\left(\\begin{matrix} -\\frac{1}{4},-\\frac{1}{4},\\frac{1}{4} \\\\ \\frac{1}{2},\\frac{3}{4} \\end{matrix} ; -\\frac{1}{x^{2}} \\right)}{8 \\, \\pi \\Gamma\\left(\\frac{3}{4}\\right)}$"
      ],
      "text/plain": [
       "1/8*sqrt(x)*gamma(1/4)*gamma(-1/4)^2*hypergeometric((-1/4, -1/4, 1/4), (1/2, 3/4), -1/x^2)/(pi*gamma(3/4))"
      ]
     },
     "execution_count": 5,
     "metadata": {
     },
     "output_type": "execute_result"
    }
   ],
   "source": [
    "integrate(f(x),x).show()"
   ]
  },
  {
   "cell_type": "code",
   "execution_count": 6,
   "id": "36223e",
   "metadata": {
    "collapsed": false
   },
   "outputs": [
    {
     "data": {
      "text/plain": [
       "(1.2369291179588335, 1.3732671865871831e-14)"
      ]
     },
     "execution_count": 6,
     "metadata": {
     },
     "output_type": "execute_result"
    }
   ],
   "source": [
    "numerical_integral(f(x),1,2)"
   ]
  },
  {
   "cell_type": "code",
   "execution_count": 7,
   "id": "07b3f3",
   "metadata": {
    "collapsed": false
   },
   "outputs": [
    {
     "data": {
      "text/plain": [
       "2.72269476898150"
      ]
     },
     "execution_count": 7,
     "metadata": {
     },
     "output_type": "execute_result"
    }
   ],
   "source": [
    "(integral(f,x,0,1)).n()"
   ]
  },
  {
   "cell_type": "code",
   "execution_count": 8,
   "id": "e9738e",
   "metadata": {
    "collapsed": false
   },
   "outputs": [
    {
     "data": {
      "text/plain": [
       "(69.99281746999927, 13.112269516493129)"
      ]
     },
     "execution_count": 8,
     "metadata": {
     },
     "output_type": "execute_result"
    }
   ],
   "source": [
    "numerical_integral(f(x),0,1)"
   ]
  },
  {
   "cell_type": "code",
   "execution_count": 9,
   "id": "5b2e67",
   "metadata": {
    "collapsed": false
   },
   "outputs": [
    {
     "data": {
      "text/plain": [
       "(0.946083070367183, 1.0503632079297087e-14)"
      ]
     },
     "execution_count": 9,
     "metadata": {
     },
     "output_type": "execute_result"
    }
   ],
   "source": [
    "numerical_integral(sin(x)/x,0,1)"
   ]
  },
  {
   "cell_type": "code",
   "execution_count": 10,
   "id": "fa083f",
   "metadata": {
    "collapsed": false
   },
   "outputs": [
    {
     "data": {
      "text/plain": [
       "1.57079632679490"
      ]
     },
     "execution_count": 10,
     "metadata": {
     },
     "output_type": "execute_result"
    }
   ],
   "source": [
    "integrate(sin(x)/x,x, 0,infinity).n()"
   ]
  },
  {
   "cell_type": "code",
   "execution_count": 11,
   "id": "d92f71",
   "metadata": {
    "collapsed": false
   },
   "outputs": [
    {
     "data": {
      "text/plain": [
       "(1.902348806239928, 1.6980673032591547)"
      ]
     },
     "execution_count": 11,
     "metadata": {
     },
     "output_type": "execute_result"
    }
   ],
   "source": [
    "numerical_integral(sin(x)/x,0,oo)"
   ]
  },
  {
   "cell_type": "code",
   "execution_count": 12,
   "id": "0abdc9",
   "metadata": {
    "collapsed": false
   },
   "outputs": [
    {
     "data": {
      "image/png": "[encoded data removed]",
      "text/plain": [
       "Graphics object consisting of 1 graphics primitive"
      ]
     },
     "execution_count": 12,
     "metadata": {
     },
     "output_type": "execute_result"
    }
   ],
   "source": [
    "f(x) = x^3-5*x-1\n",
    "a = -2\n",
    "b = 2\n",
    "plot(f(x), (x, a, b), color = 'red',figsize=4)"
   ]
  },
  {
   "cell_type": "code",
   "execution_count": 14,
   "id": "171ee0",
   "metadata": {
    "collapsed": false
   },
   "outputs": [
    {
     "data": {
      "image/png": "[encoded data removed]",
      "text/plain": [
       "Graphics object consisting of 2 graphics primitives"
      ]
     },
     "execution_count": 14,
     "metadata": {
     },
     "output_type": "execute_result"
    }
   ],
   "source": [
    "plot(f(x), (x, a, b), color = 'red',figsize=4, fill = true, fillcolor = 'grey')"
   ]
  },
  {
   "cell_type": "code",
   "execution_count": 15,
   "id": "fbd741",
   "metadata": {
    "collapsed": false
   },
   "outputs": [
    {
     "data": {
      "image/png": "[encoded data removed]",
      "text/plain": [
       "Graphics object consisting of 4 graphics primitives"
      ]
     },
     "execution_count": 15,
     "metadata": {
     },
     "output_type": "execute_result"
    }
   ],
   "source": [
    "f(x) = x^3-5*x-1\n",
    "a = -2\n",
    "b = 2\n",
    "n = 10\n",
    "### r = 0 for a left Riemann sum, r=1 for a right one, r=0.5 for a middle one\n",
    "r = 0.5\n",
    "delta = (b-a)/n; rdelta = r*delta; xk = a; L = []; S = 0\n",
    "for k in range(n):\n",
    "    L = L + [(xk, 0)]\n",
    "    y = f(xk+rdelta)\n",
    "    S = S + y\n",
    "    L = L + [(xk,y)]\n",
    "    xk = xk + delta\n",
    "    L = L + [(xk, y)]\n",
    "L = L + [(xk,0)]\n",
    "G = plot(f(x), (x, a, b), color = 'red', thickness = 1)\n",
    "G = G + plot(f(x), (x, a, b), color = 'red', thickness = 1, fill = true,fillcolor = 'grey')\n",
    "G = G + polygon(L, edgecolor = 'black', color = 'lightblue')\n",
    "G.show(aspect_ratio = 'automatic',figsize=5)"
   ]
  },
  {
   "cell_type": "code",
   "execution_count": 16,
   "id": "6575d7",
   "metadata": {
    "collapsed": false
   },
   "outputs": [
    {
     "data": {
      "text/html": [
       "<html>\\(\\displaystyle \\verb|Actual|\\verb| |\\verb|Integral|\\verb| |\\verb|=|\\verb| |\\verb|-4.00000000000000|\\)</html>"
      ],
      "text/latex": [
       "$\\displaystyle \\verb|Actual|\\verb| |\\verb|Integral|\\verb| |\\verb|=|\\verb| |\\verb|-4.00000000000000|$"
      ],
      "text/plain": [
       "'Actual Integral = -4.00000000000000'"
      ]
     },
     "execution_count": 16,
     "metadata": {
     },
     "output_type": "execute_result"
    },
    {
     "data": {
      "text/html": [
       "<html>\\(\\displaystyle \\verb|Approximate|\\verb| |\\verb|Riemann|\\verb| |\\verb|Sum|\\verb| |\\verb|=|\\verb| |\\verb|-4.80000000000000|\\)</html>"
      ],
      "text/latex": [
       "$\\displaystyle \\verb|Approximate|\\verb| |\\verb|Riemann|\\verb| |\\verb|Sum|\\verb| |\\verb|=|\\verb| |\\verb|-4.80000000000000|$"
      ],
      "text/plain": [
       "'Approximate Riemann Sum = -4.80000000000000'"
      ]
     },
     "execution_count": 16,
     "metadata": {
     },
     "output_type": "execute_result"
    },
    {
     "data": {
      "image/png": "[encoded data removed]",
      "text/plain": [
       "Graphics object consisting of 4 graphics primitives"
      ]
     },
     "execution_count": 16,
     "metadata": {
     },
     "output_type": "execute_result"
    }
   ],
   "source": [
    "f(x) = x^3-5*x-1\n",
    "a = -2\n",
    "b = 2\n",
    "n = 10\n",
    "### r = 0 for a left Riemann sum, r=1 for a right one, r=0.5 for a middle one\n",
    "r = 1\n",
    "I = integral(f(x), x, a, b).n()\n",
    "delta = (b-a)/n; rdelta = r*delta; xk = a; L = []; S = 0\n",
    "for k in range(n):\n",
    "    L = L + [(xk, 0)]\n",
    "    y = f(xk+rdelta)\n",
    "    S = S + y\n",
    "    L = L + [(xk,y)]\n",
    "    xk = xk + delta\n",
    "    L = L + [(xk, y)]\n",
    "S = delta*S.n()\n",
    "L = L + [(xk,0)]\n",
    "pretty_print('Actual Integral = %s'%I)\n",
    "pretty_print('Approximate Riemann Sum = %s'%S)\n",
    "G = plot(f(x), (x, a, b), color = 'red', thickness = 1)\n",
    "G = G + plot(f(x), (x, a, b), color = 'red', thickness = 1, fill = true,fillcolor = 'grey')\n",
    "G = G + polygon(L, edgecolor = 'black', color = 'lightblue')\n",
    "G.show(aspect_ratio = 'automatic',figsize=5)"
   ]
  },
  {
   "cell_type": "code",
   "execution_count": 19,
   "id": "6b7cac",
   "metadata": {
    "collapsed": false
   },
   "outputs": [
    {
     "data": {
      "text/html": [
       "<html>\\(\\displaystyle -\\frac{4}{\\sqrt{-x^{2} + 1}}\\)</html>"
      ],
      "text/latex": [
       "$\\displaystyle -\\frac{4}{\\sqrt{-x^{2} + 1}}$"
      ],
      "text/plain": [
       "-4/sqrt(-x^2 + 1)"
      ]
     },
     "execution_count": 19,
     "metadata": {
     },
     "output_type": "execute_result"
    },
    {
     "data": {
      "text/html": [
       "<html>\\(\\displaystyle -4 \\, \\arcsin\\left(x\\right)\\)</html>"
      ],
      "text/latex": [
       "$\\displaystyle -4 \\, \\arcsin\\left(x\\right)$"
      ],
      "text/plain": [
       "-4*arcsin(x)"
      ]
     },
     "execution_count": 19,
     "metadata": {
     },
     "output_type": "execute_result"
    }
   ],
   "source": [
    "# Evaluate the following indefinite integrals.\n",
    "f1 = -4/sqrt(1-x^2)\n",
    "show(f1)\n",
    "I1 = integrate(f1,x)\n",
    "show(I1)"
   ]
  },
  {
   "cell_type": "code",
   "execution_count": 20,
   "id": "30b3ed",
   "metadata": {
    "collapsed": false
   },
   "outputs": [
    {
     "data": {
      "text/html": [
       "<html>\\(\\displaystyle 2 \\, x^{2} \\cos\\left(2 \\, x\\right)\\)</html>"
      ],
      "text/latex": [
       "$\\displaystyle 2 \\, x^{2} \\cos\\left(2 \\, x\\right)$"
      ],
      "text/plain": [
       "2*x^2*cos(2*x)"
      ]
     },
     "execution_count": 20,
     "metadata": {
     },
     "output_type": "execute_result"
    },
    {
     "data": {
      "text/html": [
       "<html>\\(\\displaystyle x \\cos\\left(2 \\, x\\right) + \\frac{1}{2} \\, {\\left(2 \\, x^{2} - 1\\right)} \\sin\\left(2 \\, x\\right)\\)</html>"
      ],
      "text/latex": [
       "$\\displaystyle x \\cos\\left(2 \\, x\\right) + \\frac{1}{2} \\, {\\left(2 \\, x^{2} - 1\\right)} \\sin\\left(2 \\, x\\right)$"
      ],
      "text/plain": [
       "x*cos(2*x) + 1/2*(2*x^2 - 1)*sin(2*x)"
      ]
     },
     "execution_count": 20,
     "metadata": {
     },
     "output_type": "execute_result"
    }
   ],
   "source": [
    "f2 = 2*x^2*cos(2*x)\n",
    "show(f2)\n",
    "I2 = integrate(f2,x)\n",
    "show(I2)"
   ]
  },
  {
   "cell_type": "code",
   "execution_count": 21,
   "id": "6a58a0",
   "metadata": {
    "collapsed": false
   },
   "outputs": [
    {
     "data": {
      "text/html": [
       "<html>\\(\\displaystyle \\frac{2 \\, x^{5} + x^{2} + x + 1}{x^{2} - 1}\\)</html>"
      ],
      "text/latex": [
       "$\\displaystyle \\frac{2 \\, x^{5} + x^{2} + x + 1}{x^{2} - 1}$"
      ],
      "text/plain": [
       "(2*x^5 + x^2 + x + 1)/(x^2 - 1)"
      ]
     },
     "execution_count": 21,
     "metadata": {
     },
     "output_type": "execute_result"
    },
    {
     "data": {
      "text/html": [
       "<html>\\(\\displaystyle \\frac{1}{2} \\, x^{4} + x^{2} + x + \\frac{1}{2} \\, \\log\\left(x + 1\\right) + \\frac{5}{2} \\, \\log\\left(x - 1\\right)\\)</html>"
      ],
      "text/latex": [
       "$\\displaystyle \\frac{1}{2} \\, x^{4} + x^{2} + x + \\frac{1}{2} \\, \\log\\left(x + 1\\right) + \\frac{5}{2} \\, \\log\\left(x - 1\\right)$"
      ],
      "text/plain": [
       "1/2*x^4 + x^2 + x + 1/2*log(x + 1) + 5/2*log(x - 1)"
      ]
     },
     "execution_count": 21,
     "metadata": {
     },
     "output_type": "execute_result"
    }
   ],
   "source": [
    "f3 = (2*x^5+x^2+x+1)/(x^2-1)\n",
    "show(f3)\n",
    "I3 = integrate(f3,x)\n",
    "show(I3)"
   ]
  },
  {
   "cell_type": "code",
   "execution_count": 22,
   "id": "79f8c4",
   "metadata": {
    "collapsed": false
   },
   "outputs": [
    {
     "data": {
      "text/html": [
       "<html>\\(\\displaystyle \\cos\\left(x\\right)^{2} \\sin\\left(x\\right)^{5}\\)</html>"
      ],
      "text/latex": [
       "$\\displaystyle \\cos\\left(x\\right)^{2} \\sin\\left(x\\right)^{5}$"
      ],
      "text/plain": [
       "cos(x)^2*sin(x)^5"
      ]
     },
     "execution_count": 22,
     "metadata": {
     },
     "output_type": "execute_result"
    },
    {
     "data": {
      "text/html": [
       "<html>\\(\\displaystyle -\\frac{1}{7} \\, \\cos\\left(x\\right)^{7} + \\frac{2}{5} \\, \\cos\\left(x\\right)^{5} - \\frac{1}{3} \\, \\cos\\left(x\\right)^{3}\\)</html>"
      ],
      "text/latex": [
       "$\\displaystyle -\\frac{1}{7} \\, \\cos\\left(x\\right)^{7} + \\frac{2}{5} \\, \\cos\\left(x\\right)^{5} - \\frac{1}{3} \\, \\cos\\left(x\\right)^{3}$"
      ],
      "text/plain": [
       "-1/7*cos(x)^7 + 2/5*cos(x)^5 - 1/3*cos(x)^3"
      ]
     },
     "execution_count": 22,
     "metadata": {
     },
     "output_type": "execute_result"
    }
   ],
   "source": [
    "f4 = sin(x)^5*cos(x)^2\n",
    "show(f4)\n",
    "I4 = integrate(f4,x)\n",
    "show(I4)"
   ]
  },
  {
   "cell_type": "code",
   "execution_count": 23,
   "id": "019c0e",
   "metadata": {
    "collapsed": false
   },
   "outputs": [
    {
     "data": {
      "text/html": [
       "<html>\\(\\displaystyle \\sin\\left(x\\right)^{5}\\)</html>"
      ],
      "text/latex": [
       "$\\displaystyle \\sin\\left(x\\right)^{5}$"
      ],
      "text/plain": [
       "sin(x)^5"
      ]
     },
     "execution_count": 23,
     "metadata": {
     },
     "output_type": "execute_result"
    },
    {
     "data": {
      "text/html": [
       "<html>\\(\\displaystyle -\\frac{1}{5} \\, \\cos\\left(x\\right)^{5} + \\frac{2}{3} \\, \\cos\\left(x\\right)^{3} - \\cos\\left(x\\right)\\)</html>"
      ],
      "text/latex": [
       "$\\displaystyle -\\frac{1}{5} \\, \\cos\\left(x\\right)^{5} + \\frac{2}{3} \\, \\cos\\left(x\\right)^{3} - \\cos\\left(x\\right)$"
      ],
      "text/plain": [
       "-1/5*cos(x)^5 + 2/3*cos(x)^3 - cos(x)"
      ]
     },
     "execution_count": 23,
     "metadata": {
     },
     "output_type": "execute_result"
    }
   ],
   "source": [
    "f5 = sin(x)^5\n",
    "show(f5)\n",
    "I5 = integrate(f5,x)\n",
    "show(I5)"
   ]
  },
  {
   "cell_type": "code",
   "execution_count": 25,
   "id": "ae10ee",
   "metadata": {
    "collapsed": false
   },
   "outputs": [
    {
     "data": {
      "text/html": [
       "<html>\\(\\displaystyle \\tan\\left(x^{2}\\right)\\)</html>"
      ],
      "text/latex": [
       "$\\displaystyle \\tan\\left(x^{2}\\right)$"
      ],
      "text/plain": [
       "tan(x^2)"
      ]
     },
     "execution_count": 25,
     "metadata": {
     },
     "output_type": "execute_result"
    },
    {
     "data": {
      "text/html": [
       "<html>\\(\\displaystyle 0.39841444459716535\\)</html>"
      ],
      "text/latex": [
       "$\\displaystyle 0.39841444459716535$"
      ],
      "text/plain": [
       "0.39841444459716535"
      ]
     },
     "execution_count": 25,
     "metadata": {
     },
     "output_type": "execute_result"
    }
   ],
   "source": [
    "g1 = tan(x^2)\n",
    "show(g1)\n",
    "I1 = integrate(g1,x,0,1).n()\n",
    "# n() is necessary to convert the solution to a float value.\n",
    "show(I1)"
   ]
  },
  {
   "cell_type": "code",
   "execution_count": 26,
   "id": "029f0f",
   "metadata": {
    "collapsed": false
   },
   "outputs": [
    {
     "data": {
      "text/html": [
       "<html>\\(\\displaystyle \\sqrt{2 \\, x^{3} + 1}\\)</html>"
      ],
      "text/latex": [
       "$\\displaystyle \\sqrt{2 \\, x^{3} + 1}$"
      ],
      "text/plain": [
       "sqrt(2*x^3 + 1)"
      ]
     },
     "execution_count": 26,
     "metadata": {
     },
     "output_type": "execute_result"
    },
    {
     "data": {
      "text/html": [
       "<html>\\(\\displaystyle 4.03659298665783\\)</html>"
      ],
      "text/latex": [
       "$\\displaystyle 4.03659298665783$"
      ],
      "text/plain": [
       "4.03659298665783"
      ]
     },
     "execution_count": 26,
     "metadata": {
     },
     "output_type": "execute_result"
    }
   ],
   "source": [
    "f2 = sqrt(2*x^3+1)\n",
    "show(f2)\n",
    "I2 = integrate(f2,x,0,2).n()\n",
    "show(I2)\n"
   ]
  }
 ],
 "metadata": {
  "kernelspec": {
   "argv": [
    "sage-10.4",
    "--python",
    "-m",
    "sage.repl.ipython_kernel",
    "--matplotlib=inline",
    "-f",
    "{connection_file}"
   ],
   "display_name": "SageMath 10.4",
   "env": {
   },
   "language": "sagemath",
   "metadata": {
    "cocalc": {
     "description": "Open-source mathematical software system",
     "priority": 10,
     "url": "https://www.sagemath.org/"
    }
   },
   "name": "sage-10.4",
   "resource_dir": "/ext/jupyter/kernels/sage-10.4"
  },
  "language_info": {
   "codemirror_mode": {
    "name": "ipython",
    "version": 3
   },
   "file_extension": ".py",
   "mimetype": "text/x-python",
   "name": "python",
   "nbconvert_exporter": "python",
   "pygments_lexer": "ipython3",
   "version": "3.12.4"
  }
 },
 "nbformat": 4,
 "nbformat_minor": 4
}