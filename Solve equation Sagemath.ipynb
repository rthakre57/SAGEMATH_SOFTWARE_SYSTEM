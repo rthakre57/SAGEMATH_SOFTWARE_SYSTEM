{
 "cells": [
  {
   "cell_type": "code",
   "execution_count": 1,
   "id": "40b8b7",
   "metadata": {
    "collapsed": false
   },
   "outputs": [
    {
     "data": {
      "text/plain": [
       "\u001b[0;31mSignature:\u001b[0m \u001b[0msolve\u001b[0m\u001b[0;34m(\u001b[0m\u001b[0mf\u001b[0m\u001b[0;34m,\u001b[0m \u001b[0;34m*\u001b[0m\u001b[0margs\u001b[0m\u001b[0;34m,\u001b[0m \u001b[0;34m**\u001b[0m\u001b[0mkwds\u001b[0m\u001b[0;34m)\u001b[0m\u001b[0;34m\u001b[0m\u001b[0;34m\u001b[0m\u001b[0m\n",
       "\u001b[0;31mDocstring:\u001b[0m\n",
       "   Algebraically solve an equation or system of equations (over the\n",
       "   complex numbers) for given variables. Inequalities and systems of\n",
       "   inequalities are also supported.\n",
       "\n",
       "   INPUT:\n",
       "\n",
       "   * \"f\" - equation or system of equations (given by a list or tuple)\n",
       "\n",
       "   * \"*args\" - variables to solve for.\n",
       "\n",
       "   * \"solution_dict\" - bool (default: False); if True or non-zero,\n",
       "     return a list of dictionaries containing the solutions. If there\n",
       "     are no solutions, return an empty list (rather than a list\n",
       "     containing an empty dictionary). Likewise, if there's only a\n",
       "     single solution, return a list containing one dictionary with\n",
       "     that solution.\n",
       "\n",
       "   There are a few optional keywords if you are trying to solve a\n",
       "   single equation.  They may only be used in that context.\n",
       "\n",
       "   * \"multiplicities\" - bool (default: False); if True, return\n",
       "     corresponding multiplicities.  This keyword is incompatible with\n",
       "     \"to_poly_solve=True\" and does not make any sense when solving\n",
       "     inequalities.\n",
       "\n",
       "   * \"explicit_solutions\" - bool (default: False); require that all\n",
       "     roots be explicit rather than implicit. Not used when solving\n",
       "     inequalities.\n",
       "\n",
       "   * \"to_poly_solve\" - bool (default: False) or string; use Maxima's\n",
       "     \"to_poly_solver\" package to search for more possible solutions,\n",
       "     but possibly encounter approximate solutions. This keyword is\n",
       "     incompatible with \"multiplicities=True\" and is not used when\n",
       "     solving inequalities. Setting \"to_poly_solve\" to 'force' (string)\n",
       "     omits Maxima's solve command (useful when some solutions of\n",
       "     trigonometric equations are lost).\n",
       "\n",
       "   * \"algorithm\" - string (default: 'maxima'); to use SymPy's solvers\n",
       "     set this to 'sympy'. Note that SymPy is always used for\n",
       "     diophantine equations. Another choice is 'giac'.\n",
       "\n",
       "   * \"domain\" - string (default: 'complex'); setting this to 'real'\n",
       "     changes the way SymPy solves single equations; inequalities are\n",
       "     always solved in the real domain.\n",
       "\n",
       "   EXAMPLES:\n",
       "\n",
       "      sage: x, y = var('x, y')\n",
       "      sage: solve([x+y==6, x-y==4], x, y)\n",
       "      [[x == 5, y == 1]]\n",
       "      sage: solve([x^2+y^2 == 1, y^2 == x^3 + x + 1], x, y)\n",
       "      [[x == -1/2*I*sqrt(3) - 1/2, y == -sqrt(-1/2*I*sqrt(3) + 3/2)],\n",
       "       [x == -1/2*I*sqrt(3) - 1/2, y == sqrt(-1/2*I*sqrt(3) + 3/2)],\n",
       "       [x == 1/2*I*sqrt(3) - 1/2, y == -sqrt(1/2*I*sqrt(3) + 3/2)],\n",
       "       [x == 1/2*I*sqrt(3) - 1/2, y == sqrt(1/2*I*sqrt(3) + 3/2)],\n",
       "       [x == 0, y == -1],\n",
       "       [x == 0, y == 1]]\n",
       "      sage: solve([sqrt(x) + sqrt(y) == 5, x + y == 10], x, y)\n",
       "      [[x == -5/2*I*sqrt(5) + 5, y == 5/2*I*sqrt(5) + 5], [x == 5/2*I*sqrt(5) + 5, y == -5/2*I*sqrt(5) + 5]]\n",
       "      sage: solutions = solve([x^2+y^2 == 1, y^2 == x^3 + x + 1], x, y, solution_dict=True)\n",
       "      sage: for solution in solutions: print(\"{} , {}\".format(solution[x].n(digits=3), solution[y].n(digits=3)))\n",
       "      -0.500 - 0.866*I , -1.27 + 0.341*I\n",
       "      -0.500 - 0.866*I , 1.27 - 0.341*I\n",
       "      -0.500 + 0.866*I , -1.27 - 0.341*I\n",
       "      -0.500 + 0.866*I , 1.27 + 0.341*I\n",
       "      0.000 , -1.00\n",
       "      0.000 , 1.00\n",
       "\n",
       "   Whenever possible, answers will be symbolic, but with systems of\n",
       "   equations, at times approximations will be given by Maxima, due to\n",
       "   the underlying algorithm:\n",
       "\n",
       "      sage: sols = solve([x^3==y,y^2==x], [x,y]); sols[-1], sols[0] # abs tol 1e-15\n",
       "      ([x == 0, y == 0],\n",
       "       [x == (0.3090169943749475 + 0.9510565162951535*I),\n",
       "        y == (-0.8090169943749475 - 0.5877852522924731*I)])\n",
       "      sage: sols[0][0].rhs().pyobject().parent()\n",
       "      Complex Double Field\n",
       "\n",
       "      sage: solve([y^6==y],y)\n",
       "      [y == 1/4*sqrt(5) + 1/4*I*sqrt(2*sqrt(5) + 10) - 1/4,\n",
       "       y == -1/4*sqrt(5) + 1/4*I*sqrt(-2*sqrt(5) + 10) - 1/4,\n",
       "       y == -1/4*sqrt(5) - 1/4*I*sqrt(-2*sqrt(5) + 10) - 1/4,\n",
       "       y == 1/4*sqrt(5) - 1/4*I*sqrt(2*sqrt(5) + 10) - 1/4,\n",
       "       y == 1,\n",
       "       y == 0]\n",
       "      sage: solve( [y^6 == y], y)==solve( y^6 == y, y)\n",
       "      True\n",
       "\n",
       "   Here we demonstrate very basic use of the optional keywords:\n",
       "\n",
       "      sage: ((x^2-1)^2).solve(x)\n",
       "      [x == -1, x == 1]\n",
       "      sage: ((x^2-1)^2).solve(x,multiplicities=True)\n",
       "      ([x == -1, x == 1], [2, 2])\n",
       "      sage: solve(sin(x)==x,x)\n",
       "      [x == sin(x)]\n",
       "      sage: solve(sin(x)==x,x,explicit_solutions=True)\n",
       "      []\n",
       "      sage: solve(abs(1-abs(1-x)) == 10, x)\n",
       "      [abs(abs(x - 1) - 1) == 10]\n",
       "      sage: solve(abs(1-abs(1-x)) == 10, x, to_poly_solve=True)\n",
       "      [x == -10, x == 12]\n",
       "\n",
       "      sage: from sage.symbolic.expression import Expression\n",
       "      sage: Expression.solve(x^2==1,x)\n",
       "      [x == -1, x == 1]\n",
       "\n",
       "   We must solve with respect to actual variables:\n",
       "\n",
       "      sage: z = 5\n",
       "      sage: solve([8*z + y == 3, -z +7*y == 0],y,z)\n",
       "      Traceback (most recent call last):\n",
       "      ...\n",
       "      TypeError: 5 is not a valid variable.\n",
       "\n",
       "   If we ask for dictionaries containing the solutions, we get them:\n",
       "\n",
       "      sage: solve([x^2-1],x,solution_dict=True)\n",
       "      [{x: -1}, {x: 1}]\n",
       "      sage: solve([x^2-4*x+4],x,solution_dict=True)\n",
       "      [{x: 2}]\n",
       "      sage: res = solve([x^2 == y, y == 4],x,y,solution_dict=True)\n",
       "      sage: for soln in res: print(\"x: %s, y: %s\" % (soln[x], soln[y]))\n",
       "      x: 2, y: 4\n",
       "      x: -2, y: 4\n",
       "\n",
       "   If there is a parameter in the answer, that will show up as a new\n",
       "   variable.  In the following example, \"r1\" is an arbitrary constant\n",
       "   (because of the \"r\"):\n",
       "\n",
       "      sage: forget()\n",
       "      sage: x, y = var('x,y')\n",
       "      sage: solve([x+y == 3, 2*x+2*y == 6],x,y)\n",
       "      [[x == -r1 + 3, y == r1]]\n",
       "\n",
       "      sage: var('b, c')\n",
       "      (b, c)\n",
       "      sage: solve((b-1)*(c-1), [b,c])\n",
       "      [[b == 1, c == r...], [b == r..., c == 1]]\n",
       "\n",
       "   Especially with trigonometric functions, the dummy variable may be\n",
       "   implicitly an integer (hence the \"z\"):\n",
       "\n",
       "      sage: solve( sin(x)==cos(x), x, to_poly_solve=True)\n",
       "      [x == 1/4*pi + pi*z...]\n",
       "      sage: solve([cos(x)*sin(x) == 1/2, x+y == 0],x,y)\n",
       "      [[x == 1/4*pi + pi*z..., y == -1/4*pi - pi*z...]]\n",
       "\n",
       "   Expressions which are not equations are assumed to be set equal to\n",
       "   zero, as with x in the following example:\n",
       "\n",
       "      sage: solve([x, y == 2],x,y)\n",
       "      [[x == 0, y == 2]]\n",
       "\n",
       "   If \"True\" appears in the list of equations it is ignored, and if\n",
       "   \"False\" appears in the list then no solutions are returned. E.g.,\n",
       "   note that the first \"3==3\" evaluates to \"True\", not to a symbolic\n",
       "   equation.\n",
       "\n",
       "      sage: solve([3==3, 1.00000000000000*x^3 == 0], x)\n",
       "      [x == 0]\n",
       "      sage: solve([1.00000000000000*x^3 == 0], x)\n",
       "      [x == 0]\n",
       "\n",
       "   Here, the first equation evaluates to \"False\", so there are no\n",
       "   solutions:\n",
       "\n",
       "      sage: solve([1==3, 1.00000000000000*x^3 == 0], x)\n",
       "      []\n",
       "\n",
       "   Completely symbolic solutions are supported:\n",
       "\n",
       "      sage: var('s,j,b,m,g')\n",
       "      (s, j, b, m, g)\n",
       "      sage: sys = [ m*(1-s) - b*s*j, b*s*j-g*j ]\n",
       "      sage: solve(sys,s,j)\n",
       "      [[s == 1, j == 0], [s == g/b, j == (b - g)*m/(b*g)]]\n",
       "      sage: solve(sys,(s,j))\n",
       "      [[s == 1, j == 0], [s == g/b, j == (b - g)*m/(b*g)]]\n",
       "      sage: solve(sys,[s,j])\n",
       "      [[s == 1, j == 0], [s == g/b, j == (b - g)*m/(b*g)]]\n",
       "\n",
       "      sage: z = var('z')\n",
       "      sage: solve((x-z)^2==2, x)\n",
       "      [x == z - sqrt(2), x == z + sqrt(2)]\n",
       "\n",
       "   Inequalities can be also solved:\n",
       "\n",
       "      sage: solve(x^2>8,x)\n",
       "      [[x < -2*sqrt(2)], [x > 2*sqrt(2)]]\n",
       "      sage: x,y = var('x,y'); (ln(x)-ln(y)>0).solve(x)\n",
       "      [[log(x) - log(y) > 0]]\n",
       "      sage: x,y = var('x,y'); (ln(x)>ln(y)).solve(x)  # random\n",
       "      [[0 < y, y < x, 0 < x]]\n",
       "      [[y < x, 0 < y]]\n",
       "\n",
       "   A simple example to show the use of the keyword \"multiplicities\":\n",
       "\n",
       "      sage: ((x^2-1)^2).solve(x)\n",
       "      [x == -1, x == 1]\n",
       "      sage: ((x^2-1)^2).solve(x,multiplicities=True)\n",
       "      ([x == -1, x == 1], [2, 2])\n",
       "      sage: ((x^2-1)^2).solve(x,multiplicities=True,to_poly_solve=True)\n",
       "      Traceback (most recent call last):\n",
       "      ...\n",
       "      NotImplementedError: to_poly_solve does not return multiplicities\n",
       "\n",
       "   Here is how the \"explicit_solutions\" keyword functions:\n",
       "\n",
       "      sage: solve(sin(x)==x,x)\n",
       "      [x == sin(x)]\n",
       "      sage: solve(sin(x)==x,x,explicit_solutions=True)\n",
       "      []\n",
       "      sage: solve(x*sin(x)==x^2,x)\n",
       "      [x == 0, x == sin(x)]\n",
       "      sage: solve(x*sin(x)==x^2,x,explicit_solutions=True)\n",
       "      [x == 0]\n",
       "\n",
       "   The following examples show the use of the keyword \"to_poly_solve\":\n",
       "\n",
       "      sage: solve(abs(1-abs(1-x)) == 10, x)\n",
       "      [abs(abs(x - 1) - 1) == 10]\n",
       "      sage: solve(abs(1-abs(1-x)) == 10, x, to_poly_solve=True)\n",
       "      [x == -10, x == 12]\n",
       "\n",
       "      sage: var('Q')\n",
       "      Q\n",
       "      sage: solve(Q*sqrt(Q^2 + 2) - 1, Q)\n",
       "      [Q == 1/sqrt(Q^2 + 2)]\n",
       "\n",
       "   The following example is a regression in Maxima 5.39.0. It used to\n",
       "   be possible to get one more solution here, namely \"1/sqrt(sqrt(2) +\n",
       "   1)\", see https://sourceforge.net/p/maxima/bugs/3276/:\n",
       "\n",
       "      sage: solve(Q*sqrt(Q^2 + 2) - 1, Q, to_poly_solve=True)\n",
       "      [Q == -sqrt(-sqrt(2) - 1), Q == sqrt(sqrt(2) + 1)*(sqrt(2) - 1)]\n",
       "\n",
       "   An effort is made to only return solutions that satisfy the current\n",
       "   assumptions:\n",
       "\n",
       "      sage: solve(x^2==4, x)\n",
       "      [x == -2, x == 2]\n",
       "      sage: assume(x<0)\n",
       "      sage: solve(x^2==4, x)\n",
       "      [x == -2]\n",
       "      sage: solve((x^2-4)^2 == 0, x, multiplicities=True)\n",
       "      ([x == -2], [2])\n",
       "      sage: solve(x^2==2, x)\n",
       "      [x == -sqrt(2)]\n",
       "      sage: z = var('z')\n",
       "      sage: solve(x^2==2-z, x)\n",
       "      [x == -sqrt(-z + 2)]\n",
       "      sage: assume(x, 'rational')\n",
       "      sage: solve(x^2 == 2, x)\n",
       "      []\n",
       "\n",
       "   In some cases it may be worthwhile to directly use \"to_poly_solve\"\n",
       "   if one suspects some answers are being missed:\n",
       "\n",
       "      sage: forget()\n",
       "      sage: solve(cos(x)==0, x)\n",
       "      [x == 1/2*pi]\n",
       "      sage: solve(cos(x)==0, x, to_poly_solve=True)\n",
       "      [x == 1/2*pi]\n",
       "      sage: solve(cos(x)==0, x, to_poly_solve='force')\n",
       "      [x == 1/2*pi + pi*z...]\n",
       "\n",
       "   The same may also apply if a returned unsolved expression has a\n",
       "   denominator, but the original one did not:\n",
       "\n",
       "      sage: solve(cos(x) * sin(x) == 1/2, x, to_poly_solve=True)\n",
       "      [sin(x) == 1/2/cos(x)]\n",
       "      sage: solve(cos(x) * sin(x) == 1/2, x, to_poly_solve=True, explicit_solutions=True)\n",
       "      [x == 1/4*pi + pi*z...]\n",
       "      sage: solve(cos(x) * sin(x) == 1/2, x, to_poly_solve='force')\n",
       "      [x == 1/4*pi + pi*z...]\n",
       "\n",
       "   We use \"use_grobner\" in Maxima if no solution is obtained from\n",
       "   Maxima's \"to_poly_solve\":\n",
       "\n",
       "      sage: x,y = var('x y')\n",
       "      sage: c1(x,y) = (x-5)^2+y^2-16\n",
       "      sage: c2(x,y) = (y-3)^2+x^2-9\n",
       "      sage: solve([c1(x,y),c2(x,y)],[x,y])\n",
       "      [[x == -9/68*sqrt(55) + 135/68, y == -15/68*sqrt(55) + 123/68],\n",
       "       [x == 9/68*sqrt(55) + 135/68, y == 15/68*sqrt(55) + 123/68]]\n",
       "\n",
       "   We use SymPy for Diophantine equations, see\n",
       "   \"Expression.solve_diophantine\":\n",
       "\n",
       "      sage: assume(x, 'integer')\n",
       "      sage: assume(z, 'integer')\n",
       "      sage: solve((x-z)^2==2, x)\n",
       "      []\n",
       "\n",
       "      sage: forget()\n",
       "\n",
       "   The following shows some more of SymPy's capabilities that cannot\n",
       "   be handled by Maxima:\n",
       "\n",
       "      sage: _ = var('t')\n",
       "      sage: r = solve([x^2 - y^2/exp(x), y-1], x, y, algorithm='sympy')\n",
       "      sage: (r[0][x], r[0][y])\n",
       "      (2*lambert_w(-1/2), 1)\n",
       "      sage: solve(-2*x**3 + 4*x**2 - 2*x + 6 > 0, x, algorithm='sympy')\n",
       "      [x < 1/3*(1/2)^(1/3)*(9*sqrt(77) + 79)^(1/3) + 2/3*(1/2)^(2/3)/(9*sqrt(77) + 79)^(1/3) + 2/3]\n",
       "      sage: solve(sqrt(2*x^2 - 7) - (3 - x),x,algorithm='sympy')\n",
       "      [x == -8, x == 2]\n",
       "      sage: solve(sqrt(2*x + 9) - sqrt(x + 1) - sqrt(x + 4),x,algorithm='sympy')\n",
       "      [x == 0]\n",
       "      sage: r = solve([x + y + z + t, -z - t], x, y, z, t, algorithm='sympy')\n",
       "      sage: (r[0][x], r[0][z])\n",
       "      (-y, -t)\n",
       "      sage: r = solve([x^2+y+z, y+x^2+z, x+y+z^2], x, y,z, algorithm='sympy')\n",
       "      sage: (r[0][x], r[0][y])\n",
       "      (z, -(z + 1)*z)\n",
       "      sage: (r[1][x], r[1][y])\n",
       "      (-z + 1, -z^2 + z - 1)\n",
       "      sage: solve(abs(x + 3) - 2*abs(x - 3),x,algorithm='sympy',domain='real')\n",
       "      [x == 1, x == 9]\n",
       "\n",
       "   We cannot translate all results from SymPy but we can at least\n",
       "   print them:\n",
       "\n",
       "      sage: solve(sinh(x) - 2*cosh(x),x,algorithm='sympy')\n",
       "      [ImageSet(Lambda(_n, I*(2*_n*pi + pi/2) + log(sqrt(3))), Integers),\n",
       "       ImageSet(Lambda(_n, I*(2*_n*pi - pi/2) + log(sqrt(3))), Integers)]\n",
       "      sage: solve(2*sin(x) - 2*sin(2*x), x,algorithm='sympy')\n",
       "      [ImageSet(Lambda(_n, 2*_n*pi), Integers),\n",
       "       ImageSet(Lambda(_n, 2*_n*pi + pi), Integers),\n",
       "       ImageSet(Lambda(_n, 2*_n*pi + 5*pi/3), Integers),\n",
       "       ImageSet(Lambda(_n, 2*_n*pi + pi/3), Integers)]\n",
       "\n",
       "      sage: solve(x^5 + 3*x^3 + 7, x, algorithm='sympy')[0] # known bug\n",
       "      complex_root_of(x^5 + 3*x^3 + 7, 0)\n",
       "\n",
       "   A basic interface to Giac is provided:\n",
       "\n",
       "      sage: solve([(2/3)^x-2], [x], algorithm='giac')\n",
       "      ...[[-log(2)/(log(3) - log(2))]]\n",
       "\n",
       "      sage: f = (sin(x) - 8*cos(x)*sin(x))*(sin(x)^2 + cos(x)) - (2*cos(x)*sin(x) - sin(x))*(-2*sin(x)^2 + 2*cos(x)^2 - cos(x))\n",
       "      sage: solve(f, x, algorithm='giac')\n",
       "      ...[-2*arctan(sqrt(2)), 0, 2*arctan(sqrt(2)), pi]\n",
       "\n",
       "      sage: x, y = SR.var('x,y')\n",
       "      sage: solve([x+y-4,x*y-3],[x,y],algorithm='giac')\n",
       "      [[1, 3], [3, 1]]\n",
       "\u001b[0;31mSource:\u001b[0m   \n",
       "\u001b[0;32mdef\u001b[0m \u001b[0msolve\u001b[0m\u001b[0;34m(\u001b[0m\u001b[0mf\u001b[0m\u001b[0;34m,\u001b[0m \u001b[0;34m*\u001b[0m\u001b[0margs\u001b[0m\u001b[0;34m,\u001b[0m \u001b[0;34m**\u001b[0m\u001b[0mkwds\u001b[0m\u001b[0;34m)\u001b[0m\u001b[0;34m:\u001b[0m\u001b[0;34m\u001b[0m\n",
       "\u001b[0;34m\u001b[0m    \u001b[0;34mr\"\"\"\u001b[0m\n",
       "\u001b[0;34m    Algebraically solve an equation or system of equations (over the\u001b[0m\n",
       "\u001b[0;34m    complex numbers) for given variables. Inequalities and systems\u001b[0m\n",
       "\u001b[0;34m    of inequalities are also supported.\u001b[0m\n",
       "\u001b[0;34m\u001b[0m\n",
       "\u001b[0;34m    INPUT:\u001b[0m\n",
       "\u001b[0;34m\u001b[0m\n",
       "\u001b[0;34m    -  ``f`` - equation or system of equations (given by a\u001b[0m\n",
       "\u001b[0;34m       list or tuple)\u001b[0m\n",
       "\u001b[0;34m\u001b[0m\n",
       "\u001b[0;34m    -  ``*args`` - variables to solve for.\u001b[0m\n",
       "\u001b[0;34m\u001b[0m\n",
       "\u001b[0;34m    -  ``solution_dict`` - bool (default: False); if True or non-zero,\u001b[0m\n",
       "\u001b[0;34m       return a list of dictionaries containing the solutions. If there\u001b[0m\n",
       "\u001b[0;34m       are no solutions, return an empty list (rather than a list containing\u001b[0m\n",
       "\u001b[0;34m       an empty dictionary). Likewise, if there's only a single solution,\u001b[0m\n",
       "\u001b[0;34m       return a list containing one dictionary with that solution.\u001b[0m\n",
       "\u001b[0;34m\u001b[0m\n",
       "\u001b[0;34m    There are a few optional keywords if you are trying to solve a single\u001b[0m\n",
       "\u001b[0;34m    equation.  They may only be used in that context.\u001b[0m\n",
       "\u001b[0;34m\u001b[0m\n",
       "\u001b[0;34m    -  ``multiplicities`` - bool (default: False); if True,\u001b[0m\n",
       "\u001b[0;34m       return corresponding multiplicities.  This keyword is\u001b[0m\n",
       "\u001b[0;34m       incompatible with ``to_poly_solve=True`` and does not make\u001b[0m\n",
       "\u001b[0;34m       any sense when solving inequalities.\u001b[0m\n",
       "\u001b[0;34m\u001b[0m\n",
       "\u001b[0;34m    -  ``explicit_solutions`` - bool (default: False); require that\u001b[0m\n",
       "\u001b[0;34m       all roots be explicit rather than implicit. Not used\u001b[0m\n",
       "\u001b[0;34m       when solving inequalities.\u001b[0m\n",
       "\u001b[0;34m\u001b[0m\n",
       "\u001b[0;34m    -  ``to_poly_solve`` - bool (default: False) or string; use\u001b[0m\n",
       "\u001b[0;34m       Maxima's ``to_poly_solver`` package to search for more possible\u001b[0m\n",
       "\u001b[0;34m       solutions, but possibly encounter approximate solutions.\u001b[0m\n",
       "\u001b[0;34m       This keyword is incompatible with ``multiplicities=True``\u001b[0m\n",
       "\u001b[0;34m       and is not used when solving inequalities. Setting ``to_poly_solve``\u001b[0m\n",
       "\u001b[0;34m       to 'force' (string) omits Maxima's solve command (useful when\u001b[0m\n",
       "\u001b[0;34m       some solutions of trigonometric equations are lost).\u001b[0m\n",
       "\u001b[0;34m\u001b[0m\n",
       "\u001b[0;34m    - ``algorithm`` - string (default: 'maxima'); to use SymPy's\u001b[0m\n",
       "\u001b[0;34m      solvers set this to 'sympy'. Note that SymPy is always used\u001b[0m\n",
       "\u001b[0;34m      for diophantine equations. Another choice is 'giac'.\u001b[0m\n",
       "\u001b[0;34m\u001b[0m\n",
       "\u001b[0;34m    - ``domain`` - string (default: 'complex'); setting this to 'real'\u001b[0m\n",
       "\u001b[0;34m      changes the way SymPy solves single equations; inequalities\u001b[0m\n",
       "\u001b[0;34m      are always solved in the real domain.\u001b[0m\n",
       "\u001b[0;34m\u001b[0m\n",
       "\u001b[0;34m    EXAMPLES::\u001b[0m\n",
       "\u001b[0;34m\u001b[0m\n",
       "\u001b[0;34m        sage: x, y = var('x, y')\u001b[0m\n",
       "\u001b[0;34m        sage: solve([x+y==6, x-y==4], x, y)\u001b[0m\n",
       "\u001b[0;34m        [[x == 5, y == 1]]\u001b[0m\n",
       "\u001b[0;34m        sage: solve([x^2+y^2 == 1, y^2 == x^3 + x + 1], x, y)\u001b[0m\n",
       "\u001b[0;34m        [[x == -1/2*I*sqrt(3) - 1/2, y == -sqrt(-1/2*I*sqrt(3) + 3/2)],\u001b[0m\n",
       "\u001b[0;34m         [x == -1/2*I*sqrt(3) - 1/2, y == sqrt(-1/2*I*sqrt(3) + 3/2)],\u001b[0m\n",
       "\u001b[0;34m         [x == 1/2*I*sqrt(3) - 1/2, y == -sqrt(1/2*I*sqrt(3) + 3/2)],\u001b[0m\n",
       "\u001b[0;34m         [x == 1/2*I*sqrt(3) - 1/2, y == sqrt(1/2*I*sqrt(3) + 3/2)],\u001b[0m\n",
       "\u001b[0;34m         [x == 0, y == -1],\u001b[0m\n",
       "\u001b[0;34m         [x == 0, y == 1]]\u001b[0m\n",
       "\u001b[0;34m        sage: solve([sqrt(x) + sqrt(y) == 5, x + y == 10], x, y)\u001b[0m\n",
       "\u001b[0;34m        [[x == -5/2*I*sqrt(5) + 5, y == 5/2*I*sqrt(5) + 5], [x == 5/2*I*sqrt(5) + 5, y == -5/2*I*sqrt(5) + 5]]\u001b[0m\n",
       "\u001b[0;34m        sage: solutions = solve([x^2+y^2 == 1, y^2 == x^3 + x + 1], x, y, solution_dict=True)\u001b[0m\n",
       "\u001b[0;34m        sage: for solution in solutions: print(\"{} , {}\".format(solution[x].n(digits=3), solution[y].n(digits=3)))\u001b[0m\n",
       "\u001b[0;34m        -0.500 - 0.866*I , -1.27 + 0.341*I\u001b[0m\n",
       "\u001b[0;34m        -0.500 - 0.866*I , 1.27 - 0.341*I\u001b[0m\n",
       "\u001b[0;34m        -0.500 + 0.866*I , -1.27 - 0.341*I\u001b[0m\n",
       "\u001b[0;34m        -0.500 + 0.866*I , 1.27 + 0.341*I\u001b[0m\n",
       "\u001b[0;34m        0.000 , -1.00\u001b[0m\n",
       "\u001b[0;34m        0.000 , 1.00\u001b[0m\n",
       "\u001b[0;34m\u001b[0m\n",
       "\u001b[0;34m    Whenever possible, answers will be symbolic, but with systems of\u001b[0m\n",
       "\u001b[0;34m    equations, at times approximations will be given by Maxima, due to the\u001b[0m\n",
       "\u001b[0;34m    underlying algorithm::\u001b[0m\n",
       "\u001b[0;34m\u001b[0m\n",
       "\u001b[0;34m        sage: sols = solve([x^3==y,y^2==x], [x,y]); sols[-1], sols[0] # abs tol 1e-15\u001b[0m\n",
       "\u001b[0;34m        ([x == 0, y == 0],\u001b[0m\n",
       "\u001b[0;34m         [x == (0.3090169943749475 + 0.9510565162951535*I),\u001b[0m\n",
       "\u001b[0;34m          y == (-0.8090169943749475 - 0.5877852522924731*I)])\u001b[0m\n",
       "\u001b[0;34m        sage: sols[0][0].rhs().pyobject().parent()\u001b[0m\n",
       "\u001b[0;34m        Complex Double Field\u001b[0m\n",
       "\u001b[0;34m\u001b[0m\n",
       "\u001b[0;34m        sage: solve([y^6==y],y)\u001b[0m\n",
       "\u001b[0;34m        [y == 1/4*sqrt(5) + 1/4*I*sqrt(2*sqrt(5) + 10) - 1/4,\u001b[0m\n",
       "\u001b[0;34m         y == -1/4*sqrt(5) + 1/4*I*sqrt(-2*sqrt(5) + 10) - 1/4,\u001b[0m\n",
       "\u001b[0;34m         y == -1/4*sqrt(5) - 1/4*I*sqrt(-2*sqrt(5) + 10) - 1/4,\u001b[0m\n",
       "\u001b[0;34m         y == 1/4*sqrt(5) - 1/4*I*sqrt(2*sqrt(5) + 10) - 1/4,\u001b[0m\n",
       "\u001b[0;34m         y == 1,\u001b[0m\n",
       "\u001b[0;34m         y == 0]\u001b[0m\n",
       "\u001b[0;34m        sage: solve( [y^6 == y], y)==solve( y^6 == y, y)\u001b[0m\n",
       "\u001b[0;34m        True\u001b[0m\n",
       "\u001b[0;34m\u001b[0m\n",
       "\u001b[0;34m    Here we demonstrate very basic use of the optional keywords::\u001b[0m\n",
       "\u001b[0;34m\u001b[0m\n",
       "\u001b[0;34m        sage: ((x^2-1)^2).solve(x)\u001b[0m\n",
       "\u001b[0;34m        [x == -1, x == 1]\u001b[0m\n",
       "\u001b[0;34m        sage: ((x^2-1)^2).solve(x,multiplicities=True)\u001b[0m\n",
       "\u001b[0;34m        ([x == -1, x == 1], [2, 2])\u001b[0m\n",
       "\u001b[0;34m        sage: solve(sin(x)==x,x)\u001b[0m\n",
       "\u001b[0;34m        [x == sin(x)]\u001b[0m\n",
       "\u001b[0;34m        sage: solve(sin(x)==x,x,explicit_solutions=True)\u001b[0m\n",
       "\u001b[0;34m        []\u001b[0m\n",
       "\u001b[0;34m        sage: solve(abs(1-abs(1-x)) == 10, x)\u001b[0m\n",
       "\u001b[0;34m        [abs(abs(x - 1) - 1) == 10]\u001b[0m\n",
       "\u001b[0;34m        sage: solve(abs(1-abs(1-x)) == 10, x, to_poly_solve=True)\u001b[0m\n",
       "\u001b[0;34m        [x == -10, x == 12]\u001b[0m\n",
       "\u001b[0;34m\u001b[0m\n",
       "\u001b[0;34m        sage: from sage.symbolic.expression import Expression\u001b[0m\n",
       "\u001b[0;34m        sage: Expression.solve(x^2==1,x)\u001b[0m\n",
       "\u001b[0;34m        [x == -1, x == 1]\u001b[0m\n",
       "\u001b[0;34m\u001b[0m\n",
       "\u001b[0;34m    We must solve with respect to actual variables::\u001b[0m\n",
       "\u001b[0;34m\u001b[0m\n",
       "\u001b[0;34m        sage: z = 5\u001b[0m\n",
       "\u001b[0;34m        sage: solve([8*z + y == 3, -z +7*y == 0],y,z)\u001b[0m\n",
       "\u001b[0;34m        Traceback (most recent call last):\u001b[0m\n",
       "\u001b[0;34m        ...\u001b[0m\n",
       "\u001b[0;34m        TypeError: 5 is not a valid variable.\u001b[0m\n",
       "\u001b[0;34m\u001b[0m\n",
       "\u001b[0;34m    If we ask for dictionaries containing the solutions, we get them::\u001b[0m\n",
       "\u001b[0;34m\u001b[0m\n",
       "\u001b[0;34m        sage: solve([x^2-1],x,solution_dict=True)\u001b[0m\n",
       "\u001b[0;34m        [{x: -1}, {x: 1}]\u001b[0m\n",
       "\u001b[0;34m        sage: solve([x^2-4*x+4],x,solution_dict=True)\u001b[0m\n",
       "\u001b[0;34m        [{x: 2}]\u001b[0m\n",
       "\u001b[0;34m        sage: res = solve([x^2 == y, y == 4],x,y,solution_dict=True)\u001b[0m\n",
       "\u001b[0;34m        sage: for soln in res: print(\"x: %s, y: %s\" % (soln[x], soln[y]))\u001b[0m\n",
       "\u001b[0;34m        x: 2, y: 4\u001b[0m\n",
       "\u001b[0;34m        x: -2, y: 4\u001b[0m\n",
       "\u001b[0;34m\u001b[0m\n",
       "\u001b[0;34m    If there is a parameter in the answer, that will show up as\u001b[0m\n",
       "\u001b[0;34m    a new variable.  In the following example, ``r1`` is an arbitrary\u001b[0m\n",
       "\u001b[0;34m    constant (because of the ``r``)::\u001b[0m\n",
       "\u001b[0;34m\u001b[0m\n",
       "\u001b[0;34m        sage: forget()\u001b[0m\n",
       "\u001b[0;34m        sage: x, y = var('x,y')\u001b[0m\n",
       "\u001b[0;34m        sage: solve([x+y == 3, 2*x+2*y == 6],x,y)\u001b[0m\n",
       "\u001b[0;34m        [[x == -r1 + 3, y == r1]]\u001b[0m\n",
       "\u001b[0;34m\u001b[0m\n",
       "\u001b[0;34m        sage: var('b, c')\u001b[0m\n",
       "\u001b[0;34m        (b, c)\u001b[0m\n",
       "\u001b[0;34m        sage: solve((b-1)*(c-1), [b,c])\u001b[0m\n",
       "\u001b[0;34m        [[b == 1, c == r...], [b == r..., c == 1]]\u001b[0m\n",
       "\u001b[0;34m\u001b[0m\n",
       "\u001b[0;34m    Especially with trigonometric functions, the dummy variable may\u001b[0m\n",
       "\u001b[0;34m    be implicitly an integer (hence the ``z``)::\u001b[0m\n",
       "\u001b[0;34m\u001b[0m\n",
       "\u001b[0;34m        sage: solve( sin(x)==cos(x), x, to_poly_solve=True)\u001b[0m\n",
       "\u001b[0;34m        [x == 1/4*pi + pi*z...]\u001b[0m\n",
       "\u001b[0;34m        sage: solve([cos(x)*sin(x) == 1/2, x+y == 0],x,y)\u001b[0m\n",
       "\u001b[0;34m        [[x == 1/4*pi + pi*z..., y == -1/4*pi - pi*z...]]\u001b[0m\n",
       "\u001b[0;34m\u001b[0m\n",
       "\u001b[0;34m    Expressions which are not equations are assumed to be set equal\u001b[0m\n",
       "\u001b[0;34m    to zero, as with `x` in the following example::\u001b[0m\n",
       "\u001b[0;34m\u001b[0m\n",
       "\u001b[0;34m        sage: solve([x, y == 2],x,y)\u001b[0m\n",
       "\u001b[0;34m        [[x == 0, y == 2]]\u001b[0m\n",
       "\u001b[0;34m\u001b[0m\n",
       "\u001b[0;34m    If ``True`` appears in the list of equations it is\u001b[0m\n",
       "\u001b[0;34m    ignored, and if ``False`` appears in the list then no\u001b[0m\n",
       "\u001b[0;34m    solutions are returned. E.g., note that the first\u001b[0m\n",
       "\u001b[0;34m    ``3==3`` evaluates to ``True``, not to a\u001b[0m\n",
       "\u001b[0;34m    symbolic equation.\u001b[0m\n",
       "\u001b[0;34m\u001b[0m\n",
       "\u001b[0;34m    ::\u001b[0m\n",
       "\u001b[0;34m\u001b[0m\n",
       "\u001b[0;34m        sage: solve([3==3, 1.00000000000000*x^3 == 0], x)\u001b[0m\n",
       "\u001b[0;34m        [x == 0]\u001b[0m\n",
       "\u001b[0;34m        sage: solve([1.00000000000000*x^3 == 0], x)\u001b[0m\n",
       "\u001b[0;34m        [x == 0]\u001b[0m\n",
       "\u001b[0;34m\u001b[0m\n",
       "\u001b[0;34m    Here, the first equation evaluates to ``False``, so\u001b[0m\n",
       "\u001b[0;34m    there are no solutions::\u001b[0m\n",
       "\u001b[0;34m\u001b[0m\n",
       "\u001b[0;34m        sage: solve([1==3, 1.00000000000000*x^3 == 0], x)\u001b[0m\n",
       "\u001b[0;34m        []\u001b[0m\n",
       "\u001b[0;34m\u001b[0m\n",
       "\u001b[0;34m    Completely symbolic solutions are supported::\u001b[0m\n",
       "\u001b[0;34m\u001b[0m\n",
       "\u001b[0;34m        sage: var('s,j,b,m,g')\u001b[0m\n",
       "\u001b[0;34m        (s, j, b, m, g)\u001b[0m\n",
       "\u001b[0;34m        sage: sys = [ m*(1-s) - b*s*j, b*s*j-g*j ]\u001b[0m\n",
       "\u001b[0;34m        sage: solve(sys,s,j)\u001b[0m\n",
       "\u001b[0;34m        [[s == 1, j == 0], [s == g/b, j == (b - g)*m/(b*g)]]\u001b[0m\n",
       "\u001b[0;34m        sage: solve(sys,(s,j))\u001b[0m\n",
       "\u001b[0;34m        [[s == 1, j == 0], [s == g/b, j == (b - g)*m/(b*g)]]\u001b[0m\n",
       "\u001b[0;34m        sage: solve(sys,[s,j])\u001b[0m\n",
       "\u001b[0;34m        [[s == 1, j == 0], [s == g/b, j == (b - g)*m/(b*g)]]\u001b[0m\n",
       "\u001b[0;34m\u001b[0m\n",
       "\u001b[0;34m        sage: z = var('z')\u001b[0m\n",
       "\u001b[0;34m        sage: solve((x-z)^2==2, x)\u001b[0m\n",
       "\u001b[0;34m        [x == z - sqrt(2), x == z + sqrt(2)]\u001b[0m\n",
       "\u001b[0;34m\u001b[0m\n",
       "\u001b[0;34m    Inequalities can be also solved::\u001b[0m\n",
       "\u001b[0;34m\u001b[0m\n",
       "\u001b[0;34m        sage: solve(x^2>8,x)\u001b[0m\n",
       "\u001b[0;34m        [[x < -2*sqrt(2)], [x > 2*sqrt(2)]]\u001b[0m\n",
       "\u001b[0;34m        sage: x,y = var('x,y'); (ln(x)-ln(y)>0).solve(x)\u001b[0m\n",
       "\u001b[0;34m        [[log(x) - log(y) > 0]]\u001b[0m\n",
       "\u001b[0;34m        sage: x,y = var('x,y'); (ln(x)>ln(y)).solve(x)  # random\u001b[0m\n",
       "\u001b[0;34m        [[0 < y, y < x, 0 < x]]\u001b[0m\n",
       "\u001b[0;34m        [[y < x, 0 < y]]\u001b[0m\n",
       "\u001b[0;34m\u001b[0m\n",
       "\u001b[0;34m    A simple example to show the use of the keyword\u001b[0m\n",
       "\u001b[0;34m    ``multiplicities``::\u001b[0m\n",
       "\u001b[0;34m\u001b[0m\n",
       "\u001b[0;34m        sage: ((x^2-1)^2).solve(x)\u001b[0m\n",
       "\u001b[0;34m        [x == -1, x == 1]\u001b[0m\n",
       "\u001b[0;34m        sage: ((x^2-1)^2).solve(x,multiplicities=True)\u001b[0m\n",
       "\u001b[0;34m        ([x == -1, x == 1], [2, 2])\u001b[0m\n",
       "\u001b[0;34m        sage: ((x^2-1)^2).solve(x,multiplicities=True,to_poly_solve=True)\u001b[0m\n",
       "\u001b[0;34m        Traceback (most recent call last):\u001b[0m\n",
       "\u001b[0;34m        ...\u001b[0m\n",
       "\u001b[0;34m        NotImplementedError: to_poly_solve does not return multiplicities\u001b[0m\n",
       "\u001b[0;34m\u001b[0m\n",
       "\u001b[0;34m    Here is how the ``explicit_solutions`` keyword functions::\u001b[0m\n",
       "\u001b[0;34m\u001b[0m\n",
       "\u001b[0;34m        sage: solve(sin(x)==x,x)\u001b[0m\n",
       "\u001b[0;34m        [x == sin(x)]\u001b[0m\n",
       "\u001b[0;34m        sage: solve(sin(x)==x,x,explicit_solutions=True)\u001b[0m\n",
       "\u001b[0;34m        []\u001b[0m\n",
       "\u001b[0;34m        sage: solve(x*sin(x)==x^2,x)\u001b[0m\n",
       "\u001b[0;34m        [x == 0, x == sin(x)]\u001b[0m\n",
       "\u001b[0;34m        sage: solve(x*sin(x)==x^2,x,explicit_solutions=True)\u001b[0m\n",
       "\u001b[0;34m        [x == 0]\u001b[0m\n",
       "\u001b[0;34m\u001b[0m\n",
       "\u001b[0;34m    The following examples show the use of the keyword ``to_poly_solve``::\u001b[0m\n",
       "\u001b[0;34m\u001b[0m\n",
       "\u001b[0;34m        sage: solve(abs(1-abs(1-x)) == 10, x)\u001b[0m\n",
       "\u001b[0;34m        [abs(abs(x - 1) - 1) == 10]\u001b[0m\n",
       "\u001b[0;34m        sage: solve(abs(1-abs(1-x)) == 10, x, to_poly_solve=True)\u001b[0m\n",
       "\u001b[0;34m        [x == -10, x == 12]\u001b[0m\n",
       "\u001b[0;34m\u001b[0m\n",
       "\u001b[0;34m        sage: var('Q')\u001b[0m\n",
       "\u001b[0;34m        Q\u001b[0m\n",
       "\u001b[0;34m        sage: solve(Q*sqrt(Q^2 + 2) - 1, Q)\u001b[0m\n",
       "\u001b[0;34m        [Q == 1/sqrt(Q^2 + 2)]\u001b[0m\n",
       "\u001b[0;34m\u001b[0m\n",
       "\u001b[0;34m    The following example is a regression in Maxima 5.39.0.\u001b[0m\n",
       "\u001b[0;34m    It used to be possible to get one more solution here,\u001b[0m\n",
       "\u001b[0;34m    namely ``1/sqrt(sqrt(2) + 1)``, see\u001b[0m\n",
       "\u001b[0;34m    https://sourceforge.net/p/maxima/bugs/3276/::\u001b[0m\n",
       "\u001b[0;34m\u001b[0m\n",
       "\u001b[0;34m        sage: solve(Q*sqrt(Q^2 + 2) - 1, Q, to_poly_solve=True)\u001b[0m\n",
       "\u001b[0;34m        [Q == -sqrt(-sqrt(2) - 1), Q == sqrt(sqrt(2) + 1)*(sqrt(2) - 1)]\u001b[0m\n",
       "\u001b[0;34m\u001b[0m\n",
       "\u001b[0;34m    An effort is made to only return solutions that satisfy\u001b[0m\n",
       "\u001b[0;34m    the current assumptions::\u001b[0m\n",
       "\u001b[0;34m\u001b[0m\n",
       "\u001b[0;34m        sage: solve(x^2==4, x)\u001b[0m\n",
       "\u001b[0;34m        [x == -2, x == 2]\u001b[0m\n",
       "\u001b[0;34m        sage: assume(x<0)\u001b[0m\n",
       "\u001b[0;34m        sage: solve(x^2==4, x)\u001b[0m\n",
       "\u001b[0;34m        [x == -2]\u001b[0m\n",
       "\u001b[0;34m        sage: solve((x^2-4)^2 == 0, x, multiplicities=True)\u001b[0m\n",
       "\u001b[0;34m        ([x == -2], [2])\u001b[0m\n",
       "\u001b[0;34m        sage: solve(x^2==2, x)\u001b[0m\n",
       "\u001b[0;34m        [x == -sqrt(2)]\u001b[0m\n",
       "\u001b[0;34m        sage: z = var('z')\u001b[0m\n",
       "\u001b[0;34m        sage: solve(x^2==2-z, x)\u001b[0m\n",
       "\u001b[0;34m        [x == -sqrt(-z + 2)]\u001b[0m\n",
       "\u001b[0;34m        sage: assume(x, 'rational')\u001b[0m\n",
       "\u001b[0;34m        sage: solve(x^2 == 2, x)\u001b[0m\n",
       "\u001b[0;34m        []\u001b[0m\n",
       "\u001b[0;34m\u001b[0m\n",
       "\u001b[0;34m    In some cases it may be worthwhile to directly use ``to_poly_solve``\u001b[0m\n",
       "\u001b[0;34m    if one suspects some answers are being missed::\u001b[0m\n",
       "\u001b[0;34m\u001b[0m\n",
       "\u001b[0;34m        sage: forget()\u001b[0m\n",
       "\u001b[0;34m        sage: solve(cos(x)==0, x)\u001b[0m\n",
       "\u001b[0;34m        [x == 1/2*pi]\u001b[0m\n",
       "\u001b[0;34m        sage: solve(cos(x)==0, x, to_poly_solve=True)\u001b[0m\n",
       "\u001b[0;34m        [x == 1/2*pi]\u001b[0m\n",
       "\u001b[0;34m        sage: solve(cos(x)==0, x, to_poly_solve='force')\u001b[0m\n",
       "\u001b[0;34m        [x == 1/2*pi + pi*z...]\u001b[0m\n",
       "\u001b[0;34m\u001b[0m\n",
       "\u001b[0;34m    The same may also apply if a returned unsolved expression has a\u001b[0m\n",
       "\u001b[0;34m    denominator, but the original one did not::\u001b[0m\n",
       "\u001b[0;34m\u001b[0m\n",
       "\u001b[0;34m        sage: solve(cos(x) * sin(x) == 1/2, x, to_poly_solve=True)\u001b[0m\n",
       "\u001b[0;34m        [sin(x) == 1/2/cos(x)]\u001b[0m\n",
       "\u001b[0;34m        sage: solve(cos(x) * sin(x) == 1/2, x, to_poly_solve=True, explicit_solutions=True)\u001b[0m\n",
       "\u001b[0;34m        [x == 1/4*pi + pi*z...]\u001b[0m\n",
       "\u001b[0;34m        sage: solve(cos(x) * sin(x) == 1/2, x, to_poly_solve='force')\u001b[0m\n",
       "\u001b[0;34m        [x == 1/4*pi + pi*z...]\u001b[0m\n",
       "\u001b[0;34m\u001b[0m\n",
       "\u001b[0;34m    We use ``use_grobner`` in Maxima if no solution is obtained from\u001b[0m\n",
       "\u001b[0;34m    Maxima's ``to_poly_solve``::\u001b[0m\n",
       "\u001b[0;34m\u001b[0m\n",
       "\u001b[0;34m        sage: x,y = var('x y')\u001b[0m\n",
       "\u001b[0;34m        sage: c1(x,y) = (x-5)^2+y^2-16\u001b[0m\n",
       "\u001b[0;34m        sage: c2(x,y) = (y-3)^2+x^2-9\u001b[0m\n",
       "\u001b[0;34m        sage: solve([c1(x,y),c2(x,y)],[x,y])\u001b[0m\n",
       "\u001b[0;34m        [[x == -9/68*sqrt(55) + 135/68, y == -15/68*sqrt(55) + 123/68],\u001b[0m\n",
       "\u001b[0;34m         [x == 9/68*sqrt(55) + 135/68, y == 15/68*sqrt(55) + 123/68]]\u001b[0m\n",
       "\u001b[0;34m\u001b[0m\n",
       "\u001b[0;34m    We use SymPy for Diophantine equations, see\u001b[0m\n",
       "\u001b[0;34m    ``Expression.solve_diophantine``::\u001b[0m\n",
       "\u001b[0;34m\u001b[0m\n",
       "\u001b[0;34m        sage: assume(x, 'integer')\u001b[0m\n",
       "\u001b[0;34m        sage: assume(z, 'integer')\u001b[0m\n",
       "\u001b[0;34m        sage: solve((x-z)^2==2, x)\u001b[0m\n",
       "\u001b[0;34m        []\u001b[0m\n",
       "\u001b[0;34m\u001b[0m\n",
       "\u001b[0;34m        sage: forget()\u001b[0m\n",
       "\u001b[0;34m\u001b[0m\n",
       "\u001b[0;34m    The following shows some more of SymPy's capabilities that cannot be\u001b[0m\n",
       "\u001b[0;34m    handled by Maxima::\u001b[0m\n",
       "\u001b[0;34m\u001b[0m\n",
       "\u001b[0;34m        sage: _ = var('t')\u001b[0m\n",
       "\u001b[0;34m        sage: r = solve([x^2 - y^2/exp(x), y-1], x, y, algorithm='sympy')\u001b[0m\n",
       "\u001b[0;34m        sage: (r[0][x], r[0][y])\u001b[0m\n",
       "\u001b[0;34m        (2*lambert_w(-1/2), 1)\u001b[0m\n",
       "\u001b[0;34m        sage: solve(-2*x**3 + 4*x**2 - 2*x + 6 > 0, x, algorithm='sympy')\u001b[0m\n",
       "\u001b[0;34m        [x < 1/3*(1/2)^(1/3)*(9*sqrt(77) + 79)^(1/3) + 2/3*(1/2)^(2/3)/(9*sqrt(77) + 79)^(1/3) + 2/3]\u001b[0m\n",
       "\u001b[0;34m        sage: solve(sqrt(2*x^2 - 7) - (3 - x),x,algorithm='sympy')\u001b[0m\n",
       "\u001b[0;34m        [x == -8, x == 2]\u001b[0m\n",
       "\u001b[0;34m        sage: solve(sqrt(2*x + 9) - sqrt(x + 1) - sqrt(x + 4),x,algorithm='sympy')\u001b[0m\n",
       "\u001b[0;34m        [x == 0]\u001b[0m\n",
       "\u001b[0;34m        sage: r = solve([x + y + z + t, -z - t], x, y, z, t, algorithm='sympy')\u001b[0m\n",
       "\u001b[0;34m        sage: (r[0][x], r[0][z])\u001b[0m\n",
       "\u001b[0;34m        (-y, -t)\u001b[0m\n",
       "\u001b[0;34m        sage: r = solve([x^2+y+z, y+x^2+z, x+y+z^2], x, y,z, algorithm='sympy')\u001b[0m\n",
       "\u001b[0;34m        sage: (r[0][x], r[0][y])\u001b[0m\n",
       "\u001b[0;34m        (z, -(z + 1)*z)\u001b[0m\n",
       "\u001b[0;34m        sage: (r[1][x], r[1][y])\u001b[0m\n",
       "\u001b[0;34m        (-z + 1, -z^2 + z - 1)\u001b[0m\n",
       "\u001b[0;34m        sage: solve(abs(x + 3) - 2*abs(x - 3),x,algorithm='sympy',domain='real')\u001b[0m\n",
       "\u001b[0;34m        [x == 1, x == 9]\u001b[0m\n",
       "\u001b[0;34m\u001b[0m\n",
       "\u001b[0;34m    We cannot translate all results from SymPy but we can at least\u001b[0m\n",
       "\u001b[0;34m    print them::\u001b[0m\n",
       "\u001b[0;34m\u001b[0m\n",
       "\u001b[0;34m        sage: solve(sinh(x) - 2*cosh(x),x,algorithm='sympy')\u001b[0m\n",
       "\u001b[0;34m        [ImageSet(Lambda(_n, I*(2*_n*pi + pi/2) + log(sqrt(3))), Integers),\u001b[0m\n",
       "\u001b[0;34m         ImageSet(Lambda(_n, I*(2*_n*pi - pi/2) + log(sqrt(3))), Integers)]\u001b[0m\n",
       "\u001b[0;34m        sage: solve(2*sin(x) - 2*sin(2*x), x,algorithm='sympy')\u001b[0m\n",
       "\u001b[0;34m        [ImageSet(Lambda(_n, 2*_n*pi), Integers),\u001b[0m\n",
       "\u001b[0;34m         ImageSet(Lambda(_n, 2*_n*pi + pi), Integers),\u001b[0m\n",
       "\u001b[0;34m         ImageSet(Lambda(_n, 2*_n*pi + 5*pi/3), Integers),\u001b[0m\n",
       "\u001b[0;34m         ImageSet(Lambda(_n, 2*_n*pi + pi/3), Integers)]\u001b[0m\n",
       "\u001b[0;34m\u001b[0m\n",
       "\u001b[0;34m        sage: solve(x^5 + 3*x^3 + 7, x, algorithm='sympy')[0] # known bug\u001b[0m\n",
       "\u001b[0;34m        complex_root_of(x^5 + 3*x^3 + 7, 0)\u001b[0m\n",
       "\u001b[0;34m\u001b[0m\n",
       "\u001b[0;34m    A basic interface to Giac is provided::\u001b[0m\n",
       "\u001b[0;34m\u001b[0m\n",
       "\u001b[0;34m        sage: solve([(2/3)^x-2], [x], algorithm='giac')\u001b[0m\n",
       "\u001b[0;34m        ...[[-log(2)/(log(3) - log(2))]]\u001b[0m\n",
       "\u001b[0;34m\u001b[0m\n",
       "\u001b[0;34m        sage: f = (sin(x) - 8*cos(x)*sin(x))*(sin(x)^2 + cos(x)) - (2*cos(x)*sin(x) - sin(x))*(-2*sin(x)^2 + 2*cos(x)^2 - cos(x))\u001b[0m\n",
       "\u001b[0;34m        sage: solve(f, x, algorithm='giac')\u001b[0m\n",
       "\u001b[0;34m        ...[-2*arctan(sqrt(2)), 0, 2*arctan(sqrt(2)), pi]\u001b[0m\n",
       "\u001b[0;34m\u001b[0m\n",
       "\u001b[0;34m        sage: x, y = SR.var('x,y')\u001b[0m\n",
       "\u001b[0;34m        sage: solve([x+y-4,x*y-3],[x,y],algorithm='giac')\u001b[0m\n",
       "\u001b[0;34m        [[1, 3], [3, 1]]\u001b[0m\n",
       "\u001b[0;34m\u001b[0m\n",
       "\u001b[0;34m    TESTS::\u001b[0m\n",
       "\u001b[0;34m\u001b[0m\n",
       "\u001b[0;34m        sage: solve([sin(x)==x,y^2==x],x,y)\u001b[0m\n",
       "\u001b[0;34m        [sin(x) == x, y^2 == x]\u001b[0m\n",
       "\u001b[0;34m        sage: solve(0==1,x)\u001b[0m\n",
       "\u001b[0;34m        Traceback (most recent call last):\u001b[0m\n",
       "\u001b[0;34m        ...\u001b[0m\n",
       "\u001b[0;34m        TypeError:  The first argument must be a symbolic expression or a list of symbolic expressions.\u001b[0m\n",
       "\u001b[0;34m\u001b[0m\n",
       "\u001b[0;34m    Test if the empty list is returned, too, when (a list of)\u001b[0m\n",
       "\u001b[0;34m    dictionaries (is) are requested (:issue:`8553`)::\u001b[0m\n",
       "\u001b[0;34m\u001b[0m\n",
       "\u001b[0;34m        sage: solve([SR(0)==1],x)\u001b[0m\n",
       "\u001b[0;34m        []\u001b[0m\n",
       "\u001b[0;34m        sage: solve([SR(0)==1],x,solution_dict=True)\u001b[0m\n",
       "\u001b[0;34m        []\u001b[0m\n",
       "\u001b[0;34m        sage: solve([x==1,x==-1],x)\u001b[0m\n",
       "\u001b[0;34m        []\u001b[0m\n",
       "\u001b[0;34m        sage: solve([x==1,x==-1],x,solution_dict=True)\u001b[0m\n",
       "\u001b[0;34m        []\u001b[0m\n",
       "\u001b[0;34m        sage: solve((x==1,x==-1),x,solution_dict=0)\u001b[0m\n",
       "\u001b[0;34m        []\u001b[0m\n",
       "\u001b[0;34m\u001b[0m\n",
       "\u001b[0;34m    Relaxed form, suggested by Mike Hansen (:issue:`8553`)::\u001b[0m\n",
       "\u001b[0;34m\u001b[0m\n",
       "\u001b[0;34m        sage: solve([x^2-1],x,solution_dict=-1)\u001b[0m\n",
       "\u001b[0;34m        [{x: -1}, {x: 1}]\u001b[0m\n",
       "\u001b[0;34m        sage: solve([x^2-1],x,solution_dict=1)\u001b[0m\n",
       "\u001b[0;34m        [{x: -1}, {x: 1}]\u001b[0m\n",
       "\u001b[0;34m        sage: solve((x==1,x==-1),x,solution_dict=-1)\u001b[0m\n",
       "\u001b[0;34m        []\u001b[0m\n",
       "\u001b[0;34m        sage: solve((x==1,x==-1),x,solution_dict=1)\u001b[0m\n",
       "\u001b[0;34m        []\u001b[0m\n",
       "\u001b[0;34m\u001b[0m\n",
       "\u001b[0;34m    This inequality holds for any real ``x`` (:issue:`8078`)::\u001b[0m\n",
       "\u001b[0;34m\u001b[0m\n",
       "\u001b[0;34m        sage: solve(x^4+2>0,x)\u001b[0m\n",
       "\u001b[0;34m        [x < +Infinity]\u001b[0m\n",
       "\u001b[0;34m\u001b[0m\n",
       "\u001b[0;34m    Test for user friendly input handling :issue:`13645`::\u001b[0m\n",
       "\u001b[0;34m\u001b[0m\n",
       "\u001b[0;34m        sage: poly.<a,b> = PolynomialRing(RR)\u001b[0m\n",
       "\u001b[0;34m        sage: solve([a+b+a*b == 1], a)\u001b[0m\n",
       "\u001b[0;34m        Traceback (most recent call last):\u001b[0m\n",
       "\u001b[0;34m        ...\u001b[0m\n",
       "\u001b[0;34m        TypeError: a is not a valid variable.\u001b[0m\n",
       "\u001b[0;34m        sage: a,b = var('a,b')\u001b[0m\n",
       "\u001b[0;34m        sage: solve([a+b+a*b == 1], a)\u001b[0m\n",
       "\u001b[0;34m        [a == -(b - 1)/(b + 1)]\u001b[0m\n",
       "\u001b[0;34m        sage: solve([a, b], (1, a))\u001b[0m\n",
       "\u001b[0;34m        Traceback (most recent call last):\u001b[0m\n",
       "\u001b[0;34m        ...\u001b[0m\n",
       "\u001b[0;34m        TypeError: 1 is not a valid variable.\u001b[0m\n",
       "\u001b[0;34m        sage: solve([x == 1], (1, a))\u001b[0m\n",
       "\u001b[0;34m        Traceback (most recent call last):\u001b[0m\n",
       "\u001b[0;34m        ...\u001b[0m\n",
       "\u001b[0;34m        TypeError: 1 is not a valid variable.\u001b[0m\n",
       "\u001b[0;34m        sage: x.solve((1,2))\u001b[0m\n",
       "\u001b[0;34m        Traceback (most recent call last):\u001b[0m\n",
       "\u001b[0;34m        ...\u001b[0m\n",
       "\u001b[0;34m        TypeError: 1 is not a valid variable.\u001b[0m\n",
       "\u001b[0;34m\u001b[0m\n",
       "\u001b[0;34m    Test that the original version of a system in the French Sage book\u001b[0m\n",
       "\u001b[0;34m    now works (:issue:`14306`)::\u001b[0m\n",
       "\u001b[0;34m\u001b[0m\n",
       "\u001b[0;34m        sage: var('y,z')\u001b[0m\n",
       "\u001b[0;34m        (y, z)\u001b[0m\n",
       "\u001b[0;34m        sage: solve([x^2 * y * z == 18, x * y^3 * z == 24, x * y * z^4 == 6], x, y, z)\u001b[0m\n",
       "\u001b[0;34m        [[x == 3, y == 2, z == 1],\u001b[0m\n",
       "\u001b[0;34m         [x == (1.337215067... - 2.685489874...*I),\u001b[0m\n",
       "\u001b[0;34m          y == (-1.700434271... + 1.052864325...*I),\u001b[0m\n",
       "\u001b[0;34m          z == (0.9324722294... - 0.3612416661...*I)],\u001b[0m\n",
       "\u001b[0;34m         ...]\u001b[0m\n",
       "\u001b[0;34m\u001b[0m\n",
       "\u001b[0;34m    :issue:`13286` fixed::\u001b[0m\n",
       "\u001b[0;34m\u001b[0m\n",
       "\u001b[0;34m        sage: solve([x-4], [x])\u001b[0m\n",
       "\u001b[0;34m        [x == 4]\u001b[0m\n",
       "\u001b[0;34m\u001b[0m\n",
       "\u001b[0;34m    Test for a list of non-symbolic expressions as first argument\u001b[0m\n",
       "\u001b[0;34m    (:issue:`31714`)::\u001b[0m\n",
       "\u001b[0;34m\u001b[0m\n",
       "\u001b[0;34m        sage: solve([1], x)\u001b[0m\n",
       "\u001b[0;34m        Traceback (most recent call last):\u001b[0m\n",
       "\u001b[0;34m        ...\u001b[0m\n",
       "\u001b[0;34m        TypeError: The first argument to solve() should be a symbolic expression\u001b[0m\n",
       "\u001b[0;34m        or a list of symbolic expressions.\u001b[0m\n",
       "\u001b[0;34m    \"\"\"\u001b[0m\u001b[0;34m\u001b[0m\n",
       "\u001b[0;34m\u001b[0m    \u001b[0;32mfrom\u001b[0m \u001b[0msage\u001b[0m\u001b[0;34m.\u001b[0m\u001b[0mstructure\u001b[0m\u001b[0;34m.\u001b[0m\u001b[0melement\u001b[0m \u001b[0;32mimport\u001b[0m \u001b[0mExpression\u001b[0m\u001b[0;34m\u001b[0m\n",
       "\u001b[0;34m\u001b[0m    \u001b[0mexplicit_solutions\u001b[0m \u001b[0;34m=\u001b[0m \u001b[0mkwds\u001b[0m\u001b[0;34m.\u001b[0m\u001b[0mget\u001b[0m\u001b[0;34m(\u001b[0m\u001b[0;34m'explicit_solutions'\u001b[0m\u001b[0;34m,\u001b[0m \u001b[0;32mNone\u001b[0m\u001b[0;34m)\u001b[0m\u001b[0;34m\u001b[0m\n",
       "\u001b[0;34m\u001b[0m    \u001b[0mmultiplicities\u001b[0m \u001b[0;34m=\u001b[0m \u001b[0mkwds\u001b[0m\u001b[0;34m.\u001b[0m\u001b[0mget\u001b[0m\u001b[0;34m(\u001b[0m\u001b[0;34m'multiplicities'\u001b[0m\u001b[0;34m,\u001b[0m \u001b[0;32mNone\u001b[0m\u001b[0;34m)\u001b[0m\u001b[0;34m\u001b[0m\n",
       "\u001b[0;34m\u001b[0m    \u001b[0mto_poly_solve\u001b[0m \u001b[0;34m=\u001b[0m \u001b[0mkwds\u001b[0m\u001b[0;34m.\u001b[0m\u001b[0mget\u001b[0m\u001b[0;34m(\u001b[0m\u001b[0;34m'to_poly_solve'\u001b[0m\u001b[0;34m,\u001b[0m \u001b[0;32mNone\u001b[0m\u001b[0;34m)\u001b[0m\u001b[0;34m\u001b[0m\n",
       "\u001b[0;34m\u001b[0m    \u001b[0msolution_dict\u001b[0m \u001b[0;34m=\u001b[0m \u001b[0mkwds\u001b[0m\u001b[0;34m.\u001b[0m\u001b[0mget\u001b[0m\u001b[0;34m(\u001b[0m\u001b[0;34m'solution_dict'\u001b[0m\u001b[0;34m,\u001b[0m \u001b[0;32mFalse\u001b[0m\u001b[0;34m)\u001b[0m\u001b[0;34m\u001b[0m\n",
       "\u001b[0;34m\u001b[0m    \u001b[0malgorithm\u001b[0m \u001b[0;34m=\u001b[0m \u001b[0mkwds\u001b[0m\u001b[0;34m.\u001b[0m\u001b[0mget\u001b[0m\u001b[0;34m(\u001b[0m\u001b[0;34m'algorithm'\u001b[0m\u001b[0;34m,\u001b[0m \u001b[0;32mNone\u001b[0m\u001b[0;34m)\u001b[0m\u001b[0;34m\u001b[0m\n",
       "\u001b[0;34m\u001b[0m    \u001b[0mdomain\u001b[0m \u001b[0;34m=\u001b[0m \u001b[0mkwds\u001b[0m\u001b[0;34m.\u001b[0m\u001b[0mget\u001b[0m\u001b[0;34m(\u001b[0m\u001b[0;34m'domain'\u001b[0m\u001b[0;34m,\u001b[0m \u001b[0;32mNone\u001b[0m\u001b[0;34m)\u001b[0m\u001b[0;34m\u001b[0m\n",
       "\u001b[0;34m\u001b[0m\u001b[0;34m\u001b[0m\n",
       "\u001b[0;34m\u001b[0m    \u001b[0;32mif\u001b[0m \u001b[0mlen\u001b[0m\u001b[0;34m(\u001b[0m\u001b[0margs\u001b[0m\u001b[0;34m)\u001b[0m \u001b[0;34m>\u001b[0m \u001b[0;36m1\u001b[0m\u001b[0;34m:\u001b[0m\u001b[0;34m\u001b[0m\n",
       "\u001b[0;34m\u001b[0m        \u001b[0mx\u001b[0m \u001b[0;34m=\u001b[0m \u001b[0margs\u001b[0m\u001b[0;34m\u001b[0m\n",
       "\u001b[0;34m\u001b[0m    \u001b[0;32melse\u001b[0m\u001b[0;34m:\u001b[0m\u001b[0;34m\u001b[0m\n",
       "\u001b[0;34m\u001b[0m        \u001b[0mx\u001b[0m \u001b[0;34m=\u001b[0m \u001b[0margs\u001b[0m\u001b[0;34m[\u001b[0m\u001b[0;36m0\u001b[0m\u001b[0;34m]\u001b[0m\u001b[0;34m\u001b[0m\n",
       "\u001b[0;34m\u001b[0m    \u001b[0;32mif\u001b[0m \u001b[0misinstance\u001b[0m\u001b[0;34m(\u001b[0m\u001b[0mx\u001b[0m\u001b[0;34m,\u001b[0m \u001b[0;34m(\u001b[0m\u001b[0mlist\u001b[0m\u001b[0;34m,\u001b[0m \u001b[0mtuple\u001b[0m\u001b[0;34m)\u001b[0m\u001b[0;34m)\u001b[0m\u001b[0;34m:\u001b[0m\u001b[0;34m\u001b[0m\n",
       "\u001b[0;34m\u001b[0m        \u001b[0;32mfor\u001b[0m \u001b[0mi\u001b[0m \u001b[0;32min\u001b[0m \u001b[0mx\u001b[0m\u001b[0;34m:\u001b[0m\u001b[0;34m\u001b[0m\n",
       "\u001b[0;34m\u001b[0m            \u001b[0;32mif\u001b[0m \u001b[0;32mnot\u001b[0m \u001b[0misinstance\u001b[0m\u001b[0;34m(\u001b[0m\u001b[0mi\u001b[0m\u001b[0;34m,\u001b[0m \u001b[0mExpression\u001b[0m\u001b[0;34m)\u001b[0m\u001b[0;34m:\u001b[0m\u001b[0;34m\u001b[0m\n",
       "\u001b[0;34m\u001b[0m                \u001b[0;32mraise\u001b[0m \u001b[0mTypeError\u001b[0m\u001b[0;34m(\u001b[0m\u001b[0;34m\"%s is not a valid variable.\"\u001b[0m \u001b[0;34m%\u001b[0m \u001b[0mrepr\u001b[0m\u001b[0;34m(\u001b[0m\u001b[0mi\u001b[0m\u001b[0;34m)\u001b[0m\u001b[0;34m)\u001b[0m\u001b[0;34m\u001b[0m\n",
       "\u001b[0;34m\u001b[0m    \u001b[0;32melif\u001b[0m \u001b[0mx\u001b[0m \u001b[0;32mis\u001b[0m \u001b[0;32mNone\u001b[0m\u001b[0;34m:\u001b[0m\u001b[0;34m\u001b[0m\n",
       "\u001b[0;34m\u001b[0m        \u001b[0mvars\u001b[0m \u001b[0;34m=\u001b[0m \u001b[0mf\u001b[0m\u001b[0;34m.\u001b[0m\u001b[0mvariables\u001b[0m\u001b[0;34m(\u001b[0m\u001b[0;34m)\u001b[0m\u001b[0;34m\u001b[0m\n",
       "\u001b[0;34m\u001b[0m        \u001b[0;32mif\u001b[0m \u001b[0mlen\u001b[0m\u001b[0;34m(\u001b[0m\u001b[0mvars\u001b[0m\u001b[0;34m)\u001b[0m \u001b[0;34m==\u001b[0m \u001b[0;36m0\u001b[0m\u001b[0;34m:\u001b[0m\u001b[0;34m\u001b[0m\n",
       "\u001b[0;34m\u001b[0m            \u001b[0;32mif\u001b[0m \u001b[0mmultiplicities\u001b[0m\u001b[0;34m:\u001b[0m\u001b[0;34m\u001b[0m\n",
       "\u001b[0;34m\u001b[0m                \u001b[0;32mreturn\u001b[0m \u001b[0;34m[\u001b[0m\u001b[0;34m]\u001b[0m\u001b[0;34m,\u001b[0m \u001b[0;34m[\u001b[0m\u001b[0;34m]\u001b[0m\u001b[0;34m\u001b[0m\n",
       "\u001b[0;34m\u001b[0m            \u001b[0;32melse\u001b[0m\u001b[0;34m:\u001b[0m\u001b[0;34m\u001b[0m\n",
       "\u001b[0;34m\u001b[0m                \u001b[0;32mreturn\u001b[0m \u001b[0;34m[\u001b[0m\u001b[0;34m]\u001b[0m\u001b[0;34m\u001b[0m\n",
       "\u001b[0;34m\u001b[0m        \u001b[0mx\u001b[0m \u001b[0;34m=\u001b[0m \u001b[0mvars\u001b[0m\u001b[0;34m[\u001b[0m\u001b[0;36m0\u001b[0m\u001b[0;34m]\u001b[0m\u001b[0;34m\u001b[0m\n",
       "\u001b[0;34m\u001b[0m    \u001b[0;32melif\u001b[0m \u001b[0;32mnot\u001b[0m \u001b[0misinstance\u001b[0m\u001b[0;34m(\u001b[0m\u001b[0mx\u001b[0m\u001b[0;34m,\u001b[0m \u001b[0mExpression\u001b[0m\u001b[0;34m)\u001b[0m\u001b[0;34m:\u001b[0m\u001b[0;34m\u001b[0m\n",
       "\u001b[0;34m\u001b[0m        \u001b[0;32mraise\u001b[0m \u001b[0mTypeError\u001b[0m\u001b[0;34m(\u001b[0m\u001b[0;34m\"%s is not a valid variable.\"\u001b[0m \u001b[0;34m%\u001b[0m \u001b[0mrepr\u001b[0m\u001b[0;34m(\u001b[0m\u001b[0mx\u001b[0m\u001b[0;34m)\u001b[0m\u001b[0;34m)\u001b[0m\u001b[0;34m\u001b[0m\n",
       "\u001b[0;34m\u001b[0m\u001b[0;34m\u001b[0m\n",
       "\u001b[0;34m\u001b[0m    \u001b[0;32mif\u001b[0m \u001b[0misinstance\u001b[0m\u001b[0;34m(\u001b[0m\u001b[0mf\u001b[0m\u001b[0;34m,\u001b[0m \u001b[0;34m(\u001b[0m\u001b[0mlist\u001b[0m\u001b[0;34m,\u001b[0m \u001b[0mtuple\u001b[0m\u001b[0;34m)\u001b[0m\u001b[0;34m)\u001b[0m \u001b[0;32mand\u001b[0m \u001b[0mlen\u001b[0m\u001b[0;34m(\u001b[0m\u001b[0mf\u001b[0m\u001b[0;34m)\u001b[0m \u001b[0;34m==\u001b[0m \u001b[0;36m1\u001b[0m\u001b[0;34m:\u001b[0m\u001b[0;34m\u001b[0m\n",
       "\u001b[0;34m\u001b[0m        \u001b[0;31m# f is a list with a single element\u001b[0m\u001b[0;34m\u001b[0m\n",
       "\u001b[0;34m\u001b[0m        \u001b[0;32mif\u001b[0m \u001b[0misinstance\u001b[0m\u001b[0;34m(\u001b[0m\u001b[0mf\u001b[0m\u001b[0;34m[\u001b[0m\u001b[0;36m0\u001b[0m\u001b[0;34m]\u001b[0m\u001b[0;34m,\u001b[0m \u001b[0mExpression\u001b[0m\u001b[0;34m)\u001b[0m\u001b[0;34m:\u001b[0m\u001b[0;34m\u001b[0m\n",
       "\u001b[0;34m\u001b[0m            \u001b[0mf\u001b[0m \u001b[0;34m=\u001b[0m \u001b[0mf\u001b[0m\u001b[0;34m[\u001b[0m\u001b[0;36m0\u001b[0m\u001b[0;34m]\u001b[0m\u001b[0;34m\u001b[0m\n",
       "\u001b[0;34m\u001b[0m        \u001b[0;32melse\u001b[0m\u001b[0;34m:\u001b[0m\u001b[0;34m\u001b[0m\n",
       "\u001b[0;34m\u001b[0m            \u001b[0;32mraise\u001b[0m \u001b[0mTypeError\u001b[0m\u001b[0;34m(\u001b[0m\u001b[0;34m\"The first argument to solve() should be a \"\u001b[0m\u001b[0;34m\u001b[0m\n",
       "\u001b[0;34m\u001b[0m                            \u001b[0;34m\"symbolic expression or a list of symbolic \"\u001b[0m\u001b[0;34m\u001b[0m\n",
       "\u001b[0;34m\u001b[0m                            \u001b[0;34m\"expressions.\"\u001b[0m\u001b[0;34m)\u001b[0m\u001b[0;34m\u001b[0m\n",
       "\u001b[0;34m\u001b[0m\u001b[0;34m\u001b[0m\n",
       "\u001b[0;34m\u001b[0m    \u001b[0;32mif\u001b[0m \u001b[0misinstance\u001b[0m\u001b[0;34m(\u001b[0m\u001b[0mf\u001b[0m\u001b[0;34m,\u001b[0m \u001b[0mExpression\u001b[0m\u001b[0;34m)\u001b[0m\u001b[0;34m:\u001b[0m  \u001b[0;31m# f is a single expression\u001b[0m\u001b[0;34m\u001b[0m\n",
       "\u001b[0;34m\u001b[0m        \u001b[0;32mreturn\u001b[0m \u001b[0m_solve_expression\u001b[0m\u001b[0;34m(\u001b[0m\u001b[0mf\u001b[0m\u001b[0;34m,\u001b[0m \u001b[0mx\u001b[0m\u001b[0;34m,\u001b[0m \u001b[0mexplicit_solutions\u001b[0m\u001b[0;34m,\u001b[0m \u001b[0mmultiplicities\u001b[0m\u001b[0;34m,\u001b[0m \u001b[0mto_poly_solve\u001b[0m\u001b[0;34m,\u001b[0m \u001b[0msolution_dict\u001b[0m\u001b[0;34m,\u001b[0m \u001b[0malgorithm\u001b[0m\u001b[0;34m,\u001b[0m \u001b[0mdomain\u001b[0m\u001b[0;34m)\u001b[0m\u001b[0;34m\u001b[0m\n",
       "\u001b[0;34m\u001b[0m\u001b[0;34m\u001b[0m\n",
       "\u001b[0;34m\u001b[0m    \u001b[0;32mif\u001b[0m \u001b[0;32mnot\u001b[0m \u001b[0misinstance\u001b[0m\u001b[0;34m(\u001b[0m\u001b[0mf\u001b[0m\u001b[0;34m,\u001b[0m \u001b[0;34m(\u001b[0m\u001b[0mlist\u001b[0m\u001b[0;34m,\u001b[0m \u001b[0mtuple\u001b[0m\u001b[0;34m)\u001b[0m\u001b[0;34m)\u001b[0m\u001b[0;34m:\u001b[0m\u001b[0;34m\u001b[0m\n",
       "\u001b[0;34m\u001b[0m        \u001b[0;32mraise\u001b[0m \u001b[0mTypeError\u001b[0m\u001b[0;34m(\u001b[0m\u001b[0;34m\"The first argument must be a symbolic expression or a list of symbolic expressions.\"\u001b[0m\u001b[0;34m)\u001b[0m\u001b[0;34m\u001b[0m\n",
       "\u001b[0;34m\u001b[0m\u001b[0;34m\u001b[0m\n",
       "\u001b[0;34m\u001b[0m    \u001b[0;31m# f is a list of such expressions or equations\u001b[0m\u001b[0;34m\u001b[0m\n",
       "\u001b[0;34m\u001b[0m\u001b[0;34m\u001b[0m\n",
       "\u001b[0;34m\u001b[0m    \u001b[0;32mif\u001b[0m \u001b[0;32mnot\u001b[0m \u001b[0margs\u001b[0m\u001b[0;34m:\u001b[0m\u001b[0;34m\u001b[0m\n",
       "\u001b[0;34m\u001b[0m        \u001b[0;32mraise\u001b[0m \u001b[0mTypeError\u001b[0m\u001b[0;34m(\u001b[0m\u001b[0;34m\"Please input variables to solve for.\"\u001b[0m\u001b[0;34m)\u001b[0m\u001b[0;34m\u001b[0m\n",
       "\u001b[0;34m\u001b[0m    \u001b[0;32mif\u001b[0m \u001b[0misinstance\u001b[0m\u001b[0;34m(\u001b[0m\u001b[0mx\u001b[0m\u001b[0;34m,\u001b[0m \u001b[0mExpression\u001b[0m\u001b[0;34m)\u001b[0m \u001b[0;32mand\u001b[0m \u001b[0mx\u001b[0m\u001b[0;34m.\u001b[0m\u001b[0mis_symbol\u001b[0m\u001b[0;34m(\u001b[0m\u001b[0;34m)\u001b[0m\u001b[0;34m:\u001b[0m\u001b[0;34m\u001b[0m\n",
       "\u001b[0;34m\u001b[0m        \u001b[0mvariables\u001b[0m \u001b[0;34m=\u001b[0m \u001b[0margs\u001b[0m\u001b[0;34m\u001b[0m\n",
       "\u001b[0;34m\u001b[0m    \u001b[0;32melse\u001b[0m\u001b[0;34m:\u001b[0m\u001b[0;34m\u001b[0m\n",
       "\u001b[0;34m\u001b[0m        \u001b[0mvariables\u001b[0m \u001b[0;34m=\u001b[0m \u001b[0mtuple\u001b[0m\u001b[0;34m(\u001b[0m\u001b[0mx\u001b[0m\u001b[0;34m)\u001b[0m\u001b[0;34m\u001b[0m\n",
       "\u001b[0;34m\u001b[0m\u001b[0;34m\u001b[0m\n",
       "\u001b[0;34m\u001b[0m    \u001b[0;32mfor\u001b[0m \u001b[0mv\u001b[0m \u001b[0;32min\u001b[0m \u001b[0mvariables\u001b[0m\u001b[0;34m:\u001b[0m\u001b[0;34m\u001b[0m\n",
       "\u001b[0;34m\u001b[0m        \u001b[0;32mif\u001b[0m \u001b[0;32mnot\u001b[0m \u001b[0;34m(\u001b[0m\u001b[0misinstance\u001b[0m\u001b[0;34m(\u001b[0m\u001b[0mv\u001b[0m\u001b[0;34m,\u001b[0m \u001b[0mExpression\u001b[0m\u001b[0;34m)\u001b[0m \u001b[0;32mand\u001b[0m \u001b[0mv\u001b[0m\u001b[0;34m.\u001b[0m\u001b[0mis_symbol\u001b[0m\u001b[0;34m(\u001b[0m\u001b[0;34m)\u001b[0m\u001b[0;34m)\u001b[0m\u001b[0;34m:\u001b[0m\u001b[0;34m\u001b[0m\n",
       "\u001b[0;34m\u001b[0m            \u001b[0;32mraise\u001b[0m \u001b[0mTypeError\u001b[0m\u001b[0;34m(\u001b[0m\u001b[0;34m\"%s is not a valid variable.\"\u001b[0m \u001b[0;34m%\u001b[0m \u001b[0mrepr\u001b[0m\u001b[0;34m(\u001b[0m\u001b[0mv\u001b[0m\u001b[0;34m)\u001b[0m\u001b[0;34m)\u001b[0m\u001b[0;34m\u001b[0m\n",
       "\u001b[0;34m\u001b[0m\u001b[0;34m\u001b[0m\n",
       "\u001b[0;34m\u001b[0m    \u001b[0;32mtry\u001b[0m\u001b[0;34m:\u001b[0m\u001b[0;34m\u001b[0m\n",
       "\u001b[0;34m\u001b[0m        \u001b[0mf\u001b[0m \u001b[0;34m=\u001b[0m \u001b[0;34m[\u001b[0m\u001b[0ms\u001b[0m \u001b[0;32mfor\u001b[0m \u001b[0ms\u001b[0m \u001b[0;32min\u001b[0m \u001b[0mf\u001b[0m \u001b[0;32mif\u001b[0m \u001b[0ms\u001b[0m \u001b[0;32mis\u001b[0m \u001b[0;32mnot\u001b[0m \u001b[0;32mTrue\u001b[0m\u001b[0;34m]\u001b[0m\u001b[0;34m\u001b[0m\n",
       "\u001b[0;34m\u001b[0m    \u001b[0;32mexcept\u001b[0m \u001b[0mTypeError\u001b[0m\u001b[0;34m:\u001b[0m\u001b[0;34m\u001b[0m\n",
       "\u001b[0;34m\u001b[0m        \u001b[0;32mraise\u001b[0m \u001b[0mValueError\u001b[0m\u001b[0;34m(\u001b[0m\u001b[0;34m\"Unable to solve %s for %s\"\u001b[0m \u001b[0;34m%\u001b[0m \u001b[0;34m(\u001b[0m\u001b[0mf\u001b[0m\u001b[0;34m,\u001b[0m \u001b[0margs\u001b[0m\u001b[0;34m)\u001b[0m\u001b[0;34m)\u001b[0m\u001b[0;34m\u001b[0m\n",
       "\u001b[0;34m\u001b[0m\u001b[0;34m\u001b[0m\n",
       "\u001b[0;34m\u001b[0m    \u001b[0;32mif\u001b[0m \u001b[0many\u001b[0m\u001b[0;34m(\u001b[0m\u001b[0ms\u001b[0m \u001b[0;32mis\u001b[0m \u001b[0;32mFalse\u001b[0m \u001b[0;32mfor\u001b[0m \u001b[0ms\u001b[0m \u001b[0;32min\u001b[0m \u001b[0mf\u001b[0m\u001b[0;34m)\u001b[0m\u001b[0;34m:\u001b[0m\u001b[0;34m\u001b[0m\n",
       "\u001b[0;34m\u001b[0m        \u001b[0;32mreturn\u001b[0m \u001b[0;34m[\u001b[0m\u001b[0;34m]\u001b[0m\u001b[0;34m\u001b[0m\n",
       "\u001b[0;34m\u001b[0m\u001b[0;34m\u001b[0m\n",
       "\u001b[0;34m\u001b[0m    \u001b[0;32mif\u001b[0m \u001b[0malgorithm\u001b[0m \u001b[0;34m==\u001b[0m \u001b[0;34m'sympy'\u001b[0m\u001b[0;34m:\u001b[0m\u001b[0;34m\u001b[0m\n",
       "\u001b[0;34m\u001b[0m        \u001b[0;32mfrom\u001b[0m \u001b[0msympy\u001b[0m \u001b[0;32mimport\u001b[0m \u001b[0msolve\u001b[0m \u001b[0;32mas\u001b[0m \u001b[0mssolve\u001b[0m\u001b[0;34m\u001b[0m\n",
       "\u001b[0;34m\u001b[0m        \u001b[0;32mfrom\u001b[0m \u001b[0msage\u001b[0m\u001b[0;34m.\u001b[0m\u001b[0minterfaces\u001b[0m\u001b[0;34m.\u001b[0m\u001b[0msympy\u001b[0m \u001b[0;32mimport\u001b[0m \u001b[0msympy_set_to_list\u001b[0m\u001b[0;34m\u001b[0m\n",
       "\u001b[0;34m\u001b[0m        \u001b[0;32mif\u001b[0m \u001b[0misinstance\u001b[0m\u001b[0;34m(\u001b[0m\u001b[0mf\u001b[0m\u001b[0;34m,\u001b[0m \u001b[0mExpression\u001b[0m\u001b[0;34m)\u001b[0m\u001b[0;34m:\u001b[0m  \u001b[0;31m# f is a single expression\u001b[0m\u001b[0;34m\u001b[0m\n",
       "\u001b[0;34m\u001b[0m            \u001b[0msympy_f\u001b[0m \u001b[0;34m=\u001b[0m \u001b[0mf\u001b[0m\u001b[0;34m.\u001b[0m\u001b[0m_sympy_\u001b[0m\u001b[0;34m(\u001b[0m\u001b[0;34m)\u001b[0m\u001b[0;34m\u001b[0m\n",
       "\u001b[0;34m\u001b[0m        \u001b[0;32melse\u001b[0m\u001b[0;34m:\u001b[0m\u001b[0;34m\u001b[0m\n",
       "\u001b[0;34m\u001b[0m            \u001b[0msympy_f\u001b[0m \u001b[0;34m=\u001b[0m \u001b[0;34m[\u001b[0m\u001b[0ms\u001b[0m\u001b[0;34m.\u001b[0m\u001b[0m_sympy_\u001b[0m\u001b[0;34m(\u001b[0m\u001b[0;34m)\u001b[0m \u001b[0;32mfor\u001b[0m \u001b[0ms\u001b[0m \u001b[0;32min\u001b[0m \u001b[0mf\u001b[0m\u001b[0;34m]\u001b[0m\u001b[0;34m\u001b[0m\n",
       "\u001b[0;34m\u001b[0m        \u001b[0;32mif\u001b[0m \u001b[0misinstance\u001b[0m\u001b[0;34m(\u001b[0m\u001b[0mf\u001b[0m\u001b[0;34m,\u001b[0m \u001b[0mExpression\u001b[0m\u001b[0;34m)\u001b[0m \u001b[0;32mand\u001b[0m \u001b[0mf\u001b[0m\u001b[0;34m.\u001b[0m\u001b[0mis_symbol\u001b[0m\u001b[0;34m(\u001b[0m\u001b[0;34m)\u001b[0m\u001b[0;34m:\u001b[0m\u001b[0;34m\u001b[0m\n",
       "\u001b[0;34m\u001b[0m            \u001b[0msympy_vars\u001b[0m \u001b[0;34m=\u001b[0m \u001b[0;34m(\u001b[0m\u001b[0mx\u001b[0m\u001b[0;34m.\u001b[0m\u001b[0m_sympy_\u001b[0m\u001b[0;34m(\u001b[0m\u001b[0;34m)\u001b[0m\u001b[0;34m,\u001b[0m\u001b[0;34m)\u001b[0m\u001b[0;34m\u001b[0m\n",
       "\u001b[0;34m\u001b[0m        \u001b[0;32melse\u001b[0m\u001b[0;34m:\u001b[0m\u001b[0;34m\u001b[0m\n",
       "\u001b[0;34m\u001b[0m            \u001b[0msympy_vars\u001b[0m \u001b[0;34m=\u001b[0m \u001b[0mtuple\u001b[0m\u001b[0;34m(\u001b[0m\u001b[0;34m[\u001b[0m\u001b[0mv\u001b[0m\u001b[0;34m.\u001b[0m\u001b[0m_sympy_\u001b[0m\u001b[0;34m(\u001b[0m\u001b[0;34m)\u001b[0m \u001b[0;32mfor\u001b[0m \u001b[0mv\u001b[0m \u001b[0;32min\u001b[0m \u001b[0mx\u001b[0m\u001b[0;34m]\u001b[0m\u001b[0;34m)\u001b[0m\u001b[0;34m\u001b[0m\n",
       "\u001b[0;34m\u001b[0m        \u001b[0;32mif\u001b[0m \u001b[0mlen\u001b[0m\u001b[0;34m(\u001b[0m\u001b[0msympy_vars\u001b[0m\u001b[0;34m)\u001b[0m \u001b[0;34m>\u001b[0m \u001b[0;36m1\u001b[0m \u001b[0;32mor\u001b[0m \u001b[0;32mnot\u001b[0m \u001b[0misinstance\u001b[0m\u001b[0;34m(\u001b[0m\u001b[0mf\u001b[0m\u001b[0;34m,\u001b[0m \u001b[0mExpression\u001b[0m\u001b[0;34m)\u001b[0m\u001b[0;34m:\u001b[0m\u001b[0;34m\u001b[0m\n",
       "\u001b[0;34m\u001b[0m            \u001b[0mret\u001b[0m \u001b[0;34m=\u001b[0m \u001b[0mssolve\u001b[0m\u001b[0;34m(\u001b[0m\u001b[0msympy_f\u001b[0m\u001b[0;34m,\u001b[0m \u001b[0msympy_vars\u001b[0m\u001b[0;34m,\u001b[0m \u001b[0mdict\u001b[0m\u001b[0;34m=\u001b[0m\u001b[0;32mTrue\u001b[0m\u001b[0;34m)\u001b[0m\u001b[0;34m\u001b[0m\n",
       "\u001b[0;34m\u001b[0m            \u001b[0;32mif\u001b[0m \u001b[0misinstance\u001b[0m\u001b[0;34m(\u001b[0m\u001b[0mret\u001b[0m\u001b[0;34m,\u001b[0m \u001b[0mdict\u001b[0m\u001b[0;34m)\u001b[0m\u001b[0;34m:\u001b[0m\u001b[0;34m\u001b[0m\n",
       "\u001b[0;34m\u001b[0m                \u001b[0;32mif\u001b[0m \u001b[0msolution_dict\u001b[0m\u001b[0;34m:\u001b[0m\u001b[0;34m\u001b[0m\n",
       "\u001b[0;34m\u001b[0m                    \u001b[0ml\u001b[0m \u001b[0;34m=\u001b[0m \u001b[0;34m[\u001b[0m\u001b[0;34m]\u001b[0m\u001b[0;34m\u001b[0m\n",
       "\u001b[0;34m\u001b[0m                    \u001b[0;32mfor\u001b[0m \u001b[0md\u001b[0m \u001b[0;32min\u001b[0m \u001b[0mret\u001b[0m\u001b[0;34m:\u001b[0m\u001b[0;34m\u001b[0m\n",
       "\u001b[0;34m\u001b[0m                        \u001b[0mr\u001b[0m \u001b[0;34m=\u001b[0m \u001b[0;34m{\u001b[0m\u001b[0;34m}\u001b[0m\u001b[0;34m\u001b[0m\n",
       "\u001b[0;34m\u001b[0m                        \u001b[0;32mfor\u001b[0m \u001b[0;34m(\u001b[0m\u001b[0mv\u001b[0m\u001b[0;34m,\u001b[0m \u001b[0mex\u001b[0m\u001b[0;34m)\u001b[0m \u001b[0;32min\u001b[0m \u001b[0md\u001b[0m\u001b[0;34m.\u001b[0m\u001b[0mitems\u001b[0m\u001b[0;34m(\u001b[0m\u001b[0;34m)\u001b[0m\u001b[0;34m:\u001b[0m\u001b[0;34m\u001b[0m\n",
       "\u001b[0;34m\u001b[0m                            \u001b[0mr\u001b[0m\u001b[0;34m[\u001b[0m\u001b[0mv\u001b[0m\u001b[0;34m.\u001b[0m\u001b[0m_sage_\u001b[0m\u001b[0;34m(\u001b[0m\u001b[0;34m)\u001b[0m\u001b[0;34m]\u001b[0m \u001b[0;34m=\u001b[0m \u001b[0mex\u001b[0m\u001b[0;34m.\u001b[0m\u001b[0m_sage_\u001b[0m\u001b[0;34m(\u001b[0m\u001b[0;34m)\u001b[0m\u001b[0;34m\u001b[0m\n",
       "\u001b[0;34m\u001b[0m                        \u001b[0ml\u001b[0m\u001b[0;34m.\u001b[0m\u001b[0mappend\u001b[0m\u001b[0;34m(\u001b[0m\u001b[0mr\u001b[0m\u001b[0;34m)\u001b[0m\u001b[0;34m\u001b[0m\n",
       "\u001b[0;34m\u001b[0m                    \u001b[0;32mreturn\u001b[0m \u001b[0ml\u001b[0m\u001b[0;34m\u001b[0m\n",
       "\u001b[0;34m\u001b[0m                \u001b[0;32melse\u001b[0m\u001b[0;34m:\u001b[0m\u001b[0;34m\u001b[0m\n",
       "\u001b[0;34m\u001b[0m                    \u001b[0;32mreturn\u001b[0m \u001b[0;34m[\u001b[0m\u001b[0;34m[\u001b[0m\u001b[0mv\u001b[0m\u001b[0;34m.\u001b[0m\u001b[0m_sage_\u001b[0m\u001b[0;34m(\u001b[0m\u001b[0;34m)\u001b[0m \u001b[0;34m==\u001b[0m \u001b[0mex\u001b[0m\u001b[0;34m.\u001b[0m\u001b[0m_sage_\u001b[0m\u001b[0;34m(\u001b[0m\u001b[0;34m)\u001b[0m\u001b[0;34m\u001b[0m\n",
       "\u001b[0;34m\u001b[0m                             \u001b[0;32mfor\u001b[0m \u001b[0mv\u001b[0m\u001b[0;34m,\u001b[0m \u001b[0mex\u001b[0m \u001b[0;32min\u001b[0m \u001b[0md\u001b[0m\u001b[0;34m.\u001b[0m\u001b[0mitems\u001b[0m\u001b[0;34m(\u001b[0m\u001b[0;34m)\u001b[0m\u001b[0;34m]\u001b[0m\u001b[0;34m\u001b[0m\n",
       "\u001b[0;34m\u001b[0m                            \u001b[0;32mfor\u001b[0m \u001b[0md\u001b[0m \u001b[0;32min\u001b[0m \u001b[0mret\u001b[0m\u001b[0;34m]\u001b[0m\u001b[0;34m\u001b[0m\n",
       "\u001b[0;34m\u001b[0m            \u001b[0;32melif\u001b[0m \u001b[0misinstance\u001b[0m\u001b[0;34m(\u001b[0m\u001b[0mret\u001b[0m\u001b[0;34m,\u001b[0m \u001b[0mlist\u001b[0m\u001b[0;34m)\u001b[0m\u001b[0;34m:\u001b[0m\u001b[0;34m\u001b[0m\n",
       "\u001b[0;34m\u001b[0m                \u001b[0ml\u001b[0m \u001b[0;34m=\u001b[0m \u001b[0;34m[\u001b[0m\u001b[0;34m]\u001b[0m\u001b[0;34m\u001b[0m\n",
       "\u001b[0;34m\u001b[0m                \u001b[0;32mfor\u001b[0m \u001b[0msol\u001b[0m \u001b[0;32min\u001b[0m \u001b[0mret\u001b[0m\u001b[0;34m:\u001b[0m\u001b[0;34m\u001b[0m\n",
       "\u001b[0;34m\u001b[0m                    \u001b[0mr\u001b[0m \u001b[0;34m=\u001b[0m \u001b[0;34m{\u001b[0m\u001b[0;34m}\u001b[0m\u001b[0;34m\u001b[0m\n",
       "\u001b[0;34m\u001b[0m                    \u001b[0;32mfor\u001b[0m \u001b[0;34m(\u001b[0m\u001b[0mv\u001b[0m\u001b[0;34m,\u001b[0m \u001b[0mex\u001b[0m\u001b[0;34m)\u001b[0m \u001b[0;32min\u001b[0m \u001b[0msol\u001b[0m\u001b[0;34m.\u001b[0m\u001b[0mitems\u001b[0m\u001b[0;34m(\u001b[0m\u001b[0;34m)\u001b[0m\u001b[0;34m:\u001b[0m\u001b[0;34m\u001b[0m\n",
       "\u001b[0;34m\u001b[0m                        \u001b[0mr\u001b[0m\u001b[0;34m[\u001b[0m\u001b[0mv\u001b[0m\u001b[0;34m.\u001b[0m\u001b[0m_sage_\u001b[0m\u001b[0;34m(\u001b[0m\u001b[0;34m)\u001b[0m\u001b[0;34m]\u001b[0m \u001b[0;34m=\u001b[0m \u001b[0mex\u001b[0m\u001b[0;34m.\u001b[0m\u001b[0m_sage_\u001b[0m\u001b[0;34m(\u001b[0m\u001b[0;34m)\u001b[0m\u001b[0;34m\u001b[0m\n",
       "\u001b[0;34m\u001b[0m                    \u001b[0ml\u001b[0m\u001b[0;34m.\u001b[0m\u001b[0mappend\u001b[0m\u001b[0;34m(\u001b[0m\u001b[0mr\u001b[0m\u001b[0;34m)\u001b[0m\u001b[0;34m\u001b[0m\n",
       "\u001b[0;34m\u001b[0m                \u001b[0;32mreturn\u001b[0m \u001b[0ml\u001b[0m\u001b[0;34m\u001b[0m\n",
       "\u001b[0;34m\u001b[0m            \u001b[0;32melse\u001b[0m\u001b[0;34m:\u001b[0m\u001b[0;34m\u001b[0m\n",
       "\u001b[0;34m\u001b[0m                \u001b[0;32mreturn\u001b[0m \u001b[0msympy_set_to_list\u001b[0m\u001b[0;34m(\u001b[0m\u001b[0mret\u001b[0m\u001b[0;34m,\u001b[0m \u001b[0msympy_vars\u001b[0m\u001b[0;34m)\u001b[0m\u001b[0;34m\u001b[0m\n",
       "\u001b[0;34m\u001b[0m\u001b[0;34m\u001b[0m\n",
       "\u001b[0;34m\u001b[0m    \u001b[0;32mif\u001b[0m \u001b[0malgorithm\u001b[0m \u001b[0;34m==\u001b[0m \u001b[0;34m'giac'\u001b[0m\u001b[0;34m:\u001b[0m\u001b[0;34m\u001b[0m\n",
       "\u001b[0;34m\u001b[0m        \u001b[0;32mreturn\u001b[0m \u001b[0m_giac_solver\u001b[0m\u001b[0;34m(\u001b[0m\u001b[0mf\u001b[0m\u001b[0;34m,\u001b[0m \u001b[0mx\u001b[0m\u001b[0;34m,\u001b[0m \u001b[0msolution_dict\u001b[0m\u001b[0;34m)\u001b[0m\u001b[0;34m\u001b[0m\n",
       "\u001b[0;34m\u001b[0m\u001b[0;34m\u001b[0m\n",
       "\u001b[0;34m\u001b[0m    \u001b[0;32mfrom\u001b[0m \u001b[0msage\u001b[0m\u001b[0;34m.\u001b[0m\u001b[0mcalculus\u001b[0m\u001b[0;34m.\u001b[0m\u001b[0mcalculus\u001b[0m \u001b[0;32mimport\u001b[0m \u001b[0mmaxima\u001b[0m\u001b[0;34m\u001b[0m\n",
       "\u001b[0;34m\u001b[0m    \u001b[0mm\u001b[0m \u001b[0;34m=\u001b[0m \u001b[0mmaxima\u001b[0m\u001b[0;34m(\u001b[0m\u001b[0mf\u001b[0m\u001b[0;34m)\u001b[0m\u001b[0;34m\u001b[0m\n",
       "\u001b[0;34m\u001b[0m\u001b[0;34m\u001b[0m\n",
       "\u001b[0;34m\u001b[0m    \u001b[0;32mtry\u001b[0m\u001b[0;34m:\u001b[0m\u001b[0;34m\u001b[0m\n",
       "\u001b[0;34m\u001b[0m        \u001b[0ms\u001b[0m \u001b[0;34m=\u001b[0m \u001b[0mm\u001b[0m\u001b[0;34m.\u001b[0m\u001b[0msolve\u001b[0m\u001b[0;34m(\u001b[0m\u001b[0mvariables\u001b[0m\u001b[0;34m)\u001b[0m\u001b[0;34m\u001b[0m\n",
       "\u001b[0;34m\u001b[0m    \u001b[0;32mexcept\u001b[0m \u001b[0mException\u001b[0m\u001b[0;34m:\u001b[0m  \u001b[0;31m# if Maxima gave an error, try its to_poly_solve\u001b[0m\u001b[0;34m\u001b[0m\n",
       "\u001b[0;34m\u001b[0m        \u001b[0;32mtry\u001b[0m\u001b[0;34m:\u001b[0m\u001b[0;34m\u001b[0m\n",
       "\u001b[0;34m\u001b[0m            \u001b[0ms\u001b[0m \u001b[0;34m=\u001b[0m \u001b[0mm\u001b[0m\u001b[0;34m.\u001b[0m\u001b[0mto_poly_solve\u001b[0m\u001b[0;34m(\u001b[0m\u001b[0mvariables\u001b[0m\u001b[0;34m)\u001b[0m\u001b[0;34m\u001b[0m\n",
       "\u001b[0;34m\u001b[0m        \u001b[0;32mexcept\u001b[0m \u001b[0mTypeError\u001b[0m \u001b[0;32mas\u001b[0m \u001b[0mmess\u001b[0m\u001b[0;34m:\u001b[0m  \u001b[0;31m# if that gives an error, raise an error.\u001b[0m\u001b[0;34m\u001b[0m\n",
       "\u001b[0;34m\u001b[0m            \u001b[0;32mif\u001b[0m \u001b[0;34m\"Error executing code in Maxima\"\u001b[0m \u001b[0;32min\u001b[0m \u001b[0mstr\u001b[0m\u001b[0;34m(\u001b[0m\u001b[0mmess\u001b[0m\u001b[0;34m)\u001b[0m\u001b[0;34m:\u001b[0m\u001b[0;34m\u001b[0m\n",
       "\u001b[0;34m\u001b[0m                \u001b[0;32mraise\u001b[0m \u001b[0mValueError\u001b[0m\u001b[0;34m(\u001b[0m\u001b[0;34m\"Sage is unable to determine whether the system %s can be solved for %s\"\u001b[0m \u001b[0;34m%\u001b[0m \u001b[0;34m(\u001b[0m\u001b[0mf\u001b[0m\u001b[0;34m,\u001b[0m \u001b[0margs\u001b[0m\u001b[0;34m)\u001b[0m\u001b[0;34m)\u001b[0m\u001b[0;34m\u001b[0m\n",
       "\u001b[0;34m\u001b[0m            \u001b[0;32melse\u001b[0m\u001b[0;34m:\u001b[0m\u001b[0;34m\u001b[0m\n",
       "\u001b[0;34m\u001b[0m                \u001b[0;32mraise\u001b[0m\u001b[0;34m\u001b[0m\n",
       "\u001b[0;34m\u001b[0m\u001b[0;34m\u001b[0m\n",
       "\u001b[0;34m\u001b[0m    \u001b[0;32mif\u001b[0m \u001b[0mlen\u001b[0m\u001b[0;34m(\u001b[0m\u001b[0ms\u001b[0m\u001b[0;34m)\u001b[0m \u001b[0;34m==\u001b[0m \u001b[0;36m0\u001b[0m\u001b[0;34m:\u001b[0m  \u001b[0;31m# if Maxima's solve gave no solutions, try its to_poly_solve\u001b[0m\u001b[0;34m\u001b[0m\n",
       "\u001b[0;34m\u001b[0m        \u001b[0;32mtry\u001b[0m\u001b[0;34m:\u001b[0m\u001b[0;34m\u001b[0m\n",
       "\u001b[0;34m\u001b[0m            \u001b[0ms\u001b[0m \u001b[0;34m=\u001b[0m \u001b[0mm\u001b[0m\u001b[0;34m.\u001b[0m\u001b[0mto_poly_solve\u001b[0m\u001b[0;34m(\u001b[0m\u001b[0mvariables\u001b[0m\u001b[0;34m)\u001b[0m\u001b[0;34m\u001b[0m\n",
       "\u001b[0;34m\u001b[0m        \u001b[0;32mexcept\u001b[0m \u001b[0mException\u001b[0m\u001b[0;34m:\u001b[0m  \u001b[0;31m# if that gives an error, stick with no solutions\u001b[0m\u001b[0;34m\u001b[0m\n",
       "\u001b[0;34m\u001b[0m            \u001b[0ms\u001b[0m \u001b[0;34m=\u001b[0m \u001b[0;34m[\u001b[0m\u001b[0;34m]\u001b[0m\u001b[0;34m\u001b[0m\n",
       "\u001b[0;34m\u001b[0m\u001b[0;34m\u001b[0m\n",
       "\u001b[0;34m\u001b[0m    \u001b[0;32mif\u001b[0m \u001b[0mlen\u001b[0m\u001b[0;34m(\u001b[0m\u001b[0ms\u001b[0m\u001b[0;34m)\u001b[0m \u001b[0;34m==\u001b[0m \u001b[0;36m0\u001b[0m\u001b[0;34m:\u001b[0m  \u001b[0;31m# if to_poly_solve gave no solutions, try use_grobner\u001b[0m\u001b[0;34m\u001b[0m\n",
       "\u001b[0;34m\u001b[0m        \u001b[0;32mtry\u001b[0m\u001b[0;34m:\u001b[0m\u001b[0;34m\u001b[0m\n",
       "\u001b[0;34m\u001b[0m            \u001b[0ms\u001b[0m \u001b[0;34m=\u001b[0m \u001b[0mm\u001b[0m\u001b[0;34m.\u001b[0m\u001b[0mto_poly_solve\u001b[0m\u001b[0;34m(\u001b[0m\u001b[0mvariables\u001b[0m\u001b[0;34m,\u001b[0m \u001b[0;34m'use_grobner=true'\u001b[0m\u001b[0;34m)\u001b[0m\u001b[0;34m\u001b[0m\n",
       "\u001b[0;34m\u001b[0m        \u001b[0;32mexcept\u001b[0m \u001b[0mException\u001b[0m\u001b[0;34m:\u001b[0m  \u001b[0;31m# if that gives an error, stick with no solutions\u001b[0m\u001b[0;34m\u001b[0m\n",
       "\u001b[0;34m\u001b[0m            \u001b[0ms\u001b[0m \u001b[0;34m=\u001b[0m \u001b[0;34m[\u001b[0m\u001b[0;34m]\u001b[0m\u001b[0;34m\u001b[0m\n",
       "\u001b[0;34m\u001b[0m\u001b[0;34m\u001b[0m\n",
       "\u001b[0;34m\u001b[0m    \u001b[0msol_list\u001b[0m \u001b[0;34m=\u001b[0m \u001b[0mstring_to_list_of_solutions\u001b[0m\u001b[0;34m(\u001b[0m\u001b[0mrepr\u001b[0m\u001b[0;34m(\u001b[0m\u001b[0ms\u001b[0m\u001b[0;34m)\u001b[0m\u001b[0;34m)\u001b[0m\u001b[0;34m\u001b[0m\n",
       "\u001b[0;34m\u001b[0m\u001b[0;34m\u001b[0m\n",
       "\u001b[0;34m\u001b[0m    \u001b[0;31m# Relaxed form suggested by Mike Hansen (#8553):\u001b[0m\u001b[0;34m\u001b[0m\n",
       "\u001b[0;34m\u001b[0m    \u001b[0;32mif\u001b[0m \u001b[0mkwds\u001b[0m\u001b[0;34m.\u001b[0m\u001b[0mget\u001b[0m\u001b[0;34m(\u001b[0m\u001b[0;34m'solution_dict'\u001b[0m\u001b[0;34m,\u001b[0m \u001b[0;32mNone\u001b[0m\u001b[0;34m)\u001b[0m\u001b[0;34m:\u001b[0m\u001b[0;34m\u001b[0m\n",
       "\u001b[0;34m\u001b[0m        \u001b[0;32mif\u001b[0m \u001b[0;32mnot\u001b[0m \u001b[0msol_list\u001b[0m\u001b[0;34m:\u001b[0m  \u001b[0;31m# fixes IndexError on empty solution list (#8553)\u001b[0m\u001b[0;34m\u001b[0m\n",
       "\u001b[0;34m\u001b[0m            \u001b[0;32mreturn\u001b[0m \u001b[0;34m[\u001b[0m\u001b[0;34m]\u001b[0m\u001b[0;34m\u001b[0m\n",
       "\u001b[0;34m\u001b[0m        \u001b[0;32mif\u001b[0m \u001b[0misinstance\u001b[0m\u001b[0;34m(\u001b[0m\u001b[0msol_list\u001b[0m\u001b[0;34m[\u001b[0m\u001b[0;36m0\u001b[0m\u001b[0;34m]\u001b[0m\u001b[0;34m,\u001b[0m \u001b[0mlist\u001b[0m\u001b[0;34m)\u001b[0m\u001b[0;34m:\u001b[0m\u001b[0;34m\u001b[0m\n",
       "\u001b[0;34m\u001b[0m            \u001b[0msol_dict\u001b[0m \u001b[0;34m=\u001b[0m \u001b[0;34m[\u001b[0m\u001b[0;34m{\u001b[0m\u001b[0meq\u001b[0m\u001b[0;34m.\u001b[0m\u001b[0mleft\u001b[0m\u001b[0;34m(\u001b[0m\u001b[0;34m)\u001b[0m\u001b[0;34m:\u001b[0m \u001b[0meq\u001b[0m\u001b[0;34m.\u001b[0m\u001b[0mright\u001b[0m\u001b[0;34m(\u001b[0m\u001b[0;34m)\u001b[0m \u001b[0;32mfor\u001b[0m \u001b[0meq\u001b[0m \u001b[0;32min\u001b[0m \u001b[0msolution\u001b[0m\u001b[0;34m}\u001b[0m\u001b[0;34m\u001b[0m\n",
       "\u001b[0;34m\u001b[0m                        \u001b[0;32mfor\u001b[0m \u001b[0msolution\u001b[0m \u001b[0;32min\u001b[0m \u001b[0msol_list\u001b[0m\u001b[0;34m]\u001b[0m\u001b[0;34m\u001b[0m\n",
       "\u001b[0;34m\u001b[0m        \u001b[0;32melse\u001b[0m\u001b[0;34m:\u001b[0m\u001b[0;34m\u001b[0m\n",
       "\u001b[0;34m\u001b[0m            \u001b[0msol_dict\u001b[0m \u001b[0;34m=\u001b[0m \u001b[0;34m[\u001b[0m\u001b[0;34m{\u001b[0m\u001b[0meq\u001b[0m\u001b[0;34m.\u001b[0m\u001b[0mleft\u001b[0m\u001b[0;34m(\u001b[0m\u001b[0;34m)\u001b[0m\u001b[0;34m:\u001b[0m \u001b[0meq\u001b[0m\u001b[0;34m.\u001b[0m\u001b[0mright\u001b[0m\u001b[0;34m(\u001b[0m\u001b[0;34m)\u001b[0m\u001b[0;34m}\u001b[0m \u001b[0;32mfor\u001b[0m \u001b[0meq\u001b[0m \u001b[0;32min\u001b[0m \u001b[0msol_list\u001b[0m\u001b[0;34m]\u001b[0m\u001b[0;34m\u001b[0m\n",
       "\u001b[0;34m\u001b[0m\u001b[0;34m\u001b[0m\n",
       "\u001b[0;34m\u001b[0m        \u001b[0;32mreturn\u001b[0m \u001b[0msol_dict\u001b[0m\u001b[0;34m\u001b[0m\n",
       "\u001b[0;34m\u001b[0m    \u001b[0;32melse\u001b[0m\u001b[0;34m:\u001b[0m\u001b[0;34m\u001b[0m\n",
       "\u001b[0;34m\u001b[0m        \u001b[0;32mreturn\u001b[0m \u001b[0msol_list\u001b[0m\u001b[0;34m\u001b[0m\u001b[0;34m\u001b[0m\u001b[0m\n",
       "\u001b[0;31mFile:\u001b[0m      /ext/sage/10.3/src/sage/symbolic/relation.py\n",
       "\u001b[0;31mType:\u001b[0m      function"
      ]
     },
     "execution_count": 1,
     "metadata": {
     },
     "output_type": "execute_result",
     "start": 0
    }
   ],
   "source": [
    "solve??"
   ]
  },
  {
   "cell_type": "code",
   "execution_count": 4,
   "id": "c7ef49",
   "metadata": {
    "collapsed": false
   },
   "outputs": [
    {
     "data": {
      "text/html": [
       "<html>\\(\\displaystyle x^{2} + x - 2\\)</html>"
      ],
      "text/latex": [
       "$\\displaystyle x^{2} + x - 2$"
      ],
      "text/plain": [
       "x^2 + x - 2"
      ]
     },
     "execution_count": 4,
     "metadata": {
     },
     "output_type": "execute_result"
    }
   ],
   "source": [
    "f(x) = x^2+x-2\n",
    "show(f(x))"
   ]
  },
  {
   "cell_type": "code",
   "execution_count": 5,
   "id": "07160a",
   "metadata": {
    "collapsed": false
   },
   "outputs": [
    {
     "data": {
      "text/plain": [
       "x^{2} + x - 2"
      ]
     },
     "execution_count": 5,
     "metadata": {
     },
     "output_type": "execute_result"
    }
   ],
   "source": [
    "latex(f(x))"
   ]
  },
  {
   "cell_type": "code",
   "execution_count": 6,
   "id": "b8c59b",
   "metadata": {
    "collapsed": false
   },
   "outputs": [
    {
     "data": {
      "text/plain": [
       "4"
      ]
     },
     "execution_count": 6,
     "metadata": {
     },
     "output_type": "execute_result"
    }
   ],
   "source": [
    "f(2)"
   ]
  },
  {
   "cell_type": "code",
   "execution_count": 7,
   "id": "85ef25",
   "metadata": {
    "collapsed": false
   },
   "outputs": [
    {
     "data": {
      "text/plain": [
       "4.72801174749956"
      ]
     },
     "execution_count": 7,
     "metadata": {
     },
     "output_type": "execute_result"
    }
   ],
   "source": [
    "f(-pi).n()"
   ]
  },
  {
   "cell_type": "code",
   "execution_count": 8,
   "id": "635e3d",
   "metadata": {
    "collapsed": false
   },
   "outputs": [
    {
     "data": {
      "text/plain": [
       "[x == 1, x == -2]"
      ]
     },
     "execution_count": 8,
     "metadata": {
     },
     "output_type": "execute_result"
    }
   ],
   "source": [
    "solve(f(x)==0,x)"
   ]
  },
  {
   "cell_type": "code",
   "execution_count": 9,
   "id": "154106",
   "metadata": {
    "collapsed": false
   },
   "outputs": [
    {
     "data": {
      "text/plain": [
       "[{x: 1}, {x: -2}]"
      ]
     },
     "execution_count": 9,
     "metadata": {
     },
     "output_type": "execute_result"
    }
   ],
   "source": [
    "solve(f(x)==0,x,solution_dict=True)"
   ]
  },
  {
   "cell_type": "code",
   "execution_count": 11,
   "id": "f2e1b8",
   "metadata": {
    "collapsed": false
   },
   "outputs": [
    {
     "data": {
      "text/plain": [
       "<class 'sage.symbolic.expression.Expression'>"
      ]
     },
     "execution_count": 11,
     "metadata": {
     },
     "output_type": "execute_result"
    }
   ],
   "source": [
    "type(f)"
   ]
  },
  {
   "cell_type": "code",
   "execution_count": 12,
   "id": "2d7eb0",
   "metadata": {
    "collapsed": false
   },
   "outputs": [
    {
     "data": {
      "text/plain": [
       "[[x |--> -2, x |--> 0], [x |--> 1, x |--> 1], [x |--> 1, x |--> 2]]"
      ]
     },
     "execution_count": 12,
     "metadata": {
     },
     "output_type": "execute_result"
    }
   ],
   "source": [
    "f.coefficients()"
   ]
  },
  {
   "cell_type": "code",
   "execution_count": 13,
   "id": "d5f5f1",
   "metadata": {
    "collapsed": false
   },
   "outputs": [
    {
     "data": {
      "text/plain": [
       "[(1, 1), (-2, 1)]"
      ]
     },
     "execution_count": 13,
     "metadata": {
     },
     "output_type": "execute_result"
    }
   ],
   "source": [
    "f.roots()"
   ]
  },
  {
   "cell_type": "code",
   "execution_count": 14,
   "id": "bf10f9",
   "metadata": {
    "collapsed": false
   },
   "outputs": [
    {
     "data": {
      "text/plain": [
       "[(-1/2*I*sqrt(3) - 1/2, 1), (1/2*I*sqrt(3) - 1/2, 1)]"
      ]
     },
     "execution_count": 14,
     "metadata": {
     },
     "output_type": "execute_result"
    }
   ],
   "source": [
    "(x^2+x+1).roots()"
   ]
  },
  {
   "cell_type": "code",
   "execution_count": 15,
   "id": "7f8dfe",
   "metadata": {
    "collapsed": false
   },
   "outputs": [
    {
     "data": {
      "text/html": [
       "<html>\\(\\displaystyle \\left[\\left(-\\frac{1}{2} i \\, \\sqrt{3} - \\frac{1}{2}, 1\\right), \\left(\\frac{1}{2} i \\, \\sqrt{3} - \\frac{1}{2}, 1\\right)\\right]\\)</html>"
      ],
      "text/latex": [
       "$\\displaystyle \\left[\\left(-\\frac{1}{2} i \\, \\sqrt{3} - \\frac{1}{2}, 1\\right), \\left(\\frac{1}{2} i \\, \\sqrt{3} - \\frac{1}{2}, 1\\right)\\right]$"
      ],
      "text/plain": [
       "[(-1/2*I*sqrt(3) - 1/2, 1), (1/2*I*sqrt(3) - 1/2, 1)]"
      ]
     },
     "execution_count": 15,
     "metadata": {
     },
     "output_type": "execute_result"
    }
   ],
   "source": [
    "s=(x^2+x+1).roots()\n",
    "show(s)"
   ]
  },
  {
   "cell_type": "code",
   "execution_count": 16,
   "id": "c4841f",
   "metadata": {
    "collapsed": false
   },
   "outputs": [
    {
     "data": {
      "text/html": [
       "<html>\\(\\displaystyle \\left[x = -\\frac{b + \\sqrt{b^{2} - 4 \\, a c}}{2 \\, a}, x = -\\frac{b - \\sqrt{b^{2} - 4 \\, a c}}{2 \\, a}\\right]\\)</html>"
      ],
      "text/latex": [
       "$\\displaystyle \\left[x = -\\frac{b + \\sqrt{b^{2} - 4 \\, a c}}{2 \\, a}, x = -\\frac{b - \\sqrt{b^{2} - 4 \\, a c}}{2 \\, a}\\right]$"
      ],
      "text/plain": [
       "[x == -1/2*(b + sqrt(b^2 - 4*a*c))/a, x == -1/2*(b - sqrt(b^2 - 4*a*c))/a]"
      ]
     },
     "execution_count": 16,
     "metadata": {
     },
     "output_type": "execute_result"
    }
   ],
   "source": [
    "var('a,b,c')\n",
    "sol = solve(a*x^2+b*x+c==0,x)\n",
    "show(sol)"
   ]
  },
  {
   "cell_type": "code",
   "execution_count": 17,
   "id": "b31269",
   "metadata": {
    "collapsed": false
   },
   "outputs": [
    {
     "data": {
      "text/plain": [
       "[{x: -1/2*(b + sqrt(b^2 - 4*a*c))/a}, {x: -1/2*(b - sqrt(b^2 - 4*a*c))/a}]"
      ]
     },
     "execution_count": 17,
     "metadata": {
     },
     "output_type": "execute_result"
    }
   ],
   "source": [
    "sol = solve(a*x^2+b*x+c==0,x,solution_dict=True)\n",
    "sol"
   ]
  },
  {
   "cell_type": "code",
   "execution_count": 18,
   "id": "05ad87",
   "metadata": {
    "collapsed": false
   },
   "outputs": [
    {
     "data": {
      "text/plain": [
       "[[x == 5, y == 1]]"
      ]
     },
     "execution_count": 18,
     "metadata": {
     },
     "output_type": "execute_result"
    }
   ],
   "source": [
    "var('x,y')\n",
    "solve([x+y==6,x-y==4],[x,y])"
   ]
  },
  {
   "cell_type": "code",
   "execution_count": 19,
   "id": "a26d92",
   "metadata": {
    "collapsed": false
   },
   "outputs": [
    {
     "data": {
      "text/plain": [
       "[{x: 5, y: 1}]"
      ]
     },
     "execution_count": 19,
     "metadata": {
     },
     "output_type": "execute_result"
    }
   ],
   "source": [
    "solve([x+y==6,x-y==4],[x,y],solution_dict=True)"
   ]
  },
  {
   "cell_type": "code",
   "execution_count": 20,
   "id": "5c154e",
   "metadata": {
    "collapsed": false
   },
   "outputs": [
    {
     "data": {
      "text/plain": [
       "[[x == -r1 + 5, y == r1]]"
      ]
     },
     "execution_count": 20,
     "metadata": {
     },
     "output_type": "execute_result"
    }
   ],
   "source": [
    "solve([x+y==5],[x,y])"
   ]
  },
  {
   "cell_type": "code",
   "execution_count": 21,
   "id": "afd79b",
   "metadata": {
    "collapsed": false
   },
   "outputs": [
    {
     "data": {
      "text/plain": [
       "[[x == -1/2*sqrt(sqrt(3) + 2), y == 1/2*sqrt(sqrt(3) + 2)*(sqrt(3) - 2)], [x == 1/2*sqrt(sqrt(3) + 2), y == -1/2*sqrt(sqrt(3) + 2)*(sqrt(3) - 2)], [x == -1/2*sqrt(-sqrt(3) + 2), y == -1/4*sqrt(3)*sqrt(2) - 1/4*sqrt(2)], [x == 1/2*sqrt(-sqrt(3) + 2), y == 1/4*sqrt(3)*sqrt(2) + 1/4*sqrt(2)]]"
      ]
     },
     "execution_count": 21,
     "metadata": {
     },
     "output_type": "execute_result"
    }
   ],
   "source": [
    "var('x,y')\n",
    "solve([x^2+y^2==1, x*y==1/4],[x,y])"
   ]
  },
  {
   "cell_type": "code",
   "execution_count": 22,
   "id": "e8d48f",
   "metadata": {
    "collapsed": false
   },
   "outputs": [
    {
     "data": {
      "text/html": [
       "<html>\\(\\displaystyle \\left[\\left[x = -\\frac{1}{2} \\, \\sqrt{\\sqrt{3} + 2}, y = \\frac{1}{2} \\, \\sqrt{\\sqrt{3} + 2} {\\left(\\sqrt{3} - 2\\right)}\\right], \\left[x = \\frac{1}{2} \\, \\sqrt{\\sqrt{3} + 2}, y = -\\frac{1}{2} \\, \\sqrt{\\sqrt{3} + 2} {\\left(\\sqrt{3} - 2\\right)}\\right], \\left[x = -\\frac{1}{2} \\, \\sqrt{-\\sqrt{3} + 2}, y = -\\frac{1}{4} \\, \\sqrt{3} \\sqrt{2} - \\frac{1}{4} \\, \\sqrt{2}\\right], \\left[x = \\frac{1}{2} \\, \\sqrt{-\\sqrt{3} + 2}, y = \\frac{1}{4} \\, \\sqrt{3} \\sqrt{2} + \\frac{1}{4} \\, \\sqrt{2}\\right]\\right]\\)</html>"
      ],
      "text/latex": [
       "$\\displaystyle \\left[\\left[x = -\\frac{1}{2} \\, \\sqrt{\\sqrt{3} + 2}, y = \\frac{1}{2} \\, \\sqrt{\\sqrt{3} + 2} {\\left(\\sqrt{3} - 2\\right)}\\right], \\left[x = \\frac{1}{2} \\, \\sqrt{\\sqrt{3} + 2}, y = -\\frac{1}{2} \\, \\sqrt{\\sqrt{3} + 2} {\\left(\\sqrt{3} - 2\\right)}\\right], \\left[x = -\\frac{1}{2} \\, \\sqrt{-\\sqrt{3} + 2}, y = -\\frac{1}{4} \\, \\sqrt{3} \\sqrt{2} - \\frac{1}{4} \\, \\sqrt{2}\\right], \\left[x = \\frac{1}{2} \\, \\sqrt{-\\sqrt{3} + 2}, y = \\frac{1}{4} \\, \\sqrt{3} \\sqrt{2} + \\frac{1}{4} \\, \\sqrt{2}\\right]\\right]$"
      ],
      "text/plain": [
       "[[x == -1/2*sqrt(sqrt(3) + 2), y == 1/2*sqrt(sqrt(3) + 2)*(sqrt(3) - 2)], [x == 1/2*sqrt(sqrt(3) + 2), y == -1/2*sqrt(sqrt(3) + 2)*(sqrt(3) - 2)], [x == -1/2*sqrt(-sqrt(3) + 2), y == -1/4*sqrt(3)*sqrt(2) - 1/4*sqrt(2)], [x == 1/2*sqrt(-sqrt(3) + 2), y == 1/4*sqrt(3)*sqrt(2) + 1/4*sqrt(2)]]"
      ]
     },
     "execution_count": 22,
     "metadata": {
     },
     "output_type": "execute_result"
    }
   ],
   "source": [
    "# Solving a system of non linear equations\n",
    "var('x,y')\n",
    "s=solve([x^2+y^2==1, x*y==1/4],[x,y])\n",
    "show(s)"
   ]
  },
  {
   "cell_type": "code",
   "execution_count": 25,
   "id": "653508",
   "metadata": {
    "collapsed": false
   },
   "outputs": [
    {
     "data": {
      "text/html": [
       "<html>\\(\\displaystyle \\left[x = -\\frac{1}{2} \\, \\sqrt{\\sqrt{3} + 2}, y = \\frac{1}{2} \\, \\sqrt{\\sqrt{3} + 2} {\\left(\\sqrt{3} - 2\\right)}\\right]\\)</html>"
      ],
      "text/latex": [
       "$\\displaystyle \\left[x = -\\frac{1}{2} \\, \\sqrt{\\sqrt{3} + 2}, y = \\frac{1}{2} \\, \\sqrt{\\sqrt{3} + 2} {\\left(\\sqrt{3} - 2\\right)}\\right]$"
      ],
      "text/plain": [
       "[x == -1/2*sqrt(sqrt(3) + 2), y == 1/2*sqrt(sqrt(3) + 2)*(sqrt(3) - 2)]"
      ]
     },
     "execution_count": 25,
     "metadata": {
     },
     "output_type": "execute_result"
    }
   ],
   "source": [
    "show(s[0])"
   ]
  },
  {
   "cell_type": "code",
   "execution_count": 28,
   "id": "924a7c",
   "metadata": {
    "collapsed": false
   },
   "outputs": [
    {
     "data": {
      "text/html": [
       "<html>\\(\\displaystyle \\left[x = -\\frac{1}{2} \\, \\sqrt{\\sqrt{3} + 2}, y = \\frac{1}{2} \\, \\sqrt{\\sqrt{3} + 2} {\\left(\\sqrt{3} - 2\\right)}\\right]\\)</html>"
      ],
      "text/latex": [
       "$\\displaystyle \\left[x = -\\frac{1}{2} \\, \\sqrt{\\sqrt{3} + 2}, y = \\frac{1}{2} \\, \\sqrt{\\sqrt{3} + 2} {\\left(\\sqrt{3} - 2\\right)}\\right]$"
      ],
      "text/plain": [
       "[x == -1/2*sqrt(sqrt(3) + 2), y == 1/2*sqrt(sqrt(3) + 2)*(sqrt(3) - 2)]"
      ]
     },
     "execution_count": 28,
     "metadata": {
     },
     "output_type": "execute_result"
    },
    {
     "data": {
      "text/html": [
       "<html>\\(\\displaystyle \\left[x = \\frac{1}{2} \\, \\sqrt{\\sqrt{3} + 2}, y = -\\frac{1}{2} \\, \\sqrt{\\sqrt{3} + 2} {\\left(\\sqrt{3} - 2\\right)}\\right]\\)</html>"
      ],
      "text/latex": [
       "$\\displaystyle \\left[x = \\frac{1}{2} \\, \\sqrt{\\sqrt{3} + 2}, y = -\\frac{1}{2} \\, \\sqrt{\\sqrt{3} + 2} {\\left(\\sqrt{3} - 2\\right)}\\right]$"
      ],
      "text/plain": [
       "[x == 1/2*sqrt(sqrt(3) + 2), y == -1/2*sqrt(sqrt(3) + 2)*(sqrt(3) - 2)]"
      ]
     },
     "execution_count": 28,
     "metadata": {
     },
     "output_type": "execute_result"
    },
    {
     "data": {
      "text/html": [
       "<html>\\(\\displaystyle \\left[x = -\\frac{1}{2} \\, \\sqrt{-\\sqrt{3} + 2}, y = -\\frac{1}{4} \\, \\sqrt{3} \\sqrt{2} - \\frac{1}{4} \\, \\sqrt{2}\\right]\\)</html>"
      ],
      "text/latex": [
       "$\\displaystyle \\left[x = -\\frac{1}{2} \\, \\sqrt{-\\sqrt{3} + 2}, y = -\\frac{1}{4} \\, \\sqrt{3} \\sqrt{2} - \\frac{1}{4} \\, \\sqrt{2}\\right]$"
      ],
      "text/plain": [
       "[x == -1/2*sqrt(-sqrt(3) + 2), y == -1/4*sqrt(3)*sqrt(2) - 1/4*sqrt(2)]"
      ]
     },
     "execution_count": 28,
     "metadata": {
     },
     "output_type": "execute_result"
    },
    {
     "data": {
      "text/html": [
       "<html>\\(\\displaystyle \\left[x = \\frac{1}{2} \\, \\sqrt{-\\sqrt{3} + 2}, y = \\frac{1}{4} \\, \\sqrt{3} \\sqrt{2} + \\frac{1}{4} \\, \\sqrt{2}\\right]\\)</html>"
      ],
      "text/latex": [
       "$\\displaystyle \\left[x = \\frac{1}{2} \\, \\sqrt{-\\sqrt{3} + 2}, y = \\frac{1}{4} \\, \\sqrt{3} \\sqrt{2} + \\frac{1}{4} \\, \\sqrt{2}\\right]$"
      ],
      "text/plain": [
       "[x == 1/2*sqrt(-sqrt(3) + 2), y == 1/4*sqrt(3)*sqrt(2) + 1/4*sqrt(2)]"
      ]
     },
     "execution_count": 28,
     "metadata": {
     },
     "output_type": "execute_result"
    }
   ],
   "source": [
    "for i in range(len(s)):\n",
    "    show(s[i])"
   ]
  },
  {
   "cell_type": "code",
   "execution_count": 29,
   "id": "f7d146",
   "metadata": {
    "collapsed": false
   },
   "outputs": [
    {
     "data": {
      "text/plain": [
       "[[x > 0, x < (1/9)]]"
      ]
     },
     "execution_count": 29,
     "metadata": {
     },
     "output_type": "execute_result"
    }
   ],
   "source": [
    "solve(x^-2*x-1>8,x)"
   ]
  },
  {
   "cell_type": "code",
   "execution_count": 30,
   "id": "5dc8a5",
   "metadata": {
    "collapsed": false
   },
   "outputs": [
    {
     "data": {
      "text/html": [
       "<html>\\(\\displaystyle x^{2} + 2 \\, x y - 3 \\, y + e^{\\left(-x^{2} - y^{2}\\right)}\\)</html>"
      ],
      "text/latex": [
       "$\\displaystyle x^{2} + 2 \\, x y - 3 \\, y + e^{\\left(-x^{2} - y^{2}\\right)}$"
      ],
      "text/plain": [
       "x^2 + 2*x*y - 3*y + e^(-x^2 - y^2)"
      ]
     },
     "execution_count": 30,
     "metadata": {
     },
     "output_type": "execute_result"
    }
   ],
   "source": [
    "var('x,y')\n",
    "g(x,y) = x^2+2*x*y-3*y+exp(-x^2-y^2)\n",
    "show(g(x,y))"
   ]
  },
  {
   "cell_type": "code",
   "execution_count": 32,
   "id": "2422a1",
   "metadata": {
    "collapsed": false
   },
   "outputs": [
    {
     "data": {
      "text/html": [
       "<html>\\(\\displaystyle x^{3} - 2 \\, x^{2} - 5 \\, x + 6 = 0\\)</html>"
      ],
      "text/latex": [
       "$\\displaystyle x^{3} - 2 \\, x^{2} - 5 \\, x + 6 = 0$"
      ],
      "text/plain": [
       "x^3 - 2*x^2 - 5*x + 6 == 0"
      ]
     },
     "execution_count": 32,
     "metadata": {
     },
     "output_type": "execute_result"
    },
    {
     "data": {
      "text/plain": [
       "[{x: 3}, {x: -2}, {x: 1}]"
      ]
     },
     "execution_count": 32,
     "metadata": {
     },
     "output_type": "execute_result"
    }
   ],
   "source": [
    "#Find roots of x^3 − 2x^2 − 5x + 6 = 0 for x.\n",
    "var('x')\n",
    "show(x^3 - 2*x^2 - 5*x + 6==0)\n",
    "solve([x^3 - 2*x^2 - 5*x + 6==0],x,solution_dict=True)"
   ]
  },
  {
   "cell_type": "code",
   "execution_count": 34,
   "id": "22d750",
   "metadata": {
    "collapsed": false
   },
   "outputs": [
    {
     "data": {
      "text/html": [
       "<html>\\(\\displaystyle x^{2} + y^{2} = 4\\)</html>"
      ],
      "text/latex": [
       "$\\displaystyle x^{2} + y^{2} = 4$"
      ],
      "text/plain": [
       "x^2 + y^2 == 4"
      ]
     },
     "execution_count": 34,
     "metadata": {
     },
     "output_type": "execute_result"
    },
    {
     "data": {
      "text/html": [
       "<html>\\(\\displaystyle y = x^{2} - 2\\)</html>"
      ],
      "text/latex": [
       "$\\displaystyle y = x^{2} - 2$"
      ],
      "text/plain": [
       "y == x^2 - 2"
      ]
     },
     "execution_count": 34,
     "metadata": {
     },
     "output_type": "execute_result"
    },
    {
     "data": {
      "text/html": [
       "<html>\\(\\displaystyle \\left[\\left\\{x : -\\sqrt{3}, y : 1\\right\\}, \\left\\{x : \\sqrt{3}, y : 1\\right\\}, \\left\\{x : 0, y : -2\\right\\}\\right]\\)</html>"
      ],
      "text/latex": [
       "$\\displaystyle \\left[\\left\\{x : -\\sqrt{3}, y : 1\\right\\}, \\left\\{x : \\sqrt{3}, y : 1\\right\\}, \\left\\{x : 0, y : -2\\right\\}\\right]$"
      ],
      "text/plain": [
       "[{x: -sqrt(3), y: 1}, {x: sqrt(3), y: 1}, {x: 0, y: -2}]"
      ]
     },
     "execution_count": 34,
     "metadata": {
     },
     "output_type": "execute_result"
    }
   ],
   "source": [
    "#Ex Solve the system of non linear equations x2 + y2 = 4 and y = x2 − 2 for x and y\n",
    "var('x,y')\n",
    "show(x^2+y^2==4) \n",
    "show(y==x^2-2)\n",
    "s=solve([x^2+y^2==4, y==x^2-2],[x,y],solution_dict=True)\n",
    "show(s)"
   ]
  },
  {
   "cell_type": "code",
   "execution_count": 37,
   "id": "f00329",
   "metadata": {
    "collapsed": false
   },
   "outputs": [
    {
     "data": {
      "text/html": [
       "<html>\\(\\displaystyle x - 2 \\, y + 3 \\, z = 7\\)</html>"
      ],
      "text/latex": [
       "$\\displaystyle x - 2 \\, y + 3 \\, z = 7$"
      ],
      "text/plain": [
       "x - 2*y + 3*z == 7"
      ]
     },
     "execution_count": 37,
     "metadata": {
     },
     "output_type": "execute_result"
    },
    {
     "data": {
      "text/html": [
       "<html>\\(\\displaystyle 2 \\, x + y + z = 4\\)</html>"
      ],
      "text/latex": [
       "$\\displaystyle 2 \\, x + y + z = 4$"
      ],
      "text/plain": [
       "2*x + y + z == 4"
      ]
     },
     "execution_count": 37,
     "metadata": {
     },
     "output_type": "execute_result"
    },
    {
     "data": {
      "text/html": [
       "<html>\\(\\displaystyle 3 \\, x + 2 \\, y - 2 \\, z = \\left(-10\\right)\\)</html>"
      ],
      "text/latex": [
       "$\\displaystyle 3 \\, x + 2 \\, y - 2 \\, z = \\left(-10\\right)$"
      ],
      "text/plain": [
       "3*x + 2*y - 2*z == -10"
      ]
     },
     "execution_count": 37,
     "metadata": {
     },
     "output_type": "execute_result"
    },
    {
     "data": {
      "text/plain": [
       "[[x == 2, y == -1, z == 1]]"
      ]
     },
     "execution_count": 37,
     "metadata": {
     },
     "output_type": "execute_result"
    }
   ],
   "source": [
    "#Define a three linear equations in variables x, y, z and solve the same.\n",
    "var('x,y,z')\n",
    "show(x-2*y+3*z==7)\n",
    "show(2*x+y+z==4)\n",
    "show(3*x+2*y-2*z== - 10)\n",
    "solve([x-2*y+3*z==7, 2*x+y+z==4,-3*x+2*y-2*z== - 10],[x,y,z])\n"
   ]
  },
  {
   "cell_type": "code",
   "execution_count": 38,
   "id": "ea9d34",
   "metadata": {
    "collapsed": false
   },
   "outputs": [
    {
     "data": {
      "text/plain": [
       "[[x == 7, y == r2 + 3, z == r2]]"
      ]
     },
     "execution_count": 38,
     "metadata": {
     },
     "output_type": "execute_result"
    }
   ],
   "source": [
    "#How many solutions does 2x − 3y + 3z = 5 and x − y + z = 4 have? Find at least four different solutions.\n",
    "var('x,y,z')\n",
    "solve([2*x-3*y+3*z==5, x-y+z==4],[x,y,z])\n",
    "#Infinitely many solutions can be obtained by assigning different values to the parameter r1."
   ]
  }
 ],
 "metadata": {
  "kernelspec": {
   "argv": [
    "sage-10.3",
    "--python",
    "-m",
    "sage.repl.ipython_kernel",
    "--matplotlib=inline",
    "-f",
    "{connection_file}"
   ],
   "display_name": "SageMath 10.3",
   "env": {
   },
   "language": "sagemath",
   "metadata": {
    "cocalc": {
     "description": "Open-source mathematical software system",
     "priority": 10,
     "url": "https://www.sagemath.org/"
    }
   },
   "name": "sage-10.3",
   "resource_dir": "/ext/jupyter/kernels/sage-10.3"
  },
  "language_info": {
   "codemirror_mode": {
    "name": "ipython",
    "version": 3
   },
   "file_extension": ".py",
   "mimetype": "text/x-python",
   "name": "python",
   "nbconvert_exporter": "python",
   "pygments_lexer": "ipython3",
   "version": "3.11.1"
  }
 },
 "nbformat": 4,
 "nbformat_minor": 4
}